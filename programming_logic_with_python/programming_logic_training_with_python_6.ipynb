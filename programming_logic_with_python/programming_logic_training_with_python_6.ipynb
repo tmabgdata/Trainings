{
 "nbformat": 4,
 "nbformat_minor": 0,
 "metadata": {
  "colab": {
   "name": "programmin_logic_VI.ipynb",
   "provenance": [],
   "authorship_tag": "ABX9TyO5lDBIwaFu5haiLfigvEnG",
   "include_colab_link": true
  },
  "kernelspec": {
   "name": "python3",
   "display_name": "Python 3"
  },
  "language_info": {
   "name": "python"
  }
 },
 "cells": [
  {
   "cell_type": "markdown",
   "source": [
    "# Iterative algorithms. Repetition structures."
   ],
   "metadata": {
    "id": "nwZQ2k3BBN5A",
    "pycharm": {
     "name": "#%% md\n"
    }
   }
  },
  {
   "cell_type": "markdown",
   "source": [
    "## _*while*_ vs _*for*_\n",
    "\n",
    "- Perform the sequence of _*print*_ with _*for*_ and _*while*_\n",
    "- Integers from 3 to 12, with 12 included\n",
    "- Integers from 0 to 9, excluding 9 with a step of 2"
   ],
   "metadata": {
    "id": "98ouS-fOLKFY",
    "pycharm": {
     "name": "#%% md\n"
    }
   }
  },
  {
   "cell_type": "code",
   "execution_count": 1,
   "metadata": {
    "colab": {
     "base_uri": "https://localhost:8080/"
    },
    "id": "T2beq0nZ_S2g",
    "outputId": "c5e134f3-399c-4118-ba42-3e9890d6204e",
    "pycharm": {
     "name": "#%%\n"
    }
   },
   "outputs": [
    {
     "name": "stdout",
     "output_type": "stream",
     "text": [
      "0\n",
      "1\n",
      "2\n",
      "3\n",
      "4\n",
      "5\n",
      "6\n",
      "7\n",
      "8\n",
      "9\n",
      "10\n",
      "11\n",
      "12\n"
     ]
    }
   ],
   "source": [
    "x = 0\n",
    "while x <= 12:\n",
    "  print(x)\n",
    "  x += 1"
   ]
  },
  {
   "cell_type": "code",
   "source": [
    "for x in range (1, 13, 1):\n",
    "  print(x)"
   ],
   "metadata": {
    "colab": {
     "base_uri": "https://localhost:8080/"
    },
    "id": "Fk9Vw8dpMsyW",
    "outputId": "4028a0e3-20ab-447d-e0f8-82a8488509cd",
    "pycharm": {
     "name": "#%%\n"
    }
   },
   "execution_count": 2,
   "outputs": [
    {
     "name": "stdout",
     "output_type": "stream",
     "text": [
      "1\n",
      "2\n",
      "3\n",
      "4\n",
      "5\n",
      "6\n",
      "7\n",
      "8\n",
      "9\n",
      "10\n",
      "11\n",
      "12\n"
     ]
    }
   ]
  },
  {
   "cell_type": "code",
   "source": [
    "x = 0\n",
    "while x <= 12:\n",
    "  print(x)\n",
    "  x += 3"
   ],
   "metadata": {
    "colab": {
     "base_uri": "https://localhost:8080/"
    },
    "id": "GzslqYLjOROO",
    "outputId": "42f9eb55-c121-4091-c85b-5023b5a58db3",
    "pycharm": {
     "name": "#%%\n"
    }
   },
   "execution_count": 3,
   "outputs": [
    {
     "name": "stdout",
     "output_type": "stream",
     "text": [
      "0\n",
      "3\n",
      "6\n",
      "9\n",
      "12\n"
     ]
    }
   ]
  },
  {
   "cell_type": "code",
   "source": [
    "for x in range (0, 13, 3):\n",
    "  print(x)"
   ],
   "metadata": {
    "colab": {
     "base_uri": "https://localhost:8080/"
    },
    "id": "o2YobLV9OfA9",
    "outputId": "b9a7bfd3-3ddc-457a-cca6-a7fb49dc6940",
    "pycharm": {
     "name": "#%%\n"
    }
   },
   "execution_count": 4,
   "outputs": [
    {
     "name": "stdout",
     "output_type": "stream",
     "text": [
      "0\n",
      "3\n",
      "6\n",
      "9\n",
      "12\n"
     ]
    }
   ]
  },
  {
   "cell_type": "code",
   "source": [
    "x = 0\n",
    "while x < 9:\n",
    "  print(x)\n",
    "  x += 2"
   ],
   "metadata": {
    "colab": {
     "base_uri": "https://localhost:8080/"
    },
    "id": "MrElk2Q8OqBN",
    "outputId": "7128b8ab-5d84-461a-88be-e2fbafc50479",
    "pycharm": {
     "name": "#%%\n"
    }
   },
   "execution_count": 5,
   "outputs": [
    {
     "name": "stdout",
     "output_type": "stream",
     "text": [
      "0\n",
      "2\n",
      "4\n",
      "6\n",
      "8\n"
     ]
    }
   ]
  },
  {
   "cell_type": "code",
   "source": [
    "for x in range (0, 9, 2):\n",
    "  print(x)"
   ],
   "metadata": {
    "colab": {
     "base_uri": "https://localhost:8080/"
    },
    "id": "JPruVMZlPBMs",
    "outputId": "65be38f5-2e07-445f-ada9-ce7d9dd61c7d",
    "pycharm": {
     "name": "#%%\n"
    }
   },
   "execution_count": 6,
   "outputs": [
    {
     "name": "stdout",
     "output_type": "stream",
     "text": [
      "0\n",
      "2\n",
      "4\n",
      "6\n",
      "8\n"
     ]
    }
   ]
  },
  {
   "cell_type": "code",
   "source": [
    "print('CALC')\n",
    "print('+ Addition')\n",
    "print('- subtraction')\n",
    "print('* multiplication')\n",
    "print('/ division')\n",
    "print('Press the s key to exit. ')\n",
    "\n",
    "while True:\n",
    "\n",
    "  op = input('Which operation do you want to do? ')\n",
    "  if op == '+' or op == '-' or op == '*' or op == '/':\n",
    "    x = float(input('Enter the 1st value: '))\n",
    "    y = float(input('Enter the 2nd value: '))\n",
    "\n",
    "  if op == '+':\n",
    "    res = round(x + y, 2)\n",
    "    print(f'result {x} + {y} = {res}')\n",
    "    continue\n",
    "  elif op == '-':\n",
    "    res = round(x - y, 2)\n",
    "    print(f'result {x} - {y} = {res}')\n",
    "    continue\n",
    "  elif op == '*':\n",
    "    res = round(x * y, 2)\n",
    "    print(f'result {x} * {y} = {res}')\n",
    "    continue\n",
    "  elif op == '/':\n",
    "    res = round(x / y, 2)\n",
    "    print(f'result {x} / {y} = {res}')\n",
    "    continue\n",
    "  elif op == 's':\n",
    "    break\n",
    "  else:\n",
    "    print('Operation canceled.')\n",
    "print('Closing the program...')"
   ],
   "metadata": {
    "colab": {
     "base_uri": "https://localhost:8080/"
    },
    "id": "RUPvDCIdzLYK",
    "outputId": "97a97624-a631-4089-94f1-59cdc91edca8",
    "pycharm": {
     "name": "#%%\n"
    }
   },
   "execution_count": 7,
   "outputs": [
    {
     "name": "stdout",
     "output_type": "stream",
     "text": [
      "CALC\n",
      "+ Addition\n",
      "- subtraction\n",
      "* multiplication\n",
      "/ division\n",
      "Press the s key to exit. \n",
      "result 75.0 / 5.0 = 15.0\n",
      "Closing the program...\n"
     ]
    }
   ]
  },
  {
   "cell_type": "markdown",
   "source": [
    "#### Write an algorithm that reads an amount and prints the number of bills needed to pay that amount. For simplicity, we will work only with integer values and with banknotes of 100, 50, 20, 10, 5, 2 and 1."
   ],
   "metadata": {
    "id": "o3KKOIxPkYge",
    "pycharm": {
     "name": "#%% md\n"
    }
   }
  },
  {
   "cell_type": "code",
   "execution_count": 9,
   "outputs": [
    {
     "name": "stdout",
     "output_type": "stream",
     "text": [
      "100 bills: 5\n",
      "50 bills: 1\n",
      "10 bills: 1\n",
      "Bills of 5: 1\n"
     ]
    }
   ],
   "source": [
    "value = int(input('Enter the value in R$: '))\n",
    "\n",
    "while True:\n",
    "  if value >= 100:\n",
    "    banknotes100 = value // 100\n",
    "    value -= banknotes100 * 100\n",
    "    print(f'100 bills: {banknotes100}')\n",
    "    if not value:\n",
    "      break\n",
    "  if value >= 50:\n",
    "    banknotes50 = value // 50\n",
    "    value -= banknotes50 * 50\n",
    "    print(f'50 bills: {banknotes50}')\n",
    "    if not value:\n",
    "      break\n",
    "  if value >= 20:\n",
    "    banknotes20 = value // 20\n",
    "    value -= banknotes20 * 20\n",
    "    print(f'20 bills: {banknotes20}')\n",
    "    if not value:\n",
    "      break\n",
    "  if value >= 10:\n",
    "    banknotes10 = value // 10\n",
    "    value -= banknotes10 * 10\n",
    "    print(f'10 bills: {banknotes10}')\n",
    "    if not value:\n",
    "      break\n",
    "  if value >= 5:\n",
    "    banknotes5 = value // 5\n",
    "    value -= banknotes5 * 5\n",
    "    print(f'Bills of 5: {banknotes5}')\n",
    "    if not value:\n",
    "      break\n",
    "  if value >= 2:\n",
    "    banknotes2 = value // 2\n",
    "    value -= banknotes2 * 2\n",
    "    print(f'Banknotes of 2: {banknotes2}')\n",
    "    if not value:\n",
    "      break\n",
    "  if value >= 1:\n",
    "    coins1 = value // 1\n",
    "    value -= coins1 * 1\n",
    "    print(f'coins of 1: {coins1}')\n",
    "    if not value:\n",
    "      break"
   ],
   "metadata": {
    "collapsed": false,
    "pycharm": {
     "name": "#%%\n"
    }
   }
  }
 ]
}