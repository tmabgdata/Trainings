{
 "nbformat": 4,
 "nbformat_minor": 0,
 "metadata": {
  "colab": {
   "name": "programming_logic_IV.ipynb",
   "provenance": [],
   "collapsed_sections": [],
   "authorship_tag": "ABX9TyMaRhzDNuBgnG3Scwey4O2K",
   "include_colab_link": true
  },
  "kernelspec": {
   "name": "python3",
   "display_name": "Python 3"
  },
  "language_info": {
   "name": "python"
  }
 },
 "cells": [
  {
   "cell_type": "markdown",
   "source": [
    "# Algoritmos iterativos. Estruturas de repetição."
   ],
   "metadata": {
    "id": "kCZDYw7JxAvI",
    "pycharm": {
     "name": "#%% md\n"
    }
   }
  },
  {
   "cell_type": "markdown",
   "source": [
    "## while\n",
    "\n",
    "- Repeats a block of instructions while a given condition remains true.\n",
    "- Otherwise, branching to the first line of code after this repetition block occurs."
   ],
   "metadata": {
    "id": "rpcu_NVRzdIX",
    "pycharm": {
     "name": "#%% md\n"
    }
   }
  },
  {
   "cell_type": "code",
   "execution_count": 1,
   "metadata": {
    "colab": {
     "base_uri": "https://localhost:8080/"
    },
    "id": "zjopPl5hw74D",
    "outputId": "31db1d88-aae6-49bd-f7a6-1f98b6286e74",
    "pycharm": {
     "name": "#%%\n"
    }
   },
   "outputs": [
    {
     "name": "stdout",
     "output_type": "stream",
     "text": [
      "1\n",
      "2\n",
      "3\n",
      "4\n",
      "5\n"
     ]
    }
   ],
   "source": [
    "x = 1\n",
    "while x <= 5:\n",
    "  print(x)\n",
    "  x = x + 1"
   ]
  },
  {
   "cell_type": "markdown",
   "source": [
    "#### control variable\n",
    "\n",
    "- Defines the stop condition with which the loop is executed.\n",
    "- We call _**iterator**_ the control variable that counts the number of times the loop is being executed."
   ],
   "metadata": {
    "id": "y5DRlV211K2g",
    "pycharm": {
     "name": "#%% md\n"
    }
   }
  },
  {
   "cell_type": "code",
   "source": [
    "x = 0\n",
    "while x <= 99:\n",
    "  print(x)\n",
    "  x = x + 1"
   ],
   "metadata": {
    "id": "URnD_4ek0ybL",
    "pycharm": {
     "name": "#%%\n"
    }
   },
   "execution_count": 3,
   "outputs": [
    {
     "name": "stdout",
     "output_type": "stream",
     "text": [
      "0\n",
      "1\n",
      "2\n",
      "3\n",
      "4\n",
      "5\n",
      "6\n",
      "7\n",
      "8\n",
      "9\n",
      "10\n",
      "11\n",
      "12\n",
      "13\n",
      "14\n",
      "15\n",
      "16\n",
      "17\n",
      "18\n",
      "19\n",
      "20\n",
      "21\n",
      "22\n",
      "23\n",
      "24\n",
      "25\n",
      "26\n",
      "27\n",
      "28\n",
      "29\n",
      "30\n",
      "31\n",
      "32\n",
      "33\n",
      "34\n",
      "35\n",
      "36\n",
      "37\n",
      "38\n",
      "39\n",
      "40\n",
      "41\n",
      "42\n",
      "43\n",
      "44\n",
      "45\n",
      "46\n",
      "47\n",
      "48\n",
      "49\n",
      "50\n",
      "51\n",
      "52\n",
      "53\n",
      "54\n",
      "55\n",
      "56\n",
      "57\n",
      "58\n",
      "59\n",
      "60\n",
      "61\n",
      "62\n",
      "63\n",
      "64\n",
      "65\n",
      "66\n",
      "67\n",
      "68\n",
      "69\n",
      "70\n",
      "71\n",
      "72\n",
      "73\n",
      "74\n",
      "75\n",
      "76\n",
      "77\n",
      "78\n",
      "79\n",
      "80\n",
      "81\n",
      "82\n",
      "83\n",
      "84\n",
      "85\n",
      "86\n",
      "87\n",
      "88\n",
      "89\n",
      "90\n",
      "91\n",
      "92\n",
      "93\n",
      "94\n",
      "95\n",
      "96\n",
      "97\n",
      "98\n",
      "99\n"
     ]
    }
   ]
  },
  {
   "cell_type": "code",
   "source": [
    "x = 0\n",
    "while x < 100:\n",
    "  print(x)\n",
    "  x = x + 1"
   ],
   "metadata": {
    "id": "SCjdMC2M2JFD",
    "pycharm": {
     "name": "#%%\n"
    }
   },
   "execution_count": null,
   "outputs": []
  },
  {
   "cell_type": "markdown",
   "source": [
    "#### Write an algorithm that prints to the screen only values within a user-specified range that are even numbers (COUNTER)"
   ],
   "metadata": {
    "id": "jD8yRAXc4h_P",
    "pycharm": {
     "name": "#%% md\n"
    }
   }
  },
  {
   "cell_type": "code",
   "source": [
    "initial = int(input('What value do you want to start counting? '))\n",
    "final = int(input('What value do you want to end the count? '))\n",
    "x = initial\n",
    "while x <= final:\n",
    "  if x % 2 == 0:\n",
    "    print(x)\n",
    "  x = x + 1"
   ],
   "metadata": {
    "colab": {
     "base_uri": "https://localhost:8080/"
    },
    "id": "MwMi0RDe2Gmf",
    "outputId": "877b4506-812e-4a79-cd33-c4e9ac78bf39",
    "pycharm": {
     "name": "#%%\n"
    }
   },
   "execution_count": 4,
   "outputs": [
    {
     "name": "stdout",
     "output_type": "stream",
     "text": [
      "50\n",
      "52\n",
      "54\n",
      "56\n",
      "58\n",
      "60\n",
      "62\n",
      "64\n",
      "66\n",
      "68\n",
      "70\n",
      "72\n",
      "74\n",
      "76\n",
      "78\n",
      "80\n",
      "82\n",
      "84\n",
      "86\n",
      "88\n",
      "90\n",
      "92\n",
      "94\n"
     ]
    }
   ]
  },
  {
   "cell_type": "markdown",
   "source": [
    "#### Write an algorithm that calculates your grade point average in a given subject. Let's assume that the final average is given by the arithmetic mean of five typed grades. (ACCUMULATOR)\n",
    "\n"
   ],
   "metadata": {
    "id": "aFFCyqkz82dL",
    "pycharm": {
     "name": "#%% md\n"
    }
   }
  },
  {
   "cell_type": "code",
   "source": [
    "sum = 0\n",
    "count = 1\n",
    "while count <= 5:\n",
    "  x = float(input(f'Enter the {count}th grade: '))\n",
    "  sum = sum + x\n",
    "  count = count + 1\n",
    "avg = round(sum / 5, 2)\n",
    "print(f'Final average: {avg}')"
   ],
   "metadata": {
    "colab": {
     "base_uri": "https://localhost:8080/"
    },
    "id": "JlihlZip5hBM",
    "outputId": "f2227a8d-ec8d-48b5-d8ad-503251307ecf",
    "pycharm": {
     "name": "#%%\n"
    }
   },
   "execution_count": 6,
   "outputs": [
    {
     "name": "stdout",
     "output_type": "stream",
     "text": [
      "Final average: 9.36\n"
     ]
    }
   ]
  },
  {
   "cell_type": "markdown",
   "source": [
    "### Advanced Features and Features of Python Loops"
   ],
   "metadata": {
    "id": "K57T4fByGyWE",
    "pycharm": {
     "name": "#%% md\n"
    }
   }
  },
  {
   "cell_type": "markdown",
   "source": [
    "#### special assignment operators"
   ],
   "metadata": {
    "id": "ZFVWMtLLG9lp",
    "pycharm": {
     "name": "#%% md\n"
    }
   }
  },
  {
   "cell_type": "code",
   "source": [
    "sum = 0\n",
    "count = 1\n",
    "while count <= 5:\n",
    "  x = int(input(f'Enter the {count}th number: '))\n",
    "  sum += x # equivalent: sum = sum + x\n",
    "  count += 1 # equivalent: count = count + 1\n",
    "print(f'Sum: {sum}. ')"
   ],
   "metadata": {
    "colab": {
     "base_uri": "https://localhost:8080/"
    },
    "id": "kj_rB9cv_LgX",
    "outputId": "9b59f627-4799-46ae-8e77-aeacb1235808",
    "pycharm": {
     "name": "#%%\n"
    }
   },
   "execution_count": 7,
   "outputs": [
    {
     "name": "stdout",
     "output_type": "stream",
     "text": [
      "Sum: 321. \n"
     ]
    }
   ]
  },
  {
   "cell_type": "markdown",
   "source": [
    "#### Create an algorithm that receives an integer value via keyboard. However, the program must only accept integer and positive values. Any negative value, or equal to zero, must be rejected by the program and a new value must be requested."
   ],
   "metadata": {
    "id": "4G2TP1uhfOjN",
    "pycharm": {
     "name": "#%% md\n"
    }
   }
  },
  {
   "cell_type": "code",
   "source": [
    "# validating the input\n",
    "x = int(input('Enter a value greater than zero: '))\n",
    "while x <= 0:\n",
    "  x = int(input('Enter a value greater than zero: '))\n",
    "print(f'You typed {x}. Terminating the program...')"
   ],
   "metadata": {
    "colab": {
     "base_uri": "https://localhost:8080/"
    },
    "id": "mGdE5-n_cWP8",
    "outputId": "c2bd3578-b2ac-440c-f333-d8bfde64840e",
    "pycharm": {
     "name": "#%%\n"
    }
   },
   "execution_count": 8,
   "outputs": [
    {
     "name": "stdout",
     "output_type": "stream",
     "text": [
      "You typed 45. Terminating the program...\n"
     ]
    }
   ]
  },
  {
   "cell_type": "markdown",
   "source": [
    "#### Write an algorithm that keeps getting phrases or words typed by the user. Quit the program when the word _**exit**_ is typed."
   ],
   "metadata": {
    "id": "CLL-5HqogRCz",
    "pycharm": {
     "name": "#%% md\n"
    }
   }
  },
  {
   "cell_type": "code",
   "source": [
    "# Breaking a loop with break\n",
    "print('Enter a message that I will repeat to you!')\n",
    "print('To close, type \"exit\".')\n",
    "while True:\n",
    "  text = input('')\n",
    "  print(text)\n",
    "  if text == 'exit':\n",
    "    break\n",
    "print('Closing the Program...')"
   ],
   "metadata": {
    "colab": {
     "base_uri": "https://localhost:8080/"
    },
    "id": "jIPK66ULc3-_",
    "outputId": "4b87ae93-4281-4b7a-8af1-fa30ac74ce31",
    "pycharm": {
     "name": "#%%\n"
    }
   },
   "execution_count": 9,
   "outputs": [
    {
     "name": "stdout",
     "output_type": "stream",
     "text": [
      "Enter a message that I will repeat to you!\n",
      "To close, type \"exit\".\n",
      "Thiago Alves\n",
      "Manowar\n",
      "Tristania\n",
      "exit\n",
      "Closing the Program...\n"
     ]
    }
   ]
  },
  {
   "cell_type": "markdown",
   "source": [
    "### The _continue_ server command to return the loop to the beginning at any time, regardless of the state of the loop's conditional control variable."
   ],
   "metadata": {
    "id": "B2DI8GtXhe6N",
    "pycharm": {
     "name": "#%% md\n"
    }
   }
  },
  {
   "cell_type": "markdown",
   "source": [
    "#### Write an algorithm that _login_ into a system. The user must enter his name and password."
   ],
   "metadata": {
    "id": "dJZ8z-hOh4ng",
    "pycharm": {
     "name": "#%% md\n"
    }
   }
  },
  {
   "cell_type": "code",
   "source": [
    "# Returning to the beginning of the loop with continue\n",
    "while True:\n",
    "  name = input('Whats your name? ')\n",
    "  if name != 'Little Woodsman':\n",
    "    continue\n",
    "  password = input('What is your password? ')\n",
    "  if password == 'UnInTeR!#$DaTa':\n",
    "    break\n",
    "print('Access granted.')"
   ],
   "metadata": {
    "colab": {
     "base_uri": "https://localhost:8080/"
    },
    "id": "4QMWnIHUhPSS",
    "outputId": "208ff16b-3699-4365-ab17-029af62745e8",
    "pycharm": {
     "name": "#%%\n"
    }
   },
   "execution_count": 10,
   "outputs": [
    {
     "name": "stdout",
     "output_type": "stream",
     "text": [
      "Access granted.\n"
     ]
    }
   ]
  },
  {
   "cell_type": "markdown",
   "source": [
    "### \"Truthy\" and \"Falsey\" values\""
   ],
   "metadata": {
    "id": "Y4-sMuqHj1NO",
    "pycharm": {
     "name": "#%% md\n"
    }
   }
  },
  {
   "cell_type": "markdown",
   "source": [
    "- Non-Boolean data can also be treated as True or False in a condition, be it a conditional structure or a loop.\n",
    "- False / False\n",
    "   - Number zero (int or float) and empty string.\n",
    "- Truthy/True\n",
    "   - Any other data"
   ],
   "metadata": {
    "id": "EQgLrozxnENW",
    "pycharm": {
     "name": "#%% md\n"
    }
   }
  },
  {
   "cell_type": "code",
   "source": [
    "name = ''\n",
    "while not name:\n",
    "  name = input('Enter your name: ')\n",
    "value = int(input('Enter any number: '))\n",
    "if value:\n",
    "  print('You have entered a non-zero value.')\n",
    "else:\n",
    "  print('You entered zero.')"
   ],
   "metadata": {
    "colab": {
     "base_uri": "https://localhost:8080/"
    },
    "id": "HKoz-Fv4iobr",
    "outputId": "6fa9f98a-c1bf-440c-dbc6-e8da6ade42e4",
    "pycharm": {
     "name": "#%%\n"
    }
   },
   "execution_count": 11,
   "outputs": [
    {
     "name": "stdout",
     "output_type": "stream",
     "text": [
      "You have entered a non-zero value.\n"
     ]
    }
   ]
  },
  {
   "cell_type": "markdown",
   "source": [
    "## For (to)\n",
    "\n",
    "- Like _while_, this structure repeats a block of statements while a condition remains true.\n",
    "- However, unlike _while_, _for_ is used in situations where **the number of times the loop will execute is finite and well defined**.\n",
    "- Can we set the initial value of the iterator? **Yes**\n",
    "- Can we set the pitch? **Yes**"
   ],
   "metadata": {
    "id": "iBFhH2ZCooBw",
    "pycharm": {
     "name": "#%% md\n"
    }
   }
  },
  {
   "cell_type": "code",
   "source": [
    "for i in range(6):\n",
    "  print(i)"
   ],
   "metadata": {
    "colab": {
     "base_uri": "https://localhost:8080/"
    },
    "id": "evpdG-lgovjo",
    "outputId": "f0e55ce2-54a7-4fb2-a9ba-6d388dc046f3",
    "pycharm": {
     "name": "#%%\n"
    }
   },
   "execution_count": 12,
   "outputs": [
    {
     "name": "stdout",
     "output_type": "stream",
     "text": [
      "0\n",
      "1\n",
      "2\n",
      "3\n",
      "4\n",
      "5\n"
     ]
    }
   ]
  },
  {
   "cell_type": "code",
   "source": [
    "for i in range(1,6,1):\n",
    "  print(i)"
   ],
   "metadata": {
    "colab": {
     "base_uri": "https://localhost:8080/"
    },
    "id": "nl1QVW60qUG9",
    "outputId": "07c6023e-dc40-4092-aac4-4abc64b8ffd4",
    "pycharm": {
     "name": "#%%\n"
    }
   },
   "execution_count": 13,
   "outputs": [
    {
     "name": "stdout",
     "output_type": "stream",
     "text": [
      "1\n",
      "2\n",
      "3\n",
      "4\n",
      "5\n"
     ]
    }
   ]
  },
  {
   "cell_type": "code",
   "source": [
    "for i in range(10,0,-2):\n",
    "  print(i)"
   ],
   "metadata": {
    "colab": {
     "base_uri": "https://localhost:8080/"
    },
    "id": "NUj5LcnprAeh",
    "outputId": "b80e613c-f430-4c3d-e3c5-bdd48aa1b921",
    "pycharm": {
     "name": "#%%\n"
    }
   },
   "execution_count": 14,
   "outputs": [
    {
     "name": "stdout",
     "output_type": "stream",
     "text": [
      "10\n",
      "8\n",
      "6\n",
      "4\n",
      "2\n"
     ]
    }
   ]
  },
  {
   "cell_type": "code",
   "source": [
    "sum = 0\n",
    "qty = 0\n",
    "for i in range(1, 101):\n",
    "  if i % 2 == 0:\n",
    "    sum += i\n",
    "    qty += 1\n",
    "average = sum / qty\n",
    "print(f'The average of the pairs from 1 to 100 is : {average}')"
   ],
   "metadata": {
    "colab": {
     "base_uri": "https://localhost:8080/"
    },
    "id": "mwYWNnj4rLxM",
    "outputId": "a4827ddc-ccae-477a-80f8-787bcbeb66b3",
    "pycharm": {
     "name": "#%%\n"
    }
   },
   "execution_count": 15,
   "outputs": [
    {
     "name": "stdout",
     "output_type": "stream",
     "text": [
      "The average of the pairs from 1 to 100 is : 51.0\n"
     ]
    }
   ]
  },
  {
   "cell_type": "markdown",
   "source": [
    "#### Nested repeating structures\n",
    "\n",
    "- We can insert loops inside other loops\n",
    "- There are no limits to how many loops we can put inside each other\n",
    "- We can mix _**while**_ and _**for**_."
   ],
   "metadata": {
    "id": "tpOscfm8xGlW",
    "pycharm": {
     "name": "#%% md\n"
    }
   }
  },
  {
   "cell_type": "markdown",
   "source": [
    "Write an algorithm in Python that calculates the multiplication table of all numbers from 1 to 10, and for each number, we will calculate the multiplication table by multiplying it by the range from 1 to 10."
   ],
   "metadata": {
    "id": "y8V__Zmvx-Ct",
    "pycharm": {
     "name": "#%% md\n"
    }
   }
  },
  {
   "cell_type": "markdown",
   "source": [
    "- Let's solve in Python, different implementations:\n",
    "   - 2 - while\n",
    "   - 2 - for\n",
    "   - while + for"
   ],
   "metadata": {
    "id": "aCRgDKaIypBQ",
    "pycharm": {
     "name": "#%% md\n"
    }
   }
  },
  {
   "cell_type": "code",
   "source": [
    "# 2 while\n",
    "multiplication_table = 1\n",
    "while multiplication_table <= 10:\n",
    "  print(f'TABLE OF {multiplication_table}:')\n",
    "  i = 1\n",
    "  while i <= 10:\n",
    "    print(f'{multiplication_table} x {i} = {multiplication_table * i}')\n",
    "    i += 1\n",
    "  multiplication_table += 1"
   ],
   "metadata": {
    "id": "7FMwbk20s-gr",
    "colab": {
     "base_uri": "https://localhost:8080/"
    },
    "outputId": "950e84e8-96e2-45af-902a-bd57991020c5",
    "pycharm": {
     "name": "#%%\n"
    }
   },
   "execution_count": 17,
   "outputs": [
    {
     "name": "stdout",
     "output_type": "stream",
     "text": [
      "TABLE OF 1:\n",
      "1 x 1 = 1\n",
      "1 x 2 = 2\n",
      "1 x 3 = 3\n",
      "1 x 4 = 4\n",
      "1 x 5 = 5\n",
      "1 x 6 = 6\n",
      "1 x 7 = 7\n",
      "1 x 8 = 8\n",
      "1 x 9 = 9\n",
      "1 x 10 = 10\n",
      "TABLE OF 2:\n",
      "2 x 1 = 2\n",
      "2 x 2 = 4\n",
      "2 x 3 = 6\n",
      "2 x 4 = 8\n",
      "2 x 5 = 10\n",
      "2 x 6 = 12\n",
      "2 x 7 = 14\n",
      "2 x 8 = 16\n",
      "2 x 9 = 18\n",
      "2 x 10 = 20\n",
      "TABLE OF 3:\n",
      "3 x 1 = 3\n",
      "3 x 2 = 6\n",
      "3 x 3 = 9\n",
      "3 x 4 = 12\n",
      "3 x 5 = 15\n",
      "3 x 6 = 18\n",
      "3 x 7 = 21\n",
      "3 x 8 = 24\n",
      "3 x 9 = 27\n",
      "3 x 10 = 30\n",
      "TABLE OF 4:\n",
      "4 x 1 = 4\n",
      "4 x 2 = 8\n",
      "4 x 3 = 12\n",
      "4 x 4 = 16\n",
      "4 x 5 = 20\n",
      "4 x 6 = 24\n",
      "4 x 7 = 28\n",
      "4 x 8 = 32\n",
      "4 x 9 = 36\n",
      "4 x 10 = 40\n",
      "TABLE OF 5:\n",
      "5 x 1 = 5\n",
      "5 x 2 = 10\n",
      "5 x 3 = 15\n",
      "5 x 4 = 20\n",
      "5 x 5 = 25\n",
      "5 x 6 = 30\n",
      "5 x 7 = 35\n",
      "5 x 8 = 40\n",
      "5 x 9 = 45\n",
      "5 x 10 = 50\n",
      "TABLE OF 6:\n",
      "6 x 1 = 6\n",
      "6 x 2 = 12\n",
      "6 x 3 = 18\n",
      "6 x 4 = 24\n",
      "6 x 5 = 30\n",
      "6 x 6 = 36\n",
      "6 x 7 = 42\n",
      "6 x 8 = 48\n",
      "6 x 9 = 54\n",
      "6 x 10 = 60\n",
      "TABLE OF 7:\n",
      "7 x 1 = 7\n",
      "7 x 2 = 14\n",
      "7 x 3 = 21\n",
      "7 x 4 = 28\n",
      "7 x 5 = 35\n",
      "7 x 6 = 42\n",
      "7 x 7 = 49\n",
      "7 x 8 = 56\n",
      "7 x 9 = 63\n",
      "7 x 10 = 70\n",
      "TABLE OF 8:\n",
      "8 x 1 = 8\n",
      "8 x 2 = 16\n",
      "8 x 3 = 24\n",
      "8 x 4 = 32\n",
      "8 x 5 = 40\n",
      "8 x 6 = 48\n",
      "8 x 7 = 56\n",
      "8 x 8 = 64\n",
      "8 x 9 = 72\n",
      "8 x 10 = 80\n",
      "TABLE OF 9:\n",
      "9 x 1 = 9\n",
      "9 x 2 = 18\n",
      "9 x 3 = 27\n",
      "9 x 4 = 36\n",
      "9 x 5 = 45\n",
      "9 x 6 = 54\n",
      "9 x 7 = 63\n",
      "9 x 8 = 72\n",
      "9 x 9 = 81\n",
      "9 x 10 = 90\n",
      "TABLE OF 10:\n",
      "10 x 1 = 10\n",
      "10 x 2 = 20\n",
      "10 x 3 = 30\n",
      "10 x 4 = 40\n",
      "10 x 5 = 50\n",
      "10 x 6 = 60\n",
      "10 x 7 = 70\n",
      "10 x 8 = 80\n",
      "10 x 9 = 90\n",
      "10 x 10 = 100\n"
     ]
    }
   ]
  },
  {
   "cell_type": "code",
   "source": [
    "# 2 for \n",
    "for multiplication_table in range (1, 11, 1):\n",
    "  print(f'TABLE OF {multiplication_table}:')\n",
    "  for i in range (1, 11, 1):\n",
    "    print(f'{multiplication_table} x {i} = {multiplication_table * i}')"
   ],
   "metadata": {
    "colab": {
     "base_uri": "https://localhost:8080/"
    },
    "id": "1NK31XJHzceA",
    "outputId": "052bbad5-0a62-403b-b154-4d10597f17f1",
    "pycharm": {
     "name": "#%%\n"
    }
   },
   "execution_count": 18,
   "outputs": [
    {
     "name": "stdout",
     "output_type": "stream",
     "text": [
      "TABLE OF 1:\n",
      "1 x 1 = 1\n",
      "1 x 2 = 2\n",
      "1 x 3 = 3\n",
      "1 x 4 = 4\n",
      "1 x 5 = 5\n",
      "1 x 6 = 6\n",
      "1 x 7 = 7\n",
      "1 x 8 = 8\n",
      "1 x 9 = 9\n",
      "1 x 10 = 10\n",
      "TABLE OF 2:\n",
      "2 x 1 = 2\n",
      "2 x 2 = 4\n",
      "2 x 3 = 6\n",
      "2 x 4 = 8\n",
      "2 x 5 = 10\n",
      "2 x 6 = 12\n",
      "2 x 7 = 14\n",
      "2 x 8 = 16\n",
      "2 x 9 = 18\n",
      "2 x 10 = 20\n",
      "TABLE OF 3:\n",
      "3 x 1 = 3\n",
      "3 x 2 = 6\n",
      "3 x 3 = 9\n",
      "3 x 4 = 12\n",
      "3 x 5 = 15\n",
      "3 x 6 = 18\n",
      "3 x 7 = 21\n",
      "3 x 8 = 24\n",
      "3 x 9 = 27\n",
      "3 x 10 = 30\n",
      "TABLE OF 4:\n",
      "4 x 1 = 4\n",
      "4 x 2 = 8\n",
      "4 x 3 = 12\n",
      "4 x 4 = 16\n",
      "4 x 5 = 20\n",
      "4 x 6 = 24\n",
      "4 x 7 = 28\n",
      "4 x 8 = 32\n",
      "4 x 9 = 36\n",
      "4 x 10 = 40\n",
      "TABLE OF 5:\n",
      "5 x 1 = 5\n",
      "5 x 2 = 10\n",
      "5 x 3 = 15\n",
      "5 x 4 = 20\n",
      "5 x 5 = 25\n",
      "5 x 6 = 30\n",
      "5 x 7 = 35\n",
      "5 x 8 = 40\n",
      "5 x 9 = 45\n",
      "5 x 10 = 50\n",
      "TABLE OF 6:\n",
      "6 x 1 = 6\n",
      "6 x 2 = 12\n",
      "6 x 3 = 18\n",
      "6 x 4 = 24\n",
      "6 x 5 = 30\n",
      "6 x 6 = 36\n",
      "6 x 7 = 42\n",
      "6 x 8 = 48\n",
      "6 x 9 = 54\n",
      "6 x 10 = 60\n",
      "TABLE OF 7:\n",
      "7 x 1 = 7\n",
      "7 x 2 = 14\n",
      "7 x 3 = 21\n",
      "7 x 4 = 28\n",
      "7 x 5 = 35\n",
      "7 x 6 = 42\n",
      "7 x 7 = 49\n",
      "7 x 8 = 56\n",
      "7 x 9 = 63\n",
      "7 x 10 = 70\n",
      "TABLE OF 8:\n",
      "8 x 1 = 8\n",
      "8 x 2 = 16\n",
      "8 x 3 = 24\n",
      "8 x 4 = 32\n",
      "8 x 5 = 40\n",
      "8 x 6 = 48\n",
      "8 x 7 = 56\n",
      "8 x 8 = 64\n",
      "8 x 9 = 72\n",
      "8 x 10 = 80\n",
      "TABLE OF 9:\n",
      "9 x 1 = 9\n",
      "9 x 2 = 18\n",
      "9 x 3 = 27\n",
      "9 x 4 = 36\n",
      "9 x 5 = 45\n",
      "9 x 6 = 54\n",
      "9 x 7 = 63\n",
      "9 x 8 = 72\n",
      "9 x 9 = 81\n",
      "9 x 10 = 90\n",
      "TABLE OF 10:\n",
      "10 x 1 = 10\n",
      "10 x 2 = 20\n",
      "10 x 3 = 30\n",
      "10 x 4 = 40\n",
      "10 x 5 = 50\n",
      "10 x 6 = 60\n",
      "10 x 7 = 70\n",
      "10 x 8 = 80\n",
      "10 x 9 = 90\n",
      "10 x 10 = 100\n"
     ]
    }
   ]
  },
  {
   "cell_type": "code",
   "execution_count": 19,
   "outputs": [
    {
     "name": "stdout",
     "output_type": "stream",
     "text": [
      "TABLE OF 1\n",
      "1 x 1 = 1\n",
      "1 x 2 = 2\n",
      "1 x 3 = 3\n",
      "1 x 4 = 4\n",
      "1 x 5 = 5\n",
      "1 x 6 = 6\n",
      "1 x 7 = 7\n",
      "1 x 8 = 8\n",
      "1 x 9 = 9\n",
      "1 x 10 = 10\n",
      "TABLE OF 2\n",
      "2 x 1 = 2\n",
      "2 x 2 = 4\n",
      "2 x 3 = 6\n",
      "2 x 4 = 8\n",
      "2 x 5 = 10\n",
      "2 x 6 = 12\n",
      "2 x 7 = 14\n",
      "2 x 8 = 16\n",
      "2 x 9 = 18\n",
      "2 x 10 = 20\n",
      "TABLE OF 3\n",
      "3 x 1 = 3\n",
      "3 x 2 = 6\n",
      "3 x 3 = 9\n",
      "3 x 4 = 12\n",
      "3 x 5 = 15\n",
      "3 x 6 = 18\n",
      "3 x 7 = 21\n",
      "3 x 8 = 24\n",
      "3 x 9 = 27\n",
      "3 x 10 = 30\n",
      "TABLE OF 4\n",
      "4 x 1 = 4\n",
      "4 x 2 = 8\n",
      "4 x 3 = 12\n",
      "4 x 4 = 16\n",
      "4 x 5 = 20\n",
      "4 x 6 = 24\n",
      "4 x 7 = 28\n",
      "4 x 8 = 32\n",
      "4 x 9 = 36\n",
      "4 x 10 = 40\n",
      "TABLE OF 5\n",
      "5 x 1 = 5\n",
      "5 x 2 = 10\n",
      "5 x 3 = 15\n",
      "5 x 4 = 20\n",
      "5 x 5 = 25\n",
      "5 x 6 = 30\n",
      "5 x 7 = 35\n",
      "5 x 8 = 40\n",
      "5 x 9 = 45\n",
      "5 x 10 = 50\n",
      "TABLE OF 6\n",
      "6 x 1 = 6\n",
      "6 x 2 = 12\n",
      "6 x 3 = 18\n",
      "6 x 4 = 24\n",
      "6 x 5 = 30\n",
      "6 x 6 = 36\n",
      "6 x 7 = 42\n",
      "6 x 8 = 48\n",
      "6 x 9 = 54\n",
      "6 x 10 = 60\n",
      "TABLE OF 7\n",
      "7 x 1 = 7\n",
      "7 x 2 = 14\n",
      "7 x 3 = 21\n",
      "7 x 4 = 28\n",
      "7 x 5 = 35\n",
      "7 x 6 = 42\n",
      "7 x 7 = 49\n",
      "7 x 8 = 56\n",
      "7 x 9 = 63\n",
      "7 x 10 = 70\n",
      "TABLE OF 8\n",
      "8 x 1 = 8\n",
      "8 x 2 = 16\n",
      "8 x 3 = 24\n",
      "8 x 4 = 32\n",
      "8 x 5 = 40\n",
      "8 x 6 = 48\n",
      "8 x 7 = 56\n",
      "8 x 8 = 64\n",
      "8 x 9 = 72\n",
      "8 x 10 = 80\n",
      "TABLE OF 9\n",
      "9 x 1 = 9\n",
      "9 x 2 = 18\n",
      "9 x 3 = 27\n",
      "9 x 4 = 36\n",
      "9 x 5 = 45\n",
      "9 x 6 = 54\n",
      "9 x 7 = 63\n",
      "9 x 8 = 72\n",
      "9 x 9 = 81\n",
      "9 x 10 = 90\n",
      "TABLE OF 10\n",
      "10 x 1 = 10\n",
      "10 x 2 = 20\n",
      "10 x 3 = 30\n",
      "10 x 4 = 40\n",
      "10 x 5 = 50\n",
      "10 x 6 = 60\n",
      "10 x 7 = 70\n",
      "10 x 8 = 80\n",
      "10 x 9 = 90\n",
      "10 x 10 = 100\n"
     ]
    }
   ],
   "source": [
    "# while + for\n",
    "multiplication_table = 1\n",
    "while multiplication_table <= 10:\n",
    "  print(f'TABLE OF {multiplication_table}')\n",
    "  for i in range (1, 11, 1):\n",
    "    print(f'{multiplication_table} x {i} = {multiplication_table * i}')\n",
    "  multiplication_table += 1"
   ],
   "metadata": {
    "collapsed": false,
    "pycharm": {
     "name": "#%%\n"
    }
   }
  }
 ]
}