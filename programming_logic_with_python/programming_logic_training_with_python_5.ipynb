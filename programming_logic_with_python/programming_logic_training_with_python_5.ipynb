{
 "nbformat": 4,
 "nbformat_minor": 0,
 "metadata": {
  "colab": {
   "name": "programming_logic_V.ipynb",
   "provenance": [],
   "authorship_tag": "ABX9TyMMSsUxDWd0ZINIGTUT5U2N",
   "include_colab_link": true
  },
  "kernelspec": {
   "name": "python3",
   "display_name": "Python 3"
  },
  "language_info": {
   "name": "python"
  }
 },
 "cells": [
  {
   "cell_type": "markdown",
   "source": [
    "# Sequential Algorithms. Selection or decision structures."
   ],
   "metadata": {
    "id": "hkzYn6TV8LCx",
    "pycharm": {
     "name": "#%% md\n"
    }
   }
  },
  {
   "cell_type": "markdown",
   "source": [
    "#### Write the following Boolean expressions in Python:\n",
    "\n",
    "- The sum of 2 and 2 is less than 4\n",
    "- The value of 7 // 3 is equal to 1 + 1\n",
    "- The sum of 3 squared and 4 squared equals 25\n",
    "- The sum of 2, 4 and 6 is greater than 12\n",
    "- 1387 is divisible by 19\n",
    "- 31 is even\n",
    "- The smallest value between 34, 29 and 31 is less than 30"
   ],
   "metadata": {
    "id": "XDzqfHRZbjtH",
    "pycharm": {
     "name": "#%% md\n"
    }
   }
  },
  {
   "cell_type": "code",
   "source": [
    "print(2 + 2 < 4)\n",
    "print(7 // 3 == 1 + 1)\n",
    "print(3**2 + 4**2 == 25)\n",
    "print(2 + 4 + 6 > 12)\n",
    "print(1387 % 19 == 0)\n",
    "print(32 % 2 == 0)\n",
    "print(min(34, 29, 31) < 30)"
   ],
   "metadata": {
    "colab": {
     "base_uri": "https://localhost:8080/"
    },
    "id": "IvhQSApEdTqn",
    "outputId": "b1bbdd30-6674-4bc3-d931-3ffb3cd2e4ec",
    "pycharm": {
     "name": "#%%\n"
    }
   },
   "execution_count": 1,
   "outputs": [
    {
     "name": "stdout",
     "output_type": "stream",
     "text": [
      "False\n",
      "True\n",
      "True\n",
      "False\n",
      "True\n",
      "True\n",
      "True\n"
     ]
    }
   ]
  },
  {
   "cell_type": "markdown",
   "source": [
    "#### Translate the following statements into conditionals in Python:\n",
    "\n",
    "- If age is over 60, write: \"You are entitled to benefits.\"\n",
    "- If damage is greater than 10 and shield is equal to 0, write: \"You are dead.\"\n",
    "- If year is divisible by 4, write: \"It could be a leap year\". Otherwise write: \"Definitely not a leap year\"."
   ],
   "metadata": {
    "id": "chRpBerGfkd5",
    "pycharm": {
     "name": "#%% md\n"
    }
   }
  },
  {
   "cell_type": "code",
   "source": [
    "age = int(input(f'Enter your age: '))\n",
    "if age > 60:\n",
    "  print('Your age is over 60. You are entitled to benefits.')\n",
    "else:\n",
    "  print('You are under 60. You are not entitled to benefits.')"
   ],
   "metadata": {
    "colab": {
     "base_uri": "https://localhost:8080/"
    },
    "id": "uKgz5F9dgOe5",
    "outputId": "847f0b58-0b77-40f6-8e92-27998cc29c4b",
    "pycharm": {
     "name": "#%%\n"
    }
   },
   "execution_count": 2,
   "outputs": [
    {
     "name": "stdout",
     "output_type": "stream",
     "text": [
      "You are under 60. You are not entitled to benefits.\n"
     ]
    }
   ]
  },
  {
   "cell_type": "code",
   "source": [
    "damage_received = float(input('Damage received by player: '))\n",
    "shield = (input('Did the player use shield? (Y/n) '))\n",
    "if damage_received > 10 and shield == 'n':\n",
    "  print('You are dead.')\n",
    "else:\n",
    "  print('Your character is still in play!')"
   ],
   "metadata": {
    "colab": {
     "base_uri": "https://localhost:8080/"
    },
    "id": "sXodqEi7huud",
    "outputId": "9a40505e-aac9-4332-d515-c3fd92af15b9",
    "pycharm": {
     "name": "#%%\n"
    }
   },
   "execution_count": 3,
   "outputs": [
    {
     "name": "stdout",
     "output_type": "stream",
     "text": [
      "Your character is still in play!\n"
     ]
    }
   ]
  },
  {
   "cell_type": "code",
   "source": [
    "year = int(input('Enter the year: '))\n",
    "if year % 4 == 0:\n",
    "  print('May be a leap year')\n",
    "else:\n",
    "  print('Definitely not a leap year')"
   ],
   "metadata": {
    "colab": {
     "base_uri": "https://localhost:8080/"
    },
    "id": "bZlBPVZWjaof",
    "outputId": "5eae8997-466b-48db-84ca-d3c84749c132",
    "pycharm": {
     "name": "#%%\n"
    }
   },
   "execution_count": 4,
   "outputs": [
    {
     "name": "stdout",
     "output_type": "stream",
     "text": [
      "Definitely not a leap year\n"
     ]
    }
   ]
  },
  {
   "cell_type": "markdown",
   "source": [
    "#### Write an algorithm that takes three values representing the user-supplied sides of a triangle. Make sure the values form a triangle and sort as:\n",
    "\n",
    "- Equilateral (three equal sides)\n",
    "- Isosceles (two equal sides)\n",
    "- Scalene (three different sides)"
   ],
   "metadata": {
    "id": "it6oKJfGrxqw",
    "pycharm": {
     "name": "#%% md\n"
    }
   }
  },
  {
   "cell_type": "code",
   "source": [
    "A = int(input('Enter the 1st side of the triangle: '))\n",
    "B = int(input('Enter the 2nd side of the triangle: '))\n",
    "C = int(input('Enter the 3rd side of the triangle: '))\n",
    "\n",
    "if A > 0 and B > 0 and C > 0:\n",
    "  if A + B > C and A + C > B and B + C > A:\n",
    "    if A != B and A !=C and B != C:\n",
    "      print('Scalene Triangle')\n",
    "    else:\n",
    "      if A == B and A == C and B == C:\n",
    "        print('Equilateral Triangle')\n",
    "      else:\n",
    "        print('Isosceles Triangle')\n",
    "  else:\n",
    "    print('At least one of the values indicated is not suitable to form a triangle')\n",
    "else:\n",
    "  print('At least one of the values indicated is not suitable to form a triangle')"
   ],
   "metadata": {
    "colab": {
     "base_uri": "https://localhost:8080/"
    },
    "id": "jlhxIkswsNS3",
    "outputId": "2086b6f7-dcc4-4b68-a63e-91aefc25615e",
    "pycharm": {
     "name": "#%%\n"
    }
   },
   "execution_count": 5,
   "outputs": [
    {
     "name": "stdout",
     "output_type": "stream",
     "text": [
      "At least one of the values indicated is not suitable to form a triangle\n"
     ]
    }
   ]
  },
  {
   "cell_type": "markdown",
   "source": [
    "#### Write an algorithm that reads two numeric values and asks the user which operation he wants to perform: addition (+), subtraction (-), multiplication (*), or division (/). Display the result of the selected operation on the screen."
   ],
   "metadata": {
    "id": "w2wHkJKD0Y3U",
    "pycharm": {
     "name": "#%% md\n"
    }
   }
  },
  {
   "cell_type": "code",
   "source": [
    "print('CALC')\n",
    "print('+ Addition')\n",
    "print('- subtraction')\n",
    "print('* multiplication')\n",
    "print('/ division')\n",
    "print('Press another key to exit. ')\n",
    "\n",
    "op = input('What operation do you want to do: ')\n",
    "x = float(input('Enter the 1st value: '))\n",
    "y = float(input('Enter the 2nd value: '))\n",
    "\n",
    "if op == '+':\n",
    "  res = round(x + y, 2)\n",
    "  print(f'result {x} + {y} = {res}')\n",
    "elif op == '-':\n",
    "  res = round(x - y, 2)\n",
    "  print(f'result {x} - {y} = {res}')\n",
    "elif op == '*':\n",
    "  res = round(x * y, 2)\n",
    "  print(f'result {x} * {y} = {res}')\n",
    "elif op == '/':\n",
    "  res = round(x / y, 2)\n",
    "  print(f'result {x} / {y} = {res}')\n",
    "else:\n",
    "  print('Invalid operation.')\n",
    "print('Closing the program...')"
   ],
   "metadata": {
    "colab": {
     "base_uri": "https://localhost:8080/"
    },
    "id": "RUPvDCIdzLYK",
    "outputId": "a2ae0418-6015-4c4e-e779-3704d226567a",
    "pycharm": {
     "name": "#%%\n"
    }
   },
   "execution_count": 6,
   "outputs": [
    {
     "name": "stdout",
     "output_type": "stream",
     "text": [
      "CALC\n",
      "+ Addition\n",
      "- subtraction\n",
      "* multiplication\n",
      "/ division\n",
      "Press another key to exit. \n",
      "result 56.0 * 25.0 = 1400.0\n",
      "Closing the program...\n"
     ]
    }
   ]
  },
  {
   "cell_type": "markdown",
   "source": [
    "#### Write a program that calculates the price to pay for the supply of electricity. Ask the amount of kWh consumed and the type of installation: R for residences, I for industries and C for businesses."
   ],
   "metadata": {
    "id": "6Nyaokfo5ew1",
    "pycharm": {
     "name": "#%% md\n"
    }
   }
  },
  {
   "cell_type": "code",
   "execution_count": 7,
   "outputs": [
    {
     "name": "stdout",
     "output_type": "stream",
     "text": [
      "Total payable: 180.0 reais.\n"
     ]
    }
   ],
   "source": [
    "kWh = float(input('How many kWh? '))\n",
    "type = input('What type of installation (R, C or I)')\n",
    "\n",
    "if type == 'R':\n",
    "  if kWh <= 500:\n",
    "    price = 0.4\n",
    "  else:\n",
    "    price = 0.65\n",
    "elif type == 'C':\n",
    "  if kWh <= 1000:\n",
    "    price = 0.55\n",
    "  else:\n",
    "    price = 0.60\n",
    "elif type == 'I':\n",
    "  if kWh <= 5000:\n",
    "    price = 0.55\n",
    "  else:\n",
    "    price = 0.60\n",
    "else:\n",
    "  print('Invalid installation!')\n",
    "\n",
    "value = round(kWh * price, 2)\n",
    "\n",
    "print(f'Total payable: {value} reais.')"
   ],
   "metadata": {
    "collapsed": false,
    "pycharm": {
     "name": "#%%\n"
    }
   }
  }
 ]
}