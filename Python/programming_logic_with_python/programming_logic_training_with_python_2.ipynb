{
 "nbformat": 4,
 "nbformat_minor": 0,
 "metadata": {
  "colab": {
   "name": "programmin_logic_II.ipynb",
   "provenance": [],
   "collapsed_sections": [
    "XKPX7wpBK6PT",
    "TxqNOULfNOp0",
    "Qm4mc1tOPCtO"
   ],
   "authorship_tag": "ABX9TyPnR+1caoyVRvL3xPN3DlJ0"
  },
  "kernelspec": {
   "name": "python3",
   "display_name": "Python 3"
  },
  "language_info": {
   "name": "python"
  }
 },
 "cells": [
  {
   "cell_type": "markdown",
   "source": [
    "# Sequential Algorithms. Data, Variables and Input and Output Commands - 2"
   ],
   "metadata": {
    "id": "OkXj-XX6I4J6",
    "pycharm": {
     "name": "#%% md\n"
    }
   }
  },
  {
   "cell_type": "markdown",
   "source": [
    "## Algebraic Expressions"
   ],
   "metadata": {
    "id": "XKPX7wpBK6PT",
    "pycharm": {
     "name": "#%% md\n"
    }
   }
  },
  {
   "cell_type": "markdown",
   "source": [
    "- Write the following algebraic expressions in Python language:\n",
    "\n",
    "     - The summation of the first 5 positive integers.\n",
    "     - The average between 23, 19 and 31.\n",
    "     - The number of times 73 goes into 403.\n",
    "     - The leftover when 403 is divided by 73.\n",
    "     - 2 raised to the 10th power.\n",
    "     - The absolute value of the difference between 54 and 57.\n",
    "     - The lowest value between 34, 29 and 31."
   ],
   "metadata": {
    "id": "oCQAdDfdLArr",
    "pycharm": {
     "name": "#%% md\n"
    }
   }
  },
  {
   "cell_type": "code",
   "execution_count": 1,
   "metadata": {
    "colab": {
     "base_uri": "https://localhost:8080/"
    },
    "id": "_YzZiA5vHmXz",
    "executionInfo": {
     "status": "ok",
     "timestamp": 1651216701703,
     "user_tz": 180,
     "elapsed": 11,
     "user": {
      "displayName": "thiago alves",
      "userId": "09902161588712950424"
     }
    },
    "outputId": "f0396bc4-4b95-4d54-b44e-440a08c9d1ee",
    "pycharm": {
     "name": "#%%\n"
    }
   },
   "outputs": [
    {
     "data": {
      "text/plain": "15"
     },
     "execution_count": 1,
     "metadata": {},
     "output_type": "execute_result"
    }
   ],
   "source": [
    "# The sum of the first 5 positive integers\n",
    "1 + 2 + 3 + 4 + 5"
   ]
  },
  {
   "cell_type": "code",
   "source": [
    "# The average between 23, 19 and 31\n",
    "(23 + 19 + 31) / 3"
   ],
   "metadata": {
    "colab": {
     "base_uri": "https://localhost:8080/"
    },
    "id": "zJ8K_KP6Lypm",
    "executionInfo": {
     "status": "ok",
     "timestamp": 1651216776084,
     "user_tz": 180,
     "elapsed": 7,
     "user": {
      "displayName": "thiago alves",
      "userId": "09902161588712950424"
     }
    },
    "outputId": "5632a231-e143-47c4-d1f1-90b20d569b00",
    "pycharm": {
     "name": "#%%\n"
    }
   },
   "execution_count": 2,
   "outputs": [
    {
     "data": {
      "text/plain": "24.333333333333332"
     },
     "execution_count": 2,
     "metadata": {},
     "output_type": "execute_result"
    }
   ]
  },
  {
   "cell_type": "code",
   "source": [
    "# The number of times 73 goes into 403\n",
    "403 // 73"
   ],
   "metadata": {
    "colab": {
     "base_uri": "https://localhost:8080/"
    },
    "id": "ounpoYG2MHgK",
    "executionInfo": {
     "status": "ok",
     "timestamp": 1651216836459,
     "user_tz": 180,
     "elapsed": 6,
     "user": {
      "displayName": "thiago alves",
      "userId": "09902161588712950424"
     }
    },
    "outputId": "5afa05fa-24eb-481b-b93a-95a6909a8125",
    "pycharm": {
     "name": "#%%\n"
    }
   },
   "execution_count": 3,
   "outputs": [
    {
     "data": {
      "text/plain": "5"
     },
     "execution_count": 3,
     "metadata": {},
     "output_type": "execute_result"
    }
   ]
  },
  {
   "cell_type": "code",
   "source": [
    "# The leftover when 403 is divided by 73\n",
    "403 % 73"
   ],
   "metadata": {
    "colab": {
     "base_uri": "https://localhost:8080/"
    },
    "id": "va3g7KjBMWPZ",
    "executionInfo": {
     "status": "ok",
     "timestamp": 1651216873885,
     "user_tz": 180,
     "elapsed": 8,
     "user": {
      "displayName": "thiago alves",
      "userId": "09902161588712950424"
     }
    },
    "outputId": "f7413e2f-8939-4934-996e-f93722273e1b",
    "pycharm": {
     "name": "#%%\n"
    }
   },
   "execution_count": 4,
   "outputs": [
    {
     "data": {
      "text/plain": "38"
     },
     "execution_count": 4,
     "metadata": {},
     "output_type": "execute_result"
    }
   ]
  },
  {
   "cell_type": "code",
   "source": [
    "# 2 raised to the 10th power\n",
    "2**10"
   ],
   "metadata": {
    "colab": {
     "base_uri": "https://localhost:8080/"
    },
    "id": "kxW5CVN5MfXg",
    "executionInfo": {
     "status": "ok",
     "timestamp": 1651216947628,
     "user_tz": 180,
     "elapsed": 10,
     "user": {
      "displayName": "thiago alves",
      "userId": "09902161588712950424"
     }
    },
    "outputId": "fbba68d3-b8a1-4340-a6c7-6ebc1323bedc",
    "pycharm": {
     "name": "#%%\n"
    }
   },
   "execution_count": 5,
   "outputs": [
    {
     "data": {
      "text/plain": "1024"
     },
     "execution_count": 5,
     "metadata": {},
     "output_type": "execute_result"
    }
   ]
  },
  {
   "cell_type": "code",
   "source": [
    "# The absolute value between 54 and 57\n",
    "print(abs(54 - 57))"
   ],
   "metadata": {
    "colab": {
     "base_uri": "https://localhost:8080/"
    },
    "id": "KQ9KUStiMxYs",
    "executionInfo": {
     "status": "ok",
     "timestamp": 1651217007037,
     "user_tz": 180,
     "elapsed": 6,
     "user": {
      "displayName": "thiago alves",
      "userId": "09902161588712950424"
     }
    },
    "outputId": "5377817a-edbe-40b4-e912-e944f0f11700",
    "pycharm": {
     "name": "#%%\n"
    }
   },
   "execution_count": 6,
   "outputs": [
    {
     "name": "stdout",
     "output_type": "stream",
     "text": [
      "3\n"
     ]
    }
   ]
  },
  {
   "cell_type": "code",
   "source": [
    "# The smallest value between 34, 29 and 31\n",
    "print(min(34, 29, 31))"
   ],
   "metadata": {
    "colab": {
     "base_uri": "https://localhost:8080/"
    },
    "id": "6vUPgvleM_33",
    "executionInfo": {
     "status": "ok",
     "timestamp": 1651217039133,
     "user_tz": 180,
     "elapsed": 11,
     "user": {
      "displayName": "thiago alves",
      "userId": "09902161588712950424"
     }
    },
    "outputId": "cc5b98cf-db99-41ce-9f30-e84473556b0a",
    "pycharm": {
     "name": "#%%\n"
    }
   },
   "execution_count": 7,
   "outputs": [
    {
     "name": "stdout",
     "output_type": "stream",
     "text": [
      "29\n"
     ]
    }
   ]
  },
  {
   "cell_type": "markdown",
   "source": [
    "## Assignment"
   ],
   "metadata": {
    "collapsed": false,
    "pycharm": {
     "name": "#%% md\n"
    }
   }
  },
  {
   "cell_type": "markdown",
   "source": [
    "- Write expressions in Python for:\n",
    "     - Assign the integer value 3 to the variable *a*.\n",
    "     - Assign the value 4 to the variable *b*.\n",
    "     - Assign to the variable *c* the value of the expression aa + bb"
   ],
   "metadata": {
    "id": "CzQ44jCwNUHr",
    "pycharm": {
     "name": "#%% md\n"
    }
   }
  },
  {
   "cell_type": "code",
   "source": [
    "# Assign the integer value 3 to the variable a\n",
    "a = 3"
   ],
   "metadata": {
    "id": "1hK0EusyNQ69",
    "executionInfo": {
     "status": "ok",
     "timestamp": 1651217282103,
     "user_tz": 180,
     "elapsed": 277,
     "user": {
      "displayName": "thiago alves",
      "userId": "09902161588712950424"
     }
    },
    "pycharm": {
     "name": "#%%\n"
    }
   },
   "execution_count": 8,
   "outputs": []
  },
  {
   "cell_type": "code",
   "source": [
    "# Assign the value 4 to variable b\n",
    "b = 4"
   ],
   "metadata": {
    "id": "kmZcNYR7ODB9",
    "executionInfo": {
     "status": "ok",
     "timestamp": 1651217301353,
     "user_tz": 180,
     "elapsed": 277,
     "user": {
      "displayName": "thiago alves",
      "userId": "09902161588712950424"
     }
    },
    "pycharm": {
     "name": "#%%\n"
    }
   },
   "execution_count": 9,
   "outputs": []
  },
  {
   "cell_type": "code",
   "source": [
    "# Assign to the variable c the value of the expression aa + bb\n",
    "c = a*a+b*b\n",
    "print(c)"
   ],
   "metadata": {
    "colab": {
     "base_uri": "https://localhost:8080/"
    },
    "id": "iYGfml1LOHvL",
    "executionInfo": {
     "status": "ok",
     "timestamp": 1651217394222,
     "user_tz": 180,
     "elapsed": 270,
     "user": {
      "displayName": "thiago alves",
      "userId": "09902161588712950424"
     }
    },
    "outputId": "6ad2c924-7cdc-4546-b75d-e174ba8168dd",
    "pycharm": {
     "name": "#%%\n"
    }
   },
   "execution_count": 10,
   "outputs": [
    {
     "name": "stdout",
     "output_type": "stream",
     "text": [
      "25\n"
     ]
    }
   ]
  },
  {
   "cell_type": "markdown",
   "source": [
    "## Strings"
   ],
   "metadata": {
    "id": "Qm4mc1tOPCtO",
    "pycharm": {
     "name": "#%% md\n"
    }
   }
  },
  {
   "cell_type": "markdown",
   "source": [
    "- Perform the following assignments\n",
    "   - s1 = 'ant'\n",
    "   - s2 = 'bat'\n",
    "   - s3 = 'code'"
   ],
   "metadata": {
    "id": "0uFDDZphPGPB",
    "pycharm": {
     "name": "#%% md\n"
    }
   }
  },
  {
   "cell_type": "code",
   "source": [
    "s1 = 'ant'"
   ],
   "metadata": {
    "id": "DHz-DADKObnr",
    "executionInfo": {
     "status": "ok",
     "timestamp": 1651217608663,
     "user_tz": 180,
     "elapsed": 285,
     "user": {
      "displayName": "thiago alves",
      "userId": "09902161588712950424"
     }
    },
    "pycharm": {
     "name": "#%%\n"
    }
   },
   "execution_count": 11,
   "outputs": []
  },
  {
   "cell_type": "code",
   "source": [
    "s2 = 'bat'"
   ],
   "metadata": {
    "id": "bHH4F39LPSwx",
    "executionInfo": {
     "status": "ok",
     "timestamp": 1651217613564,
     "user_tz": 180,
     "elapsed": 5,
     "user": {
      "displayName": "thiago alves",
      "userId": "09902161588712950424"
     }
    },
    "pycharm": {
     "name": "#%%\n"
    }
   },
   "execution_count": 12,
   "outputs": []
  },
  {
   "cell_type": "code",
   "source": [
    "s3 = 'cod'"
   ],
   "metadata": {
    "id": "xRqHTeUbPT9n",
    "executionInfo": {
     "status": "ok",
     "timestamp": 1651217617812,
     "user_tz": 180,
     "elapsed": 5,
     "user": {
      "displayName": "thiago alves",
      "userId": "09902161588712950424"
     }
    },
    "pycharm": {
     "name": "#%%\n"
    }
   },
   "execution_count": 13,
   "outputs": []
  },
  {
   "cell_type": "markdown",
   "source": [
    "- Now, using operators + and *, create the following outputs:\n",
    "   - 'ant bat code'\n",
    "   - 'ant ant ant ant ant ant ant ant ant ant'\n",
    "   - 'ant bat ant bat ant bat ant bat ant bat ant bat ant bat'\n",
    "   - 'batbatcod batbatcod batbatcod batbatcod batbatcod'"
   ],
   "metadata": {
    "id": "T6pXlKAoPd0u",
    "pycharm": {
     "name": "#%% md\n"
    }
   }
  },
  {
   "cell_type": "code",
   "source": [
    "print(s1, s2, s3)"
   ],
   "metadata": {
    "colab": {
     "base_uri": "https://localhost:8080/"
    },
    "id": "b15JLevmPU_3",
    "executionInfo": {
     "status": "ok",
     "timestamp": 1651217893822,
     "user_tz": 180,
     "elapsed": 270,
     "user": {
      "displayName": "thiago alves",
      "userId": "09902161588712950424"
     }
    },
    "outputId": "426f6206-9116-418a-e5e0-f1791d35f336",
    "pycharm": {
     "name": "#%%\n"
    }
   },
   "execution_count": 14,
   "outputs": [
    {
     "name": "stdout",
     "output_type": "stream",
     "text": [
      "ant bat cod\n"
     ]
    }
   ]
  },
  {
   "cell_type": "code",
   "source": [
    "print(10*(s1 + ' '))"
   ],
   "metadata": {
    "colab": {
     "base_uri": "https://localhost:8080/"
    },
    "id": "1JzTxqVWQJnW",
    "executionInfo": {
     "status": "ok",
     "timestamp": 1651217982459,
     "user_tz": 180,
     "elapsed": 300,
     "user": {
      "displayName": "thiago alves",
      "userId": "09902161588712950424"
     }
    },
    "outputId": "6e1a1538-1451-463c-b50b-7f83e29b0d7a",
    "pycharm": {
     "name": "#%%\n"
    }
   },
   "execution_count": 15,
   "outputs": [
    {
     "name": "stdout",
     "output_type": "stream",
     "text": [
      "ant ant ant ant ant ant ant ant ant ant \n"
     ]
    }
   ]
  },
  {
   "cell_type": "code",
   "source": [
    "print(s1 + ' ' + (2 * (s2 + ' ') + (3 * (s3 + ' '))))"
   ],
   "metadata": {
    "colab": {
     "base_uri": "https://localhost:8080/"
    },
    "id": "XLe8Up-WQfZ0",
    "executionInfo": {
     "status": "ok",
     "timestamp": 1651218080230,
     "user_tz": 180,
     "elapsed": 6,
     "user": {
      "displayName": "thiago alves",
      "userId": "09902161588712950424"
     }
    },
    "outputId": "04d994b3-0f79-4346-f85c-9aae0ddbfbfe",
    "pycharm": {
     "name": "#%%\n"
    }
   },
   "execution_count": 16,
   "outputs": [
    {
     "name": "stdout",
     "output_type": "stream",
     "text": [
      "ant bat bat cod cod cod \n"
     ]
    }
   ]
  },
  {
   "cell_type": "code",
   "source": [
    "print(7 * (s1 + ' ' + s2 + ' '))"
   ],
   "metadata": {
    "colab": {
     "base_uri": "https://localhost:8080/"
    },
    "id": "-9gETXl3Q_8L",
    "executionInfo": {
     "status": "ok",
     "timestamp": 1651218141990,
     "user_tz": 180,
     "elapsed": 269,
     "user": {
      "displayName": "thiago alves",
      "userId": "09902161588712950424"
     }
    },
    "outputId": "8a6b4f65-2360-4792-ee51-3b10152d40ac",
    "pycharm": {
     "name": "#%%\n"
    }
   },
   "execution_count": 17,
   "outputs": [
    {
     "name": "stdout",
     "output_type": "stream",
     "text": [
      "ant bat ant bat ant bat ant bat ant bat ant bat ant bat \n"
     ]
    }
   ]
  },
  {
   "cell_type": "code",
   "source": [
    "print(5 * (2*(s2) + s3 + ' '))"
   ],
   "metadata": {
    "colab": {
     "base_uri": "https://localhost:8080/"
    },
    "id": "xmjUKBNpRS5Y",
    "executionInfo": {
     "status": "ok",
     "timestamp": 1651218222737,
     "user_tz": 180,
     "elapsed": 6,
     "user": {
      "displayName": "thiago alves",
      "userId": "09902161588712950424"
     }
    },
    "outputId": "3f539205-ebf5-4bf3-d410-f8f81e5e9fcb",
    "pycharm": {
     "name": "#%%\n"
    }
   },
   "execution_count": 18,
   "outputs": [
    {
     "name": "stdout",
     "output_type": "stream",
     "text": [
      "batbatcod batbatcod batbatcod batbatcod batbatcod \n"
     ]
    }
   ]
  },
  {
   "cell_type": "code",
   "source": [],
   "metadata": {
    "id": "DMCTAeQVRorf",
    "pycharm": {
     "name": "#%%\n"
    }
   },
   "execution_count": 18,
   "outputs": []
  },
  {
   "cell_type": "markdown",
   "source": [
    "# Exercise 1"
   ],
   "metadata": {
    "id": "CufU-njRR3Cv",
    "pycharm": {
     "name": "#%% md\n"
    }
   }
  },
  {
   "cell_type": "markdown",
   "source": [
    "### Develop an algorithm that asks the user for the price of a product and a percentage of discount to be applied to it. Calculate and display the discount amount and the final price of the product (workbook exercise - class 2)"
   ],
   "metadata": {
    "id": "yTjJbrcJR56b",
    "pycharm": {
     "name": "#%% md\n"
    }
   }
  },
  {
   "cell_type": "code",
   "source": [
    "print('------------------------- DISCOUNT CALCULATOR (%) ---------------- ----------')\n",
    "employee = input('Welcome, whats your name? ')\n",
    "employee_id = int(input(f'Hello, {employee}, whats your employee ID? '))\n",
    "product_id = int(input(f'{employee} - {employee_id}, which product ID do you want the discount? '))\n",
    "product_price = float(input(f'{employee} - {employee_id}, what is the value in reais (R$) of the product: {product_id}, do you want a discount? '))\n",
    "percent_discount = int(input(f'{employee} - {employee_id}, what is the discount percentage value (0 - 100)% you want to apply to the product: {product_id}? '))\n",
    "discount = round(float(product_price*(percent_discount/100)), 2)\n",
    "final_price = round(product_price - discount, 2)\n",
    "print(f'{employee} - {employee_id}, the discount for the product: {product_id}, was {percent_discount}% which is equal to {discount} reais (R$), and its value was updated from {product_price} to {final_price} reais , successfully.')"
   ],
   "metadata": {
    "colab": {
     "base_uri": "https://localhost:8080/"
    },
    "id": "fOlng6KPR4xy",
    "executionInfo": {
     "status": "ok",
     "timestamp": 1651221543415,
     "user_tz": 180,
     "elapsed": 28522,
     "user": {
      "displayName": "thiago alves",
      "userId": "09902161588712950424"
     }
    },
    "outputId": "341be7b4-0f2c-402f-c4e1-7608ec47e736",
    "pycharm": {
     "name": "#%%\n"
    }
   },
   "execution_count": 22,
   "outputs": [
    {
     "name": "stdout",
     "output_type": "stream",
     "text": [
      "------------------------- DISCOUNT CALCULATOR (%) ---------------- ----------\n",
      "Thiago Alves - 566554, the discount for the product: 652243, was 13% which is equal to 76.25 reais (R$), and its value was updated from 586.55 to 510.3 reais , successfully.\n"
     ]
    }
   ]
  },
  {
   "cell_type": "markdown",
   "source": [
    "### Write a program that asks the number of kilometers driven by a car rented by the user, as well as the number of days the car was rented. Calculate the price to pay, knowing that the car costs 60 reais per day and 0.15 cents per kilometer driven."
   ],
   "metadata": {
    "id": "-hUbHFXbexGr",
    "pycharm": {
     "name": "#%% md\n"
    }
   }
  },
  {
   "cell_type": "code",
   "source": [
    "print('-------------------------------- CAR RENT VALUE ---------- ----------------------')\n",
    "employee = input('Welcome! Please enter your name: ')\n",
    "employee_id = int(input(f'{employee}, enter your ID: '))\n",
    "customer = input(f'{employee} - {employee_id}, enter customer name: ')\n",
    "car_id = input(f'{employee} - {employee_id}, enter the car ID used by the customer, {customer}: ')\n",
    "qtd_km = float(input(f'{employee} - {employee_id}, what mileage used by the customer, {customer}? '))\n",
    "qty_day = int(input(f'{employee} - {employee_id}, how many days was the car rented to the customer, {customer}? '))\n",
    "price_per_km = round(qtd_km * 0.15, 2)\n",
    "price_per_day = round(qty_day * 60, 2)\n",
    "total_price = round(price_per_km + price_per_day, 2)\n",
    "print(f'{employee} - {employee_id}, the price to be paid by the customer, {customer}, when using the car {car_id}, for {qty_day} days and {qtd_km} kilometers is: {total_price} reais.' )"
   ],
   "metadata": {
    "colab": {
     "base_uri": "https://localhost:8080/"
    },
    "id": "z5qihYasfoJX",
    "executionInfo": {
     "status": "ok",
     "timestamp": 1651223360400,
     "user_tz": 180,
     "elapsed": 31407,
     "user": {
      "displayName": "thiago alves",
      "userId": "09902161588712950424"
     }
    },
    "outputId": "6dc368cf-b1c3-4eaa-d38b-55e0a6308e5d",
    "pycharm": {
     "name": "#%%\n"
    }
   },
   "execution_count": 20,
   "outputs": [
    {
     "name": "stdout",
     "output_type": "stream",
     "text": [
      "-------------------------------- CAR RENT VALUE ---------- ----------------------\n",
      "Thiago Alves - 55415, the price to be paid by the customer, João Paulo, when using the car PQQ-9855, for 25 days and 2000.0 kilometers is: 1800.0 reais.\n"
     ]
    }
   ]
  },
  {
   "cell_type": "markdown",
   "source": [
    "### Create a *STRING* variable that receives any phrase. Create a second variable, now containing half of the *STRING* entered. Print on the screen only the last two characters of the second variable of type *STRING*."
   ],
   "metadata": {
    "id": "WCmBnmk2lpBv",
    "pycharm": {
     "name": "#%% md\n"
    }
   }
  },
  {
   "cell_type": "code",
   "source": [
    "phrase1 = input('Enter a phrase: ')\n",
    "sentence_size = len(phrase1)\n",
    "phrase2 = phrase1[:int(sentence_size/2)]\n",
    "print(phrase2[:-2])\n",
    "print(phrase2[-2:])"
   ],
   "metadata": {
    "colab": {
     "base_uri": "https://localhost:8080/"
    },
    "id": "Ppm9qolYmEUc",
    "executionInfo": {
     "status": "ok",
     "timestamp": 1651224176954,
     "user_tz": 180,
     "elapsed": 9154,
     "user": {
      "displayName": "thiago alves",
      "userId": "09902161588712950424"
     }
    },
    "outputId": "a91b05a6-844e-4d34-d63d-4812cded794e",
    "pycharm": {
     "name": "#%%\n"
    }
   },
   "execution_count": 21,
   "outputs": [
    {
     "name": "stdout",
     "output_type": "stream",
     "text": [
      "My name is Thiago, and this is a \n",
      "cl\n"
     ]
    }
   ]
  }
 ]
}