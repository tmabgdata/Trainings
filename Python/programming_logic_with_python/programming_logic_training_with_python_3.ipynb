{
 "nbformat": 4,
 "nbformat_minor": 0,
 "metadata": {
  "colab": {
   "name": "programming_logic_III",
   "provenance": [],
   "collapsed_sections": [],
   "authorship_tag": "ABX9TyMFqpiXqnu0WZ2/22dkTA3B",
   "include_colab_link": true
  },
  "kernelspec": {
   "name": "python3",
   "display_name": "Python 3"
  },
  "language_info": {
   "name": "python"
  }
 },
 "cells": [
  {
   "cell_type": "markdown",
   "source": [
    "# Sequential Algorithms. Selection or decision structures."
   ],
   "metadata": {
    "id": "wzAXrghujx-O",
    "pycharm": {
     "name": "#%% md\n"
    }
   }
  },
  {
   "cell_type": "markdown",
   "source": [
    "#### Simple Conditional"
   ],
   "metadata": {
    "id": "Y94JDWTDz__s",
    "pycharm": {
     "name": "#%% md\n"
    }
   }
  },
  {
   "cell_type": "code",
   "source": [
    "# Read two integer values and compare both\n",
    "x = int(input('Enter an integer value: '))\n",
    "y = int(input('Enter a second integer value: '))\n",
    "if x > y:\n",
    "  print('The first value is greater than the second!')"
   ],
   "metadata": {
    "colab": {
     "base_uri": "https://localhost:8080/"
    },
    "id": "NzS1tryRmYpD",
    "outputId": "e947b486-320e-4389-a044-103ddd1d2232",
    "pycharm": {
     "name": "#%%\n"
    }
   },
   "execution_count": 1,
   "outputs": [
    {
     "name": "stdout",
     "output_type": "stream",
     "text": [
      "The first value is greater than the second!\n"
     ]
    }
   ]
  },
  {
   "cell_type": "markdown",
   "source": [
    "#### Compound conditional"
   ],
   "metadata": {
    "id": "nAsGmWPd1X_J",
    "pycharm": {
     "name": "#%% md\n"
    }
   }
  },
  {
   "cell_type": "code",
   "source": [
    "# even or odd\n",
    "x = int(input('Enter an integer value: '))\n",
    "if x % 2 == 0:\n",
    "  print('The number is even.')\n",
    "else:\n",
    "  print('The number is odd.')"
   ],
   "metadata": {
    "colab": {
     "base_uri": "https://localhost:8080/"
    },
    "id": "QmUmtqb80igr",
    "outputId": "820015af-03e4-4342-dfb5-4e7e309b1ea1",
    "pycharm": {
     "name": "#%%\n"
    }
   },
   "execution_count": 2,
   "outputs": [
    {
     "name": "stdout",
     "output_type": "stream",
     "text": [
      "The number is odd.\n"
     ]
    }
   ]
  },
  {
   "cell_type": "markdown",
   "source": [
    "#### Logical/Boolean Operators"
   ],
   "metadata": {
    "id": "vUh20dNb6iy_",
    "pycharm": {
     "name": "#%% md\n"
    }
   }
  },
  {
   "cell_type": "code",
   "source": [
    "# not\n",
    "x = True\n",
    "y = False\n",
    "print(not x)\n",
    "print(not y)"
   ],
   "metadata": {
    "colab": {
     "base_uri": "https://localhost:8080/"
    },
    "id": "2YQDl7sb6nJf",
    "outputId": "5939e44b-729a-4cb9-9c05-49b4cd4dfa37",
    "pycharm": {
     "name": "#%%\n"
    }
   },
   "execution_count": 3,
   "outputs": [
    {
     "name": "stdout",
     "output_type": "stream",
     "text": [
      "False\n",
      "True\n"
     ]
    }
   ]
  },
  {
   "cell_type": "code",
   "source": [
    "# and\n",
    "x = True\n",
    "y = False\n",
    "print(x and y)"
   ],
   "metadata": {
    "colab": {
     "base_uri": "https://localhost:8080/"
    },
    "id": "MOzxs1FW6t72",
    "outputId": "a129aaef-de22-4154-d628-66c987c101a3",
    "pycharm": {
     "name": "#%%\n"
    }
   },
   "execution_count": 4,
   "outputs": [
    {
     "name": "stdout",
     "output_type": "stream",
     "text": [
      "False\n"
     ]
    }
   ]
  },
  {
   "cell_type": "code",
   "source": [
    "# or\n",
    "x = True\n",
    "y = False\n",
    "print(x or y)"
   ],
   "metadata": {
    "colab": {
     "base_uri": "https://localhost:8080/"
    },
    "id": "FjJP_8JU7Fp8",
    "outputId": "8516c6ac-7f67-4175-cf37-f67bed328523",
    "pycharm": {
     "name": "#%%\n"
    }
   },
   "execution_count": 5,
   "outputs": [
    {
     "name": "stdout",
     "output_type": "stream",
     "text": [
      "True\n"
     ]
    }
   ]
  },
  {
   "cell_type": "code",
   "source": [
    "x = 10\n",
    "y = 1\n",
    "res = not x > y\n",
    "print(res)"
   ],
   "metadata": {
    "colab": {
     "base_uri": "https://localhost:8080/"
    },
    "id": "eVluqSun7Ms7",
    "outputId": "347cde59-2243-419a-be24-c214685bfffe",
    "pycharm": {
     "name": "#%%\n"
    }
   },
   "execution_count": 6,
   "outputs": [
    {
     "name": "stdout",
     "output_type": "stream",
     "text": [
      "False\n"
     ]
    }
   ]
  },
  {
   "cell_type": "code",
   "source": [
    "x = 10\n",
    "y = 1\n",
    "z = 5.5\n",
    "res = x > y and z == y\n",
    "print(res)"
   ],
   "metadata": {
    "colab": {
     "base_uri": "https://localhost:8080/"
    },
    "id": "mGbbXar-9Hzb",
    "outputId": "af2b3503-fdd8-4cc7-97bb-f6c879df2b11",
    "pycharm": {
     "name": "#%%\n"
    }
   },
   "execution_count": 7,
   "outputs": [
    {
     "name": "stdout",
     "output_type": "stream",
     "text": [
      "False\n"
     ]
    }
   ]
  },
  {
   "cell_type": "code",
   "source": [
    "# pass or fail on the subject\n",
    "grade_1 = float(input('Enter the first note: '))\n",
    "grade_2 = float(input('Enter the second note: '))\n",
    "grade_3 = float(input('Enter the third note: '))\n",
    "average = round(((grade_1 + grade_2 + grade_3) / 3), 2)\n",
    "if average >= 7 :\n",
    "  print(\"Congratulations, you've been approved!\")\n",
    "else:\n",
    "  print(\"You didn't pass, don't give up!\")\n",
    "print(f'Your grade was {average} .')"
   ],
   "metadata": {
    "colab": {
     "base_uri": "https://localhost:8080/"
    },
    "id": "qELvWNrT9Yme",
    "outputId": "2d095e49-068f-409b-d62f-2bf8e969e259",
    "pycharm": {
     "name": "#%%\n"
    }
   },
   "execution_count": 8,
   "outputs": [
    {
     "name": "stdout",
     "output_type": "stream",
     "text": [
      "Congratulations, you've been approved!\n",
      "Your grade was 9.8 .\n"
     ]
    }
   ]
  },
  {
   "cell_type": "code",
   "source": [
    "# extra alternative\n",
    "m1 = float(input('Enter the grade of the 1st subject: '))\n",
    "m2 = float(input('Enter the grade of the 2nd subject: '))\n",
    "m3 = float(input('Enter the grade of the 3rd subject: '))\n",
    "if m1 >= 7 and m2 >= 7 and m3 >= 7:\n",
    "  print('The student is approved for the year!')\n",
    "else:\n",
    "  print('The student did not pass the year!')"
   ],
   "metadata": {
    "colab": {
     "base_uri": "https://localhost:8080/"
    },
    "id": "MBpd503T_10J",
    "outputId": "68a23f20-df03-48aa-a94e-2a6ee7b21107",
    "pycharm": {
     "name": "#%%\n"
    }
   },
   "execution_count": 10,
   "outputs": [
    {
     "name": "stdout",
     "output_type": "stream",
     "text": [
      "The student is approved for the year!\n"
     ]
    }
   ]
  },
  {
   "cell_type": "markdown",
   "source": [
    "- Write an algorithm in python where the user chooses whether he wants to buy apples, oranges or bananas. A menu should appear on the screen with the options: 1 for apple, 2 for orange and 3 for banana.\n",
    "- After choosing the fruit, you must enter how many units you want to buy. The algorithm must calculate the total price payable for the chosen product and display it on the screen.\n",
    "- Consider that an apple costs 2.30; an orange 3.60; a banana, 1.85"
   ],
   "metadata": {
    "id": "MsqOwgGBTs_s",
    "pycharm": {
     "name": "#%% md\n"
    }
   }
  },
  {
   "cell_type": "code",
   "execution_count": 11,
   "outputs": [
    {
     "name": "stdout",
     "output_type": "stream",
     "text": [
      "Choose the product you want to buy: \n",
      "1 - Apple\n",
      "2 - Orange\n",
      "3 - Banana\n",
      "You bought 5 apples. Total payable: R$ 11.5 .\n"
     ]
    }
   ],
   "source": [
    "print('Choose the product you want to buy: ')\n",
    "print('1 - Apple')\n",
    "print('2 - Orange')\n",
    "print('3 - Banana')\n",
    "product = int(input(\"What's your choice? \"))\n",
    "qty = int(input('How many units? '))\n",
    "if product == 1:\n",
    "  pay = qty * 2.3\n",
    "  print(f'You bought {qty} apples. Total payable: R$ {pay} .')\n",
    "elif product == 2:\n",
    "  pay = qty * 3.6\n",
    "  print(f'You bought {qty} oranges. Total payable: R$ {pay} .')\n",
    "elif product == 3:\n",
    "  pay = qty * 1.85\n",
    "  print(f'You bought {qty} bananas. Total payable: R$ {pay} .')\n",
    "else:\n",
    "  print('Product does not exist')"
   ],
   "metadata": {
    "collapsed": false,
    "pycharm": {
     "name": "#%%\n"
    }
   }
  }
 ]
}