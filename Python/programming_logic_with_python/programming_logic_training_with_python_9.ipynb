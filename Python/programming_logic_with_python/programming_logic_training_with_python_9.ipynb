{
 "nbformat": 4,
 "nbformat_minor": 0,
 "metadata": {
  "colab": {
   "name": "programming_logic_IX.ipynb",
   "provenance": [],
   "collapsed_sections": [],
   "authorship_tag": "ABX9TyOzU55X6+dGJBDLcGD+iMli",
   "include_colab_link": true
  },
  "kernelspec": {
   "name": "python3",
   "display_name": "Python 3"
  },
  "language_info": {
   "name": "python"
  }
 },
 "cells": [
  {
   "cell_type": "markdown",
   "source": [
    "# Exercises"
   ],
   "metadata": {
    "id": "lZdVnT_DgNim",
    "pycharm": {
     "name": "#%% md\n"
    }
   }
  },
  {
   "cell_type": "markdown",
   "source": [
    "## List\n",
    "- Date a list containing the grades of students in a discipline, write an expression for:\n",
    "\n",
    "     grades = [9,7,7,10,3,9,6,6,2]\n",
    "\n",
    "a) Find how many students scored 7\n",
    "\n",
    "b) Change the last note to 4\n",
    "\n",
    "c) Find the highest score\n",
    "\n",
    "d) Sort the list of notes\n",
    "\n",
    "e) The average of the grades"
   ],
   "metadata": {
    "id": "u49NWrJbgSkM",
    "pycharm": {
     "name": "#%% md\n"
    }
   }
  },
  {
   "cell_type": "code",
   "source": [
    "grades = [9,7,7,10,3,9,6,6,2]"
   ],
   "metadata": {
    "id": "Bk-5YR48kFrV",
    "pycharm": {
     "name": "#%%\n"
    }
   },
   "execution_count": 1,
   "outputs": []
  },
  {
   "cell_type": "code",
   "source": [
    "# a) How many students got 7\n",
    "print(grades.count(7))"
   ],
   "metadata": {
    "colab": {
     "base_uri": "https://localhost:8080/"
    },
    "id": "XCKVL1q_gRoX",
    "outputId": "8139a700-ad9d-4901-83a2-0cd24a333632",
    "pycharm": {
     "name": "#%%\n"
    }
   },
   "execution_count": 2,
   "outputs": [
    {
     "name": "stdout",
     "output_type": "stream",
     "text": [
      "2\n"
     ]
    }
   ]
  },
  {
   "cell_type": "code",
   "source": [
    "# b) Change last note to 4\n",
    "grades[-1] = 4\n",
    "print(grades[-1])"
   ],
   "metadata": {
    "colab": {
     "base_uri": "https://localhost:8080/"
    },
    "id": "M4yHLTYlkPEE",
    "outputId": "776e7007-000c-49eb-91b1-5179d0ea17ed",
    "pycharm": {
     "name": "#%%\n"
    }
   },
   "execution_count": 3,
   "outputs": [
    {
     "name": "stdout",
     "output_type": "stream",
     "text": [
      "4\n"
     ]
    }
   ]
  },
  {
   "cell_type": "code",
   "source": [
    "# c) Find the highest grade\n",
    "print(max(grades))"
   ],
   "metadata": {
    "colab": {
     "base_uri": "https://localhost:8080/"
    },
    "id": "uiG8xvmdkYEU",
    "outputId": "33242bc5-624e-46d9-dd8f-2d2fe3f3f3a5",
    "pycharm": {
     "name": "#%%\n"
    }
   },
   "execution_count": 4,
   "outputs": [
    {
     "name": "stdout",
     "output_type": "stream",
     "text": [
      "10\n"
     ]
    }
   ]
  },
  {
   "cell_type": "code",
   "source": [
    "# d) Sort the list of notes\n",
    "grades.sort()\n",
    "print(grades)"
   ],
   "metadata": {
    "colab": {
     "base_uri": "https://localhost:8080/"
    },
    "id": "YlGR7IxklcHr",
    "outputId": "46b40648-da96-4fdc-a2b0-51d7d1c7fa86",
    "pycharm": {
     "name": "#%%\n"
    }
   },
   "execution_count": 5,
   "outputs": [
    {
     "name": "stdout",
     "output_type": "stream",
     "text": [
      "[3, 4, 6, 6, 7, 7, 9, 9, 10]\n"
     ]
    }
   ]
  },
  {
   "cell_type": "code",
   "source": [
    "# e) The average of the grades\n",
    "\n",
    "# media via loop\n",
    "def average(notes):\n",
    "  sum = 0\n",
    "  for n in notes:\n",
    "    sum += n\n",
    "  average = sum / len(notes)\n",
    "  return average\n",
    "\n",
    "print(f'The grade average is: {round(average(grades), 2)}')"
   ],
   "metadata": {
    "colab": {
     "base_uri": "https://localhost:8080/"
    },
    "id": "EPtcReoSmPzm",
    "outputId": "5f06c5e6-9aa6-4ed8-9681-897f380549e7",
    "pycharm": {
     "name": "#%%\n"
    }
   },
   "execution_count": 6,
   "outputs": [
    {
     "name": "stdout",
     "output_type": "stream",
     "text": [
      "The grade average is: 6.78\n"
     ]
    }
   ]
  },
  {
   "cell_type": "code",
   "source": [
    "# using sum() and len() from Python's built-in functions\n",
    "\n",
    "average = sum(grades) / len(grades)\n",
    "print('The grade point average is: ', round(average, 2))"
   ],
   "metadata": {
    "colab": {
     "base_uri": "https://localhost:8080/"
    },
    "id": "0UegevCznfIs",
    "outputId": "0295f62a-211f-4fd2-f7ec-786a93cb8cc7",
    "pycharm": {
     "name": "#%%\n"
    }
   },
   "execution_count": 7,
   "outputs": [
    {
     "name": "stdout",
     "output_type": "stream",
     "text": [
      "The grade point average is:  6.78\n"
     ]
    }
   ]
  },
  {
   "cell_type": "code",
   "source": [
    "# using statistics module mean function\n",
    "from statistics import mean as media\n",
    "media = media(grades)\n",
    "print('The grade point average is: ', round(media, 2))"
   ],
   "metadata": {
    "colab": {
     "base_uri": "https://localhost:8080/"
    },
    "id": "DUg1vsKfomCx",
    "outputId": "66dc767c-34c5-4a2d-821b-626b54c56fc3",
    "pycharm": {
     "name": "#%%\n"
    }
   },
   "execution_count": 10,
   "outputs": [
    {
     "name": "stdout",
     "output_type": "stream",
     "text": [
      "The grade point average is:  6.78\n"
     ]
    }
   ]
  },
  {
   "cell_type": "code",
   "source": [
    "# using statistics module mean function\n",
    "from statistics import mean as average\n",
    "average = average(grades)\n",
    "print('The grade point average is: ', round(average, 2))"
   ],
   "metadata": {
    "colab": {
     "base_uri": "https://localhost:8080/"
    },
    "id": "cKWwBZWZpJpm",
    "outputId": "db3e03b1-7fbf-401b-9b92-787dcc864a52",
    "pycharm": {
     "name": "#%%\n"
    }
   },
   "execution_count": 11,
   "outputs": [
    {
     "name": "stdout",
     "output_type": "stream",
     "text": [
      "The grade point average is:  6.78\n"
     ]
    }
   ]
  }
 ]
}