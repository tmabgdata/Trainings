{
 "nbformat": 4,
 "nbformat_minor": 0,
 "metadata": {
  "colab": {
   "name": "programming_logic_VIII.ipynb",
   "provenance": [],
   "collapsed_sections": [],
   "authorship_tag": "ABX9TyO7yJtgQUOChQ97VdoIEYAG",
   "include_colab_link": true
  },
  "kernelspec": {
   "name": "python3",
   "display_name": "Python 3"
  },
  "language_info": {
   "name": "python"
  }
 },
 "cells": [
  {
   "cell_type": "markdown",
   "source": [
    "# Building and manipulating tuples"
   ],
   "metadata": {
    "id": "OFF3XXHpgJrU",
    "pycharm": {
     "name": "#%% md\n"
    }
   }
  },
  {
   "cell_type": "code",
   "execution_count": 1,
   "metadata": {
    "id": "3MRTPez6drgA",
    "pycharm": {
     "name": "#%%\n"
    }
   },
   "outputs": [],
   "source": [
    "backpack = ('Axe', 'Shirt', 'Bacon', 'Avocado')"
   ]
  },
  {
   "cell_type": "code",
   "source": [
    "print(backpack[0])\n",
    "print(backpack[2])\n",
    "print(backpack[0:2])\n",
    "print(backpack[2:])\n",
    "print(backpack[-1])"
   ],
   "metadata": {
    "colab": {
     "base_uri": "https://localhost:8080/"
    },
    "id": "17WT1iELgkoL",
    "outputId": "76dd5973-494a-49ed-9db8-9ab2a71742ef",
    "pycharm": {
     "name": "#%%\n"
    }
   },
   "execution_count": 2,
   "outputs": [
    {
     "name": "stdout",
     "output_type": "stream",
     "text": [
      "Axe\n",
      "Bacon\n",
      "('Axe', 'Shirt')\n",
      "('Bacon', 'Avocado')\n",
      "Avocado\n"
     ]
    }
   ]
  },
  {
   "cell_type": "code",
   "source": [
    "backpack[2] = 'Eggs' # error: tuple is static and immutable"
   ],
   "metadata": {
    "colab": {
     "base_uri": "https://localhost:8080/",
     "height": 165
    },
    "id": "spcUYb2bg-aA",
    "outputId": "5ca3f56d-d0d4-43f0-ef2e-b99dbb3fcbdd",
    "pycharm": {
     "name": "#%%\n"
    }
   },
   "execution_count": 3,
   "outputs": [
    {
     "ename": "TypeError",
     "evalue": "'tuple' object does not support item assignment",
     "output_type": "error",
     "traceback": [
      "\u001B[1;31m---------------------------------------------------------------------------\u001B[0m",
      "\u001B[1;31mTypeError\u001B[0m                                 Traceback (most recent call last)",
      "\u001B[1;32m~\\AppData\\Local\\Temp/ipykernel_10120/846707387.py\u001B[0m in \u001B[0;36m<module>\u001B[1;34m\u001B[0m\n\u001B[1;32m----> 1\u001B[1;33m \u001B[0mbackpack\u001B[0m\u001B[1;33m[\u001B[0m\u001B[1;36m2\u001B[0m\u001B[1;33m]\u001B[0m \u001B[1;33m=\u001B[0m \u001B[1;34m'Eggs'\u001B[0m \u001B[1;31m# error: tuple is static and immutable\u001B[0m\u001B[1;33m\u001B[0m\u001B[1;33m\u001B[0m\u001B[0m\n\u001B[0m",
      "\u001B[1;31mTypeError\u001B[0m: 'tuple' object does not support item assignment"
     ]
    }
   ]
  },
  {
   "cell_type": "code",
   "source": [
    "backpack = ('Axe', 'Shirt', 'Bacon', 'Avocado')\n",
    "upgrade = ('Cheese', 'Knife')\n",
    "large_backpack = backpack + upgrade\n",
    "\n",
    "print(backpack)\n",
    "print(upgrade)\n",
    "print(large_backpack)"
   ],
   "metadata": {
    "colab": {
     "base_uri": "https://localhost:8080/"
    },
    "id": "8DSTsJdatggd",
    "outputId": "ce71521f-f2c8-4942-91cd-9ea511404422",
    "pycharm": {
     "name": "#%%\n"
    }
   },
   "execution_count": 4,
   "outputs": [
    {
     "name": "stdout",
     "output_type": "stream",
     "text": [
      "('Axe', 'Shirt', 'Bacon', 'Avocado')\n",
      "('Cheese', 'Knife')\n",
      "('Axe', 'Shirt', 'Bacon', 'Avocado', 'Cheese', 'Knife')\n"
     ]
    }
   ]
  },
  {
   "cell_type": "code",
   "source": [
    "inverted_large_backpack = upgrade + backpack\n",
    "print(large_backpack)\n",
    "print(inverted_large_backpack)"
   ],
   "metadata": {
    "colab": {
     "base_uri": "https://localhost:8080/"
    },
    "id": "8UAW0C7S0lVs",
    "outputId": "03e4cfb9-5b36-48f4-e136-897c02875f63",
    "pycharm": {
     "name": "#%%\n"
    }
   },
   "execution_count": 5,
   "outputs": [
    {
     "name": "stdout",
     "output_type": "stream",
     "text": [
      "('Axe', 'Shirt', 'Bacon', 'Avocado', 'Cheese', 'Knife')\n",
      "('Cheese', 'Knife', 'Axe', 'Shirt', 'Bacon', 'Avocado')\n"
     ]
    }
   ]
  },
  {
   "cell_type": "markdown",
   "source": [
    "# Unwrapping parameters in functions\n",
    "\n",
    "- Suppose you want to perform the sum of several values, however, you do not know how many values will be added. It could be that there are only 2, or else 10, or even 100 numbers\n",
    "\n",
    "- How to create a function capable of receiving such a variable number of parameters?"
   ],
   "metadata": {
    "id": "1uTOKTHT1PGV",
    "pycharm": {
     "name": "#%% md\n"
    }
   }
  },
  {
   "cell_type": "code",
   "source": [
    "def sum(*num):\n",
    "  sum = 0\n",
    "  print(f'Tuple {num}')\n",
    "  for i in num:\n",
    "    sum += i\n",
    "  return sum\n",
    "\n",
    "# Main Program\n",
    "print(f'Result: {sum(1,2)}')\n",
    "print(f'Result: {sum(1, 2, 3, 4, 5, 6, 7, 8, 9)}')"
   ],
   "metadata": {
    "colab": {
     "base_uri": "https://localhost:8080/"
    },
    "id": "gxXb5du800Su",
    "outputId": "e2f06c81-9ec8-47d0-e829-77f333e056f5",
    "pycharm": {
     "name": "#%%\n"
    }
   },
   "execution_count": 6,
   "outputs": [
    {
     "name": "stdout",
     "output_type": "stream",
     "text": [
      "Tuple (1, 2)\n",
      "Result: 3\n",
      "Tuple (1, 2, 3, 4, 5, 6, 7, 8, 9)\n",
      "Result: 45\n"
     ]
    }
   ]
  },
  {
   "cell_type": "markdown",
   "source": [
    "## Lists\n",
    "\n",
    "- **dynamic** data structure\n",
    "- We can change data and sizes\n",
    "- Indexed by integer numeric values\n",
    "- Represented in Python by square brackets"
   ],
   "metadata": {
    "id": "Ag3iGErt5tP2",
    "pycharm": {
     "name": "#%% md\n"
    }
   }
  },
  {
   "cell_type": "code",
   "source": [
    "backpack = ('Axe', 'Shirt', 'Bacon', 'Avocado')\n",
    "print(f'Tuple', backpack)\n",
    "backpack = ['Axe', 'Shirt', 'Bacon', 'Avocado']\n",
    "print(f'List', backpack)"
   ],
   "metadata": {
    "colab": {
     "base_uri": "https://localhost:8080/"
    },
    "id": "3KLND6Nb6F5S",
    "outputId": "b8211452-20ee-42c8-e057-b22f334e3272",
    "pycharm": {
     "name": "#%%\n"
    }
   },
   "execution_count": 7,
   "outputs": [
    {
     "name": "stdout",
     "output_type": "stream",
     "text": [
      "Tuple ('Axe', 'Shirt', 'Bacon', 'Avocado')\n",
      "List ['Axe', 'Shirt', 'Bacon', 'Avocado']\n"
     ]
    }
   ]
  },
  {
   "cell_type": "code",
   "source": [
    "backpack[2] = 'Orange'\n",
    "print('List: ', backpack)"
   ],
   "metadata": {
    "colab": {
     "base_uri": "https://localhost:8080/"
    },
    "id": "cA9Cttu57Vl3",
    "outputId": "1acab640-e299-44ec-8e1e-d8d773327235",
    "pycharm": {
     "name": "#%%\n"
    }
   },
   "execution_count": 8,
   "outputs": [
    {
     "name": "stdout",
     "output_type": "stream",
     "text": [
      "List:  ['Axe', 'Shirt', 'Orange', 'Avocado']\n"
     ]
    }
   ]
  },
  {
   "cell_type": "markdown",
   "source": [
    "# Manipulating *Lists*"
   ],
   "metadata": {
    "id": "psx480Ek9Xme",
    "pycharm": {
     "name": "#%% md\n"
    }
   }
  },
  {
   "cell_type": "code",
   "source": [
    "backpack.append('Eggs')\n",
    "print('List', backpack)"
   ],
   "metadata": {
    "colab": {
     "base_uri": "https://localhost:8080/"
    },
    "id": "G9l5f-L97igx",
    "outputId": "7b676286-26d5-4986-af06-fb638699566b",
    "pycharm": {
     "name": "#%%\n"
    }
   },
   "execution_count": 9,
   "outputs": [
    {
     "name": "stdout",
     "output_type": "stream",
     "text": [
      "List ['Axe', 'Shirt', 'Orange', 'Avocado', 'Eggs']\n"
     ]
    }
   ]
  },
  {
   "cell_type": "code",
   "source": [
    "backpack.insert(1, 'Pyknife')\n",
    "print('List', backpack)"
   ],
   "metadata": {
    "colab": {
     "base_uri": "https://localhost:8080/"
    },
    "id": "knDP08719wlX",
    "outputId": "91a98bfd-1217-4d01-e1bc-3ca1b47fd8b7",
    "pycharm": {
     "name": "#%%\n"
    }
   },
   "execution_count": 10,
   "outputs": [
    {
     "name": "stdout",
     "output_type": "stream",
     "text": [
      "List ['Axe', 'Pyknife', 'Shirt', 'Orange', 'Avocado', 'Eggs']\n"
     ]
    }
   ]
  },
  {
   "cell_type": "code",
   "source": [
    "del backpack[1]\n",
    "print('List: ', backpack)\n",
    "backpack.remove('Eggs')\n",
    "print('List: ', backpack)"
   ],
   "metadata": {
    "colab": {
     "base_uri": "https://localhost:8080/"
    },
    "id": "YVGsSLs3-K81",
    "outputId": "ad146fa1-78e3-4b47-d4df-14cbbfa8c405",
    "pycharm": {
     "name": "#%%\n"
    }
   },
   "execution_count": 11,
   "outputs": [
    {
     "name": "stdout",
     "output_type": "stream",
     "text": [
      "List:  ['Axe', 'Shirt', 'Orange', 'Avocado', 'Eggs']\n",
      "List:  ['Axe', 'Shirt', 'Orange', 'Avocado']\n"
     ]
    }
   ]
  },
  {
   "cell_type": "markdown",
   "source": [
    "## Copying lists"
   ],
   "metadata": {
    "id": "QoVFHAtx_fj8",
    "pycharm": {
     "name": "#%% md\n"
    }
   }
  },
  {
   "cell_type": "code",
   "source": [
    "# Same Reference\n",
    "\n",
    "x = [5, 7, 9, 11]\n",
    "y = x\n",
    "print(x)\n",
    "print(y)"
   ],
   "metadata": {
    "colab": {
     "base_uri": "https://localhost:8080/"
    },
    "id": "x8zVr8X4_iit",
    "outputId": "96ce948a-484d-438d-bd11-516c08d4facc",
    "pycharm": {
     "name": "#%%\n"
    }
   },
   "execution_count": 12,
   "outputs": [
    {
     "name": "stdout",
     "output_type": "stream",
     "text": [
      "[5, 7, 9, 11]\n",
      "[5, 7, 9, 11]\n"
     ]
    }
   ]
  },
  {
   "cell_type": "code",
   "source": [
    "y[0] = 2\n",
    "print(x)\n",
    "print(y)"
   ],
   "metadata": {
    "colab": {
     "base_uri": "https://localhost:8080/"
    },
    "id": "xyNtO-dCAPFT",
    "outputId": "1833c511-c7dd-480c-c16f-c007ce88d05e",
    "pycharm": {
     "name": "#%%\n"
    }
   },
   "execution_count": 13,
   "outputs": [
    {
     "name": "stdout",
     "output_type": "stream",
     "text": [
      "[2, 7, 9, 11]\n",
      "[2, 7, 9, 11]\n"
     ]
    }
   ]
  },
  {
   "cell_type": "code",
   "source": [
    "# copy\n",
    "\n",
    "x = [5, 7, 9, 11]\n",
    "y = x[:]\n",
    "print(x)\n",
    "print(y)"
   ],
   "metadata": {
    "colab": {
     "base_uri": "https://localhost:8080/"
    },
    "id": "g_F9QkZsAnhx",
    "outputId": "7d0fe1c0-f336-430a-c223-9c801e3e0d82",
    "pycharm": {
     "name": "#%%\n"
    }
   },
   "execution_count": 14,
   "outputs": [
    {
     "name": "stdout",
     "output_type": "stream",
     "text": [
      "[5, 7, 9, 11]\n",
      "[5, 7, 9, 11]\n"
     ]
    }
   ]
  },
  {
   "cell_type": "code",
   "source": [
    "y[0] = 2\n",
    "print(x)\n",
    "print(y)"
   ],
   "metadata": {
    "colab": {
     "base_uri": "https://localhost:8080/"
    },
    "id": "G7aH0nwnCWQt",
    "outputId": "cbe3332f-2689-439d-cca7-410a9521a1f9",
    "pycharm": {
     "name": "#%%\n"
    }
   },
   "execution_count": 15,
   "outputs": [
    {
     "name": "stdout",
     "output_type": "stream",
     "text": [
      "[5, 7, 9, 11]\n",
      "[2, 7, 9, 11]\n"
     ]
    }
   ]
  },
  {
   "cell_type": "markdown",
   "source": [
    "### What are methods?\n",
    "\n",
    "- A list is an object of a class within Python\n",
    "- Object-oriented programming (OOP) paradigms\n",
    "- **Method** is equivalent to **Function**\n",
    "   - backpack.append('Eggs')\n",
    "   - variable.function(parameter)"
   ],
   "metadata": {
    "id": "hRUlRP2qDEE3",
    "pycharm": {
     "name": "#%% md\n"
    }
   }
  },
  {
   "cell_type": "markdown",
   "source": [
    "### Strings inside Lists"
   ],
   "metadata": {
    "id": "l3E7joncFRu1",
    "pycharm": {
     "name": "#%% md\n"
    }
   }
  },
  {
   "cell_type": "markdown",
   "source": [
    "#### Double indexing\n",
    "\n",
    "- The first index refers to each item in the list\n",
    "- The second index refers to each item in the second list\n",
    "- Thus, we can access not only each data within the list, but also each character of the strings of an index of the list"
   ],
   "metadata": {
    "id": "ZYxXSY8gFrmj",
    "pycharm": {
     "name": "#%% md\n"
    }
   }
  },
  {
   "cell_type": "code",
   "source": [
    "backpack = ['Axe', 'Shirt', 'Bacon', 'Avocado']\n",
    "print(backpack[0])"
   ],
   "metadata": {
    "colab": {
     "base_uri": "https://localhost:8080/"
    },
    "id": "si6LuDTECW6d",
    "outputId": "5b937022-b27a-4f1d-e533-77a675de8e7d",
    "pycharm": {
     "name": "#%%\n"
    }
   },
   "execution_count": 16,
   "outputs": [
    {
     "name": "stdout",
     "output_type": "stream",
     "text": [
      "Axe\n"
     ]
    }
   ]
  },
  {
   "cell_type": "code",
   "source": [
    "backpack = ['Axe', 'Shirt', 'Bacon', 'Avocado']\n",
    "print(backpack[0][0])\n",
    "print(backpack[2][1])"
   ],
   "metadata": {
    "colab": {
     "base_uri": "https://localhost:8080/"
    },
    "id": "bXd_8XUdHD9P",
    "outputId": "16b85c30-be61-4cc5-97d6-f24bee72c0e1",
    "pycharm": {
     "name": "#%%\n"
    }
   },
   "execution_count": 17,
   "outputs": [
    {
     "name": "stdout",
     "output_type": "stream",
     "text": [
      "A\n",
      "a\n"
     ]
    }
   ]
  },
  {
   "cell_type": "code",
   "source": [
    "backpack = ['Axe', 'Shirt', 'Bacon', 'Avocado']\n",
    "for item in backpack:\n",
    "  for letter in item:\n",
    "    print(letter, end='')\n",
    "  print()"
   ],
   "metadata": {
    "colab": {
     "base_uri": "https://localhost:8080/"
    },
    "id": "ld5n_lGLHQC9",
    "outputId": "fa497864-9cda-4701-ed8c-8b09dc0c03d9",
    "pycharm": {
     "name": "#%%\n"
    }
   },
   "execution_count": 18,
   "outputs": [
    {
     "name": "stdout",
     "output_type": "stream",
     "text": [
      "Axe\n",
      "Shirt\n",
      "Bacon\n",
      "Avocado\n"
     ]
    }
   ]
  },
  {
   "cell_type": "code",
   "source": [
    "backpack = ['Axe', 'Shirt', 'Bacon', 'Avocado']\n",
    "for i in range(0, len(backpack), 1):\n",
    "  for j in range(0, len(backpack[i]), 1):\n",
    "    print(backpack[i][j], end='')\n",
    "  print()"
   ],
   "metadata": {
    "colab": {
     "base_uri": "https://localhost:8080/"
    },
    "id": "7N-y5TAOIfJT",
    "outputId": "d23bb8a9-2212-4618-9e8d-75c115f4dddf",
    "pycharm": {
     "name": "#%%\n"
    }
   },
   "execution_count": 19,
   "outputs": [
    {
     "name": "stdout",
     "output_type": "stream",
     "text": [
      "Axe\n",
      "Shirt\n",
      "Bacon\n",
      "Avocado\n"
     ]
    }
   ]
  },
  {
   "cell_type": "markdown",
   "source": [
    "- Imagine a situation in which you must register a shopping list in a system. Each purchased product must be registered with its name, quantity and unit value."
   ],
   "metadata": {
    "id": "bkka8v_AJlGs",
    "pycharm": {
     "name": "#%% md\n"
    }
   }
  },
  {
   "cell_type": "code",
   "source": [
    "item = []\n",
    "market = []\n",
    "\n",
    "for i in range(3):\n",
    "  item.append(input('Enter item name: '))\n",
    "  item.append(input('Enter quantity: '))\n",
    "  item.append(input('Enter the value: '))\n",
    "  market.append(item[:])\n",
    "  item.clear()\n",
    "print(market)"
   ],
   "metadata": {
    "id": "UuMP3BxyKJ4w",
    "colab": {
     "base_uri": "https://localhost:8080/"
    },
    "outputId": "8bb6088d-4cc7-4f99-88df-1d0aeabb0848",
    "pycharm": {
     "name": "#%%\n"
    }
   },
   "execution_count": 20,
   "outputs": [
    {
     "name": "stdout",
     "output_type": "stream",
     "text": [
      "[['Orange', '5', '0.95'], ['Apple', '5', '1.95'], ['Tomato', '5', '2.65']]\n"
     ]
    }
   ]
  },
  {
   "cell_type": "code",
   "source": [
    "# another alternative and better way, in my view.\n",
    "\n",
    "market = []\n",
    "\n",
    "for i in range(3):\n",
    "  name = input('Enter item name: ')\n",
    "  qty = int(input('Enter quantity: '))\n",
    "  value = float(input('Enter the value: '))\n",
    "  market.append([name, qty, value])\n",
    "print(market)"
   ],
   "metadata": {
    "colab": {
     "base_uri": "https://localhost:8080/"
    },
    "id": "1E1pKPOooXHc",
    "outputId": "1196c5a4-204d-4804-a357-d9c9d53737d8",
    "pycharm": {
     "name": "#%%\n"
    }
   },
   "execution_count": 22,
   "outputs": [
    {
     "name": "stdout",
     "output_type": "stream",
     "text": [
      "[['Tomato', 5, 1.65], ['Orange', 5, 2.65], ['Apple', 3, 0.95]]\n"
     ]
    }
   ]
  },
  {
   "cell_type": "code",
   "source": [
    "# What is the name of the first product?\n",
    "print(market[0][0])\n",
    "\n",
    "# How much does a tomato cost?\n",
    "print(market[1][2])\n",
    "\n",
    "# How many bags of rice were purchased?\n",
    "print(market[2][1])"
   ],
   "metadata": {
    "colab": {
     "base_uri": "https://localhost:8080/"
    },
    "id": "iwN45pKkovna",
    "outputId": "cb7c7895-216e-4d7d-95af-75a91ed3c349",
    "pycharm": {
     "name": "#%%\n"
    }
   },
   "execution_count": 23,
   "outputs": [
    {
     "name": "stdout",
     "output_type": "stream",
     "text": [
      "Tomato\n",
      "2.65\n",
      "3\n"
     ]
    }
   ]
  },
  {
   "cell_type": "code",
   "source": [
    "# print the list\n",
    "\n",
    "sum = 0\n",
    "\n",
    "print('Shopping list: ')\n",
    "print('-' * 20)\n",
    "print('Item | Quantity | Unit Value | Item Total')\n",
    "for item in market:\n",
    "  print('{} | {} | {} | {}'.format(item[0], item[1], item[2], item[1] * item[2]))\n",
    "  sum += item[1] * item[2]\n",
    "print('-' * 20)\n",
    "print('Total to be paid: {}'.format(sum))"
   ],
   "metadata": {
    "colab": {
     "base_uri": "https://localhost:8080/"
    },
    "id": "EgYGsTJ8pUSg",
    "outputId": "0b351c04-7d68-4b6d-c0a9-59b94b225f9d",
    "pycharm": {
     "name": "#%%\n"
    }
   },
   "execution_count": 24,
   "outputs": [
    {
     "name": "stdout",
     "output_type": "stream",
     "text": [
      "Shopping list: \n",
      "--------------------\n",
      "Item | Quantity | Unit Value | Item Total\n",
      "Tomato | 5 | 1.65 | 8.25\n",
      "Orange | 5 | 2.65 | 13.25\n",
      "Apple | 3 | 0.95 | 2.8499999999999996\n",
      "--------------------\n",
      "Total to be paid: 24.35\n"
     ]
    }
   ]
  },
  {
   "cell_type": "markdown",
   "source": [
    "- Write an algorithm in Python that creates an empty list and adds values referring to a student's grades in this list. When the user wants to stop typing grades (by typing a negative value, for example), calculate the average of the grades typed. Also, handle the division by zero exception (ZeroDivisionError). This exception may occur if the user does not enter any valid grades."
   ],
   "metadata": {
    "id": "yKpTXAkQswGb",
    "pycharm": {
     "name": "#%% md\n"
    }
   }
  },
  {
   "cell_type": "code",
   "source": [
    "try:\n",
    "  notes = []\n",
    "  x = float(input('Enter a note: '))\n",
    "  while x >= 0:\n",
    "    notes.append(x)\n",
    "    x = float(input('Enter a note: '))\n",
    "  sum = 0\n",
    "  for i in notes:\n",
    "    sum += i\n",
    "  average = round(sum/len(notes), 2)\n",
    "  print(notes)\n",
    "  print(f'Average of grades typed: {average}')\n",
    "except ZeroDivisionError:\n",
    "  print('No value was entered for the calculation. Closing...')"
   ],
   "metadata": {
    "colab": {
     "base_uri": "https://localhost:8080/"
    },
    "id": "H2aAbMb-s-_G",
    "outputId": "55c5275c-3e1c-4e9f-b48f-9fbb2be9864e",
    "pycharm": {
     "name": "#%%\n"
    }
   },
   "execution_count": 25,
   "outputs": [
    {
     "name": "stdout",
     "output_type": "stream",
     "text": [
      "[8.6, 9.5, 7.9, 10.0, 10.0, 9.6, 8.6, 0.0]\n",
      "Average of grades typed: 8.03\n"
     ]
    }
   ]
  },
  {
   "cell_type": "markdown",
   "source": [
    "- The simplest algorithm for fetching data in a data structure is called fetching\n",
    "sequential. The sequential search is a simple scan from the first to the last element of the structure,\n",
    "checking if the desired data is present.\n",
    "Write a Python function that takes a list and data as parameters. Check if the\n",
    "data is present in the list and return from the function its index, if it is present, otherwise,\n",
    "return -1."
   ],
   "metadata": {
    "id": "g6c5tKXMuyGE",
    "pycharm": {
     "name": "#%% md\n"
    }
   }
  },
  {
   "cell_type": "code",
   "source": [
    "def sequential_search(list, data):\n",
    "  x = 0\n",
    "  while x < len(list):\n",
    "    if list[x] == data:\n",
    "      return x\n",
    "    x += 1\n",
    "  return -1\n",
    "\n",
    "# main program\n",
    "test = [3,7,9,1,7,5,12]\n",
    "\n",
    "# use the data type you want, just change it here\n",
    "data = int(input('Enter an integer value: '))\n",
    "res = sequential_search(test, data)\n",
    "if res >= 0:\n",
    "  print(f'Position where {data} was found: {res+1}')\n",
    "else:\n",
    "  print('Data not found...')"
   ],
   "metadata": {
    "colab": {
     "base_uri": "https://localhost:8080/"
    },
    "id": "wtpmVcOvu0bD",
    "outputId": "e2030ad8-d67c-4424-b528-f79a7a24dbdd",
    "pycharm": {
     "name": "#%%\n"
    }
   },
   "execution_count": 26,
   "outputs": [
    {
     "name": "stdout",
     "output_type": "stream",
     "text": [
      "Position where 5 was found: 6\n"
     ]
    }
   ]
  },
  {
   "cell_type": "markdown",
   "source": [
    "Write an algorithm that reads people's name, height, and weight and stores the information in\n",
    "a list. The program must register an indeterminate number of data and store it within the\n",
    "it also lists the person's BMI. At the end of the program, print the complete list and also:\n",
    "   - The total number of registrations\n",
    "   - The person with the highest BMI\n",
    "   - The person with the lowest BMI\n",
    "\n",
    "The BMI calculation must be performed using a lambda function and is given as: BMI = weight /\n",
    "(height²).\n",
    "\n",
    "Where mass is given in kilograms and height is given in meters."
   ],
   "metadata": {
    "id": "S936f6_Rv2ci",
    "pycharm": {
     "name": "#%% md\n"
    }
   }
  },
  {
   "cell_type": "code",
   "source": [
    "people = []\n",
    "imc = lambda weight, height: weight / (height**2)\n",
    "\n",
    "while True:\n",
    "  name = input('Name: ')\n",
    "  height = float(input('Height (m): '))\n",
    "  weight = int(input('Weight: '))\n",
    "  x = imc(weight, height)\n",
    "  people.append([name, weight, height, x])\n",
    "  res = input('I wish to register one more time: [Y/N]')\n",
    "  if res in 'Nn':\n",
    "    break\n",
    "print('Registers: ', people)\n",
    "print('Total entries:', len(people))\n",
    "biggest = 0\n",
    "smallest = 99\n",
    "for i in range(0, len(people), 1):\n",
    "  if people[i][3] > biggest:\n",
    "    biggest = people[i][3]\n",
    "  if people [i][3] < smallest:\n",
    "    smallest = people[i][3]\n",
    "print('Highest BMI:', round(biggest, 2))\n",
    "print('Lowest BMI:', round(smallest, 2))"
   ],
   "metadata": {
    "colab": {
     "base_uri": "https://localhost:8080/"
    },
    "id": "H6CnONRLvqQk",
    "outputId": "bce6941c-f920-46af-e03e-f715688a8130",
    "pycharm": {
     "name": "#%%\n"
    }
   },
   "execution_count": 27,
   "outputs": [
    {
     "name": "stdout",
     "output_type": "stream",
     "text": [
      "Registers:  [['Thiago', 103, 185.0, 0.0030094959824689556]]\n",
      "Total entries: 1\n",
      "Highest BMI: 0.0\n",
      "Lowest BMI: 0.0\n"
     ]
    }
   ]
  },
  {
   "cell_type": "markdown",
   "source": [
    "# Dictionaries"
   ],
   "metadata": {
    "id": "PYyOTfW7zL9w",
    "pycharm": {
     "name": "#%% md\n"
    }
   }
  },
  {
   "cell_type": "code",
   "source": [
    "backpack = ('Axe', 'Shirt', 'Bacon', 'Avocado')\n",
    "print('Tuple', backpack)\n",
    "backpack = ['Axe', 'Shirt', 'Bacon', 'Avocado']\n",
    "print('List', backpack)\n",
    "backpack = {'Axe': 1, 'Shirt': 2, 'Bacon': 3, 'Avocado': 4}\n",
    "print('Dictionary: ', backpack)"
   ],
   "metadata": {
    "colab": {
     "base_uri": "https://localhost:8080/"
    },
    "id": "K_UgLUj6xYU5",
    "outputId": "e1f60378-09a0-407b-94a5-b4071415b9a5",
    "pycharm": {
     "name": "#%%\n"
    }
   },
   "execution_count": 28,
   "outputs": [
    {
     "name": "stdout",
     "output_type": "stream",
     "text": [
      "Tuple ('Axe', 'Shirt', 'Bacon', 'Avocado')\n",
      "List ['Axe', 'Shirt', 'Bacon', 'Avocado']\n",
      "Dictionary:  {'Axe': 1, 'Shirt': 2, 'Bacon': 3, 'Avocado': 4}\n"
     ]
    }
   ]
  },
  {
   "cell_type": "code",
   "source": [
    "game = {'name' : 'Super Mario',\n",
    "        'Developer': 'Nintendo',\n",
    "        'Launch': 1990}\n",
    "print(game)"
   ],
   "metadata": {
    "colab": {
     "base_uri": "https://localhost:8080/"
    },
    "id": "YS5NnC6Yz1mc",
    "outputId": "9b64d8d7-362d-409a-96a4-06a133e8a9c2",
    "pycharm": {
     "name": "#%%\n"
    }
   },
   "execution_count": 29,
   "outputs": [
    {
     "name": "stdout",
     "output_type": "stream",
     "text": [
      "{'name': 'Super Mario', 'Developer': 'Nintendo', 'Launch': 1990}\n"
     ]
    }
   ]
  },
  {
   "cell_type": "code",
   "source": [
    "print(game['name'])\n",
    "print(game['Developer'])\n",
    "print(game['Launch'])"
   ],
   "metadata": {
    "colab": {
     "base_uri": "https://localhost:8080/"
    },
    "id": "q6Fm0Pqa9Gb6",
    "outputId": "d2d43627-439c-4397-b377-edbaf0df0e7b",
    "pycharm": {
     "name": "#%%\n"
    }
   },
   "execution_count": 30,
   "outputs": [
    {
     "name": "stdout",
     "output_type": "stream",
     "text": [
      "Super Mario\n",
      "Nintendo\n",
      "1990\n"
     ]
    }
   ]
  },
  {
   "cell_type": "code",
   "source": [
    "print(game.values())"
   ],
   "metadata": {
    "colab": {
     "base_uri": "https://localhost:8080/"
    },
    "id": "9sKzlHj594sG",
    "outputId": "477ba0f5-6755-4cee-c8e4-94ec44f23539",
    "pycharm": {
     "name": "#%%\n"
    }
   },
   "execution_count": 34,
   "outputs": [
    {
     "name": "stdout",
     "output_type": "stream",
     "text": [
      "dict_values(['Super Mario', 'Nintendo', 1990])\n"
     ]
    }
   ]
  },
  {
   "cell_type": "code",
   "source": [
    "for i in game.values():\n",
    "  print(i)"
   ],
   "metadata": {
    "colab": {
     "base_uri": "https://localhost:8080/"
    },
    "id": "LF8WW0_h-CYG",
    "outputId": "21b1166d-fc78-42e7-d736-537ff25d3e24",
    "pycharm": {
     "name": "#%%\n"
    }
   },
   "execution_count": 35,
   "outputs": [
    {
     "name": "stdout",
     "output_type": "stream",
     "text": [
      "Super Mario\n",
      "Nintendo\n",
      "1990\n"
     ]
    }
   ]
  },
  {
   "cell_type": "code",
   "source": [
    "print(game.keys())"
   ],
   "metadata": {
    "colab": {
     "base_uri": "https://localhost:8080/"
    },
    "id": "mC0vGDRQ-ICv",
    "outputId": "f7721351-fe6d-49f2-85ba-86449d3509aa",
    "pycharm": {
     "name": "#%%\n"
    }
   },
   "execution_count": 36,
   "outputs": [
    {
     "name": "stdout",
     "output_type": "stream",
     "text": [
      "dict_keys(['name', 'Developer', 'Launch'])\n"
     ]
    }
   ]
  },
  {
   "cell_type": "code",
   "source": [
    "for i in game.keys():\n",
    "  print(i)"
   ],
   "metadata": {
    "colab": {
     "base_uri": "https://localhost:8080/"
    },
    "id": "LwOKOKcp-Nlp",
    "outputId": "c32390b2-bb01-4d57-bfc1-ed5b3c20bafa",
    "pycharm": {
     "name": "#%%\n"
    }
   },
   "execution_count": 37,
   "outputs": [
    {
     "name": "stdout",
     "output_type": "stream",
     "text": [
      "name\n",
      "Developer\n",
      "Launch\n"
     ]
    }
   ]
  },
  {
   "cell_type": "code",
   "source": [
    "print(game.items())"
   ],
   "metadata": {
    "colab": {
     "base_uri": "https://localhost:8080/"
    },
    "id": "WDfqsM8O-Rz-",
    "outputId": "ad32d14b-e606-47e5-c360-46dd7fae746b",
    "pycharm": {
     "name": "#%%\n"
    }
   },
   "execution_count": 38,
   "outputs": [
    {
     "name": "stdout",
     "output_type": "stream",
     "text": [
      "dict_items([('name', 'Super Mario'), ('Developer', 'Nintendo'), ('Launch', 1990)])\n"
     ]
    }
   ]
  },
  {
   "cell_type": "code",
   "source": [
    "for i,j in game.items():\n",
    "  print(f'{i}:{j}')"
   ],
   "metadata": {
    "colab": {
     "base_uri": "https://localhost:8080/"
    },
    "id": "ID2nvXNN-Wml",
    "outputId": "02f50427-f102-4a98-8491-3d91c701a7f5",
    "pycharm": {
     "name": "#%%\n"
    }
   },
   "execution_count": 39,
   "outputs": [
    {
     "name": "stdout",
     "output_type": "stream",
     "text": [
      "name:Super Mario\n",
      "Developer:Nintendo\n",
      "Launch:1990\n"
     ]
    }
   ]
  },
  {
   "cell_type": "code",
   "source": [
    "games = []\n",
    "game1 = {'name':'Super Mario',\n",
    "         'console':'Super Nintendo',\n",
    "         'release':1990}\n",
    "game2 = {'name':'Zelda',\n",
    "         'console':'Nintendo 64',\n",
    "         'release':1998}\n",
    "game3 = {'name':'Pokemon Yellow',\n",
    "         'console':'Game Boy',\n",
    "         'release':1999}\n",
    "games = [game1, game2, game3]\n",
    "print(games)"
   ],
   "metadata": {
    "colab": {
     "base_uri": "https://localhost:8080/"
    },
    "id": "w4b9xMJT-lwd",
    "outputId": "4e6b9112-1199-4763-b85c-69deaae3c8af",
    "pycharm": {
     "name": "#%%\n"
    }
   },
   "execution_count": 40,
   "outputs": [
    {
     "name": "stdout",
     "output_type": "stream",
     "text": [
      "[{'name': 'Super Mario', 'console': 'Super Nintendo', 'release': 1990}, {'name': 'Zelda', 'console': 'Nintendo 64', 'release': 1998}, {'name': 'Pokemon Yellow', 'console': 'Game Boy', 'release': 1999}]\n"
     ]
    }
   ]
  },
  {
   "cell_type": "code",
   "source": [
    "game = {}\n",
    "games = []\n",
    "for i in range(3):\n",
    "  game['name'] = input('What is the name of the game? ')\n",
    "  game['console'] = input('What console was it released for? ')\n",
    "  game['release'] = input('What year is it released? ')\n",
    "  games.append(game.copy())\n",
    "print('-' * 20)\n",
    "for e in games:\n",
    "  for i,j in e.items():\n",
    "    print(f'The field {i} has the value {j}.')"
   ],
   "metadata": {
    "colab": {
     "base_uri": "https://localhost:8080/"
    },
    "id": "bxoCuCsmBNPb",
    "outputId": "40344064-fa94-4cce-ec77-c5f8c6efd578",
    "pycharm": {
     "name": "#%%\n"
    }
   },
   "execution_count": 41,
   "outputs": [
    {
     "name": "stdout",
     "output_type": "stream",
     "text": [
      "--------------------\n",
      "The field name has the value Super Mario.\n",
      "The field console has the value Super Nintendo.\n",
      "The field release has the value 1990.\n",
      "The field name has the value Zelda.\n",
      "The field console has the value Nintendo 64.\n",
      "The field release has the value 1998.\n",
      "The field name has the value Pokémon Yellow.\n",
      "The field console has the value Game Boy.\n",
      "The field release has the value 1999.\n"
     ]
    }
   ]
  },
  {
   "cell_type": "code",
   "source": [
    "games = {\n",
    "  'name':['Super Mario', 'Zelda Ocarina of Time', 'Pokémon Yellow'],\n",
    "  'Console':['Super Nintendo', 'Nintendo 64', 'Game Boy'],\n",
    "  'Release':[1990,1998,1999]\n",
    "}\n",
    "print(games)"
   ],
   "metadata": {
    "colab": {
     "base_uri": "https://localhost:8080/"
    },
    "id": "YmZpwvVyCQQ5",
    "outputId": "ce70e790-ce96-4414-e5a0-478fcd027f77",
    "pycharm": {
     "name": "#%%\n"
    }
   },
   "execution_count": 42,
   "outputs": [
    {
     "name": "stdout",
     "output_type": "stream",
     "text": [
      "{'name': ['Super Mario', 'Zelda Ocarina of Time', 'Pokémon Yellow'], 'Console': ['Super Nintendo', 'Nintendo 64', 'Game Boy'], 'Release': [1990, 1998, 1999]}\n"
     ]
    }
   ]
  },
  {
   "cell_type": "code",
   "source": [
    "games = {'name':[], 'Console':[], 'release':[]}\n",
    "for i in range(3):\n",
    "  name = input('What is the name of the game? ')\n",
    "  console = input('Which console was it released to? ')\n",
    "  year_release = int(input('What year is released? '))\n",
    "  games['name'].append(name)\n",
    "  games['Console'].append(console)\n",
    "  games['release'].append(year_release)\n",
    "print('-'*20)\n",
    "print(games)"
   ],
   "metadata": {
    "colab": {
     "base_uri": "https://localhost:8080/"
    },
    "id": "eKXE_Ngw9PVJ",
    "outputId": "38a90988-77ad-4089-b5a9-6cfc60dff1a4",
    "pycharm": {
     "name": "#%%\n"
    }
   },
   "execution_count": 43,
   "outputs": [
    {
     "name": "stdout",
     "output_type": "stream",
     "text": [
      "--------------------\n",
      "{'name': ['Zelda Ocarina of Time', 'Super Mario', 'Pokemon Yellow'], 'Console': ['Nintendo 64', 'Super Nintendo', 'Game Boy'], 'release': [1998, 1990, 1999]}\n"
     ]
    }
   ]
  },
  {
   "cell_type": "markdown",
   "source": [
    "Write a Python program that reads a student's name and three grades. Store the grade name and arithmetic mean in a dictionary. Also, store the student's situation in the dictionary:\n",
    "- Average >= 7, approved.\n",
    "- Mean < 7 and >= 5, in exam.\n",
    "- Average < 5, failed"
   ],
   "metadata": {
    "id": "EdkfxS2b2dYd",
    "pycharm": {
     "name": "#%% md\n"
    }
   }
  },
  {
   "cell_type": "code",
   "source": [
    "student = {}\n",
    "student['name'] = input('What is the students name? ')\n",
    "n1 = float(input('What is the first note? '))\n",
    "n2 = float(input('What is the second grade? '))\n",
    "n3 = float(input('What is the third grade? '))\n",
    "student['average'] = round((n1 + n2 + n3) / 3, 2)\n",
    "if student['average'] >= 7:\n",
    "  student['stats'] = 'A'\n",
    "elif student['average'] >= 5 and student['average'] < 7:\n",
    "  student['status'] = 'E'\n",
    "else:\n",
    "  student['status'] = 'R'\n",
    "\n",
    "for i, j in student.items():\n",
    "  print(f'{i} = {j}')"
   ],
   "metadata": {
    "id": "vaQ6jr_f9C-g",
    "colab": {
     "base_uri": "https://localhost:8080/"
    },
    "outputId": "7555281d-e678-4d6c-d254-fa683618fd2d",
    "pycharm": {
     "name": "#%%\n"
    }
   },
   "execution_count": 44,
   "outputs": [
    {
     "name": "stdout",
     "output_type": "stream",
     "text": [
      "name = Thiago Alves\n",
      "average = 9.73\n",
      "stats = A\n"
     ]
    }
   ]
  },
  {
   "cell_type": "markdown",
   "source": [
    "Create a Python program to control the stock of products in an establishment that sells fruit and vegetables. For stock, store everything inside a dictionary containing lists. The key must be the name of each product and within each list we will have the price and quantity available in stock. The stock can be pre-registered in the system with as many items as you want.\n",
    "\n",
    "Simulate a purchase. Ask the user to enter the name of the product and the quantity they want until they decide to complete the purchase. At the end, present everything on the screen in an organized format, showing the total to be paid per product and the final total of the order. Also, write off the system deducting what was purchased from the total. Print the remaining stock on the screen."
   ],
   "metadata": {
    "id": "Pzy2FJHR5CcO",
    "pycharm": {
     "name": "#%% md\n"
    }
   }
  },
  {
   "cell_type": "code",
   "source": [
    "store = {\n",
    "  'carrot':[100, 0.99],\n",
    "  'broccoli':[50, 3.99],\n",
    "  'potato':[200, 0.49],\n",
    "  'onion':[75, 1.10]\n",
    "}\n",
    "order = []\n",
    "\n",
    "while True:\n",
    "  item_name = input('Which product do you want to buy? ')\n",
    "  item_qty = int(input('How many do you want to buy? '))\n",
    "  order.append([item_name, item_qty])\n",
    "  res = input('Do you want to continue shopping? [Y/N]')\n",
    "  if res in 'Nn':\n",
    "    break\n",
    "total = 0\n",
    "print('\\nSales')\n",
    "for item in order:\n",
    "  product = item[0]\n",
    "  qty = item[1]\n",
    "  price = store[product][1]\n",
    "  product_value = round(price * qty, 2)\n",
    "  print(f'{product}: {qty} x {price} = {product_value}')\n",
    "  store[product][0] -= qty\n",
    "  total = round(total + product_value, 2)\n",
    "print(f'Total Cost: {total}\\n')\n",
    "print('Stock: ')\n",
    "for i, j in store.items():\n",
    "  print('Description: ', i)\n",
    "  print('Amount: ', j[0])\n",
    "  print(f'Price: {j[1]}\\n')"
   ],
   "metadata": {
    "colab": {
     "base_uri": "https://localhost:8080/"
    },
    "id": "fnohadYd3rOm",
    "outputId": "e0da6426-9051-4702-c050-078fd77395cc",
    "pycharm": {
     "name": "#%%\n"
    }
   },
   "execution_count": 46,
   "outputs": [
    {
     "name": "stdout",
     "output_type": "stream",
     "text": [
      "\n",
      "Sales\n",
      "carrot: 2 x 0.99 = 1.98\n",
      "Total Cost: 1.98\n",
      "\n",
      "Stock: \n",
      "Description:  carrot\n",
      "Amount:  98\n",
      "Price: 0.99\n",
      "\n",
      "Description:  broccoli\n",
      "Amount:  50\n",
      "Price: 3.99\n",
      "\n",
      "Description:  potato\n",
      "Amount:  200\n",
      "Price: 0.49\n",
      "\n",
      "Description:  onion\n",
      "Amount:  75\n",
      "Price: 1.1\n",
      "\n"
     ]
    }
   ]
  },
  {
   "cell_type": "markdown",
   "source": [
    "## WORKING WITH METHODS IN STRINGS"
   ],
   "metadata": {
    "id": "6LzKTBH89Mae",
    "pycharm": {
     "name": "#%% md\n"
    }
   }
  },
  {
   "cell_type": "markdown",
   "source": [
    "### Checking Cacacters"
   ],
   "metadata": {
    "id": "0t0GHVBMMPq_",
    "pycharm": {
     "name": "#%% md\n"
    }
   }
  },
  {
   "cell_type": "code",
   "source": [
    "s1 = list('Algorithms')\n",
    "print(s1) # print separated\n",
    "print(''.join(s1)) # print joined"
   ],
   "metadata": {
    "colab": {
     "base_uri": "https://localhost:8080/"
    },
    "id": "7eUePNYw9NSk",
    "outputId": "cdd0ea7f-3e41-4a54-a161-06ad95757424",
    "pycharm": {
     "name": "#%%\n"
    }
   },
   "execution_count": 47,
   "outputs": [
    {
     "name": "stdout",
     "output_type": "stream",
     "text": [
      "['A', 'l', 'g', 'o', 'r', 'i', 't', 'h', 'm', 's']\n",
      "Algorithms\n"
     ]
    }
   ]
  },
  {
   "cell_type": "code",
   "source": [
    "# Checking start of string\n",
    "s1 = 'Programming Logic and Algorithms'\n",
    "s1.startswith('Logic')"
   ],
   "metadata": {
    "colab": {
     "base_uri": "https://localhost:8080/"
    },
    "id": "LSINeb_7IO3B",
    "outputId": "3896e815-baee-427a-fbda-a5b0bff16472",
    "pycharm": {
     "name": "#%%\n"
    }
   },
   "execution_count": 48,
   "outputs": [
    {
     "data": {
      "text/plain": "False"
     },
     "execution_count": 48,
     "metadata": {},
     "output_type": "execute_result"
    }
   ]
  },
  {
   "cell_type": "code",
   "source": [
    "# Checking end\n",
    "s1.endswith('Algorithms')"
   ],
   "metadata": {
    "colab": {
     "base_uri": "https://localhost:8080/"
    },
    "id": "U8liy0rzIrJm",
    "outputId": "f35b30fd-85a9-419c-e59d-409dbd3de9e0",
    "pycharm": {
     "name": "#%%\n"
    }
   },
   "execution_count": 49,
   "outputs": [
    {
     "data": {
      "text/plain": "True"
     },
     "execution_count": 49,
     "metadata": {},
     "output_type": "execute_result"
    }
   ]
  },
  {
   "cell_type": "code",
   "source": [
    "s1.startswith('logica')\n",
    "s1.endswith('algorithms')"
   ],
   "metadata": {
    "colab": {
     "base_uri": "https://localhost:8080/"
    },
    "id": "IkVb4SstJBdl",
    "outputId": "e4cb23ae-48e6-4524-88c1-2b112b63b716",
    "pycharm": {
     "name": "#%%\n"
    }
   },
   "execution_count": 50,
   "outputs": [
    {
     "data": {
      "text/plain": "False"
     },
     "execution_count": 50,
     "metadata": {},
     "output_type": "execute_result"
    }
   ]
  },
  {
   "cell_type": "code",
   "source": [
    "s1.lower().startswith('logic')"
   ],
   "metadata": {
    "colab": {
     "base_uri": "https://localhost:8080/"
    },
    "id": "52E0QrCUJbQU",
    "outputId": "67be1be6-2f11-4c85-cca3-3851b97d9f42",
    "pycharm": {
     "name": "#%%\n"
    }
   },
   "execution_count": 51,
   "outputs": [
    {
     "data": {
      "text/plain": "False"
     },
     "execution_count": 51,
     "metadata": {},
     "output_type": "execute_result"
    }
   ]
  },
  {
   "cell_type": "code",
   "source": [
    "s1.lower().endswith('algorithms')"
   ],
   "metadata": {
    "colab": {
     "base_uri": "https://localhost:8080/"
    },
    "id": "I6I-M2srJpXk",
    "outputId": "86613229-f673-445a-c88a-d361bcc0035b",
    "pycharm": {
     "name": "#%%\n"
    }
   },
   "execution_count": 52,
   "outputs": [
    {
     "data": {
      "text/plain": "True"
     },
     "execution_count": 52,
     "metadata": {},
     "output_type": "execute_result"
    }
   ]
  },
  {
   "cell_type": "code",
   "source": [
    "print(s1.upper())"
   ],
   "metadata": {
    "colab": {
     "base_uri": "https://localhost:8080/"
    },
    "id": "-z5D1UevJ3P8",
    "outputId": "58b8c8fa-0d78-4907-daca-96db3ad6e578",
    "pycharm": {
     "name": "#%%\n"
    }
   },
   "execution_count": 57,
   "outputs": [
    {
     "name": "stdout",
     "output_type": "stream",
     "text": [
      "PROGRAMMING LOGIC AND ALGORITHMS\n"
     ]
    }
   ]
  },
  {
   "cell_type": "code",
   "source": [
    "print(s1.lower())"
   ],
   "metadata": {
    "colab": {
     "base_uri": "https://localhost:8080/"
    },
    "id": "5fNDa2U5J_OS",
    "outputId": "a597d5c6-44fd-4a7c-8b7e-ceae96f234af",
    "pycharm": {
     "name": "#%%\n"
    }
   },
   "execution_count": 58,
   "outputs": [
    {
     "name": "stdout",
     "output_type": "stream",
     "text": [
      "programming logic and algorithms\n"
     ]
    }
   ]
  },
  {
   "cell_type": "markdown",
   "source": [
    "### Counting Characters"
   ],
   "metadata": {
    "id": "F_XcE_LzMYc_",
    "pycharm": {
     "name": "#%% md\n"
    }
   }
  },
  {
   "cell_type": "code",
   "source": [
    "'s1.count('a')'"
   ],
   "metadata": {
    "colab": {
     "base_uri": "https://localhost:8080/"
    },
    "id": "O9Q7BzHNKAyb",
    "outputId": "48b5b7ee-7c3b-4705-bef4-6527c8a3e3cb",
    "pycharm": {
     "name": "#%%\n"
    }
   },
   "execution_count": 60,
   "outputs": [
    {
     "data": {
      "text/plain": "2"
     },
     "execution_count": 60,
     "metadata": {},
     "output_type": "execute_result"
    }
   ]
  },
  {
   "cell_type": "code",
   "source": [
    "s1.lower().count('a')"
   ],
   "metadata": {
    "colab": {
     "base_uri": "https://localhost:8080/"
    },
    "id": "yu1xeRFnKXjF",
    "outputId": "423725e2-e09f-4932-813a-84f94244e461",
    "pycharm": {
     "name": "#%%\n"
    }
   },
   "execution_count": 61,
   "outputs": [
    {
     "data": {
      "text/plain": "3"
     },
     "execution_count": 61,
     "metadata": {},
     "output_type": "execute_result"
    }
   ]
  },
  {
   "cell_type": "code",
   "source": [
    "s1 = 'one programmer, two programmers, three programmers, ...'\n",
    "s1.lower().count('programmer')"
   ],
   "metadata": {
    "colab": {
     "base_uri": "https://localhost:8080/"
    },
    "id": "bOaC4TdwKn26",
    "outputId": "03c3920f-2023-4fa8-d317-11ad5d3dceae",
    "pycharm": {
     "name": "#%%\n"
    }
   },
   "execution_count": 62,
   "outputs": [
    {
     "data": {
      "text/plain": "3"
     },
     "execution_count": 62,
     "metadata": {},
     "output_type": "execute_result"
    }
   ]
  },
  {
   "cell_type": "markdown",
   "source": [
    "### Breaking Strings"
   ],
   "metadata": {
    "id": "RE-RHz9qMcj3",
    "pycharm": {
     "name": "#%% md\n"
    }
   }
  },
  {
   "cell_type": "code",
   "source": [
    "s1 = 'one programmer, two programmers, three programmers, ...'\n",
    "s1.split(' ')"
   ],
   "metadata": {
    "colab": {
     "base_uri": "https://localhost:8080/"
    },
    "id": "YXQjxyyxK89I",
    "outputId": "45c95020-01fc-498c-95db-145291d6cec0",
    "pycharm": {
     "name": "#%%\n"
    }
   },
   "execution_count": 63,
   "outputs": [
    {
     "data": {
      "text/plain": "['one', 'programmer,', 'two', 'programmers,', 'three', 'programmers,', '...']"
     },
     "execution_count": 63,
     "metadata": {},
     "output_type": "execute_result"
    }
   ]
  },
  {
   "cell_type": "markdown",
   "source": [
    "### Replacing Strings"
   ],
   "metadata": {
    "id": "oCyHWi3KMfXa",
    "pycharm": {
     "name": "#%% md\n"
    }
   }
  },
  {
   "cell_type": "code",
   "source": [
    "s1 = 'one programmer, two programmers, three programmers, ...'\n",
    "s1.replace('programmer', 'computer')"
   ],
   "metadata": {
    "colab": {
     "base_uri": "https://localhost:8080/",
     "height": 35
    },
    "id": "FcLbUxwNLJph",
    "outputId": "9504b571-28b1-484c-f6fa-d2d2b1c8b558",
    "pycharm": {
     "name": "#%%\n"
    }
   },
   "execution_count": 64,
   "outputs": [
    {
     "data": {
      "text/plain": "'one computer, two computers, three computers, ...'"
     },
     "execution_count": 64,
     "metadata": {},
     "output_type": "execute_result"
    }
   ]
  },
  {
   "cell_type": "code",
   "source": [
    "s1 = 'One little bitch, two little bitches, three little bitches, ...'\n",
    "s1.replace('mafagafinho', 'kitten', 1)"
   ],
   "metadata": {
    "colab": {
     "base_uri": "https://localhost:8080/",
     "height": 35
    },
    "id": "yH8Rki37LX5Y",
    "outputId": "79271a1b-5f65-4e9b-f728-b9ef4bce7e58",
    "pycharm": {
     "name": "#%%\n"
    }
   },
   "execution_count": 65,
   "outputs": [
    {
     "data": {
      "text/plain": "'One little bitch, two little bitches, three little bitches, ...'"
     },
     "execution_count": 65,
     "metadata": {},
     "output_type": "execute_result"
    }
   ]
  },
  {
   "cell_type": "markdown",
   "source": [
    "### Validating Data Types"
   ],
   "metadata": {
    "id": "5S8zlrHwMk8G",
    "pycharm": {
     "name": "#%% md\n"
    }
   }
  },
  {
   "cell_type": "code",
   "source": [
    "s1 = 'Programming Logic and Algorithms'\n",
    "s2 = '42'"
   ],
   "metadata": {
    "id": "MNuLWzY6L1vK",
    "pycharm": {
     "name": "#%%\n"
    }
   },
   "execution_count": 66,
   "outputs": []
  },
  {
   "cell_type": "code",
   "source": [
    "# isalnum function, tests if the string contains characters and numbers only.\n",
    "print(s1.isalnum()) # contains spaces, will return 'False'\n",
    "print(s2.isalnum()) # numbers only, will return 'True'"
   ],
   "metadata": {
    "colab": {
     "base_uri": "https://localhost:8080/"
    },
    "id": "TTTCQ6QkM3Lq",
    "outputId": "56a7846a-058b-45b4-8e3b-17688617b2f0",
    "pycharm": {
     "name": "#%%\n"
    }
   },
   "execution_count": 67,
   "outputs": [
    {
     "name": "stdout",
     "output_type": "stream",
     "text": [
      "False\n",
      "True\n"
     ]
    }
   ]
  },
  {
   "cell_type": "code",
   "execution_count": 68,
   "outputs": [
    {
     "name": "stdout",
     "output_type": "stream",
     "text": [
      "False\n",
      "False\n"
     ]
    }
   ],
   "source": [
    "# isalpha function, checks if it has only regular and accented characters\n",
    "print(s1.isalpha())\n",
    "print(s2.isalpha())\n",
    "# ambras will return 'False', s1 has spaces and s2 has only numbers."
   ],
   "metadata": {
    "collapsed": false,
    "pycharm": {
     "name": "#%%\n"
    }
   }
  }
 ]
}