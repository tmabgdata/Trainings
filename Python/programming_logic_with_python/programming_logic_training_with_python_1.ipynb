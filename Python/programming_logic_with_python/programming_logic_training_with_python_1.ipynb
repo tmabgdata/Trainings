{
 "cells": [
  {
   "cell_type": "markdown",
   "metadata": {
    "id": "dw8Gy5FEIbPf",
    "pycharm": {
     "name": "#%% md\n"
    }
   },
   "source": [
    "# Sequential Algorithms. Data, Variables and Input and Output Commands."
   ]
  },
  {
   "cell_type": "markdown",
   "metadata": {
    "id": "Ycc1f4ofJXPz",
    "pycharm": {
     "name": "#%% md\n"
    }
   },
   "source": [
    "## First Program"
   ]
  },
  {
   "cell_type": "code",
   "execution_count": 31,
   "metadata": {
    "colab": {
     "base_uri": "https://localhost:8080/"
    },
    "executionInfo": {
     "elapsed": 308,
     "status": "ok",
     "timestamp": 1651199410057,
     "user": {
      "displayName": "thiago alves",
      "userId": "09902161588712950424"
     },
     "user_tz": 180
    },
    "id": "kcFTjbxZJP7U",
    "outputId": "9b7fc380-117c-4c27-aa0b-8e7aeebbad57",
    "pycharm": {
     "name": "#%%\n"
    }
   },
   "outputs": [
    {
     "name": "stdout",
     "output_type": "stream",
     "text": [
      "Hello, world!\n"
     ]
    }
   ],
   "source": [
    "print('Hello, world!')"
   ]
  },
  {
   "cell_type": "markdown",
   "metadata": {
    "id": "KieXI0KPKZgh",
    "pycharm": {
     "name": "#%% md\n"
    }
   },
   "source": [
    "arithmetic operations:"
   ]
  },
  {
   "cell_type": "code",
   "execution_count": 32,
   "metadata": {
    "colab": {
     "base_uri": "https://localhost:8080/"
    },
    "executionInfo": {
     "elapsed": 6,
     "status": "ok",
     "timestamp": 1651199569127,
     "user": {
      "displayName": "thiago alves",
      "userId": "09902161588712950424"
     },
     "user_tz": 180
    },
    "id": "AEb8iBWSJtM_",
    "outputId": "2c0faa4f-9379-43a7-ef01-dd2aebebe886",
    "pycharm": {
     "name": "#%%\n"
    }
   },
   "outputs": [
    {
     "name": "stdout",
     "output_type": "stream",
     "text": [
      "5\n"
     ]
    }
   ],
   "source": [
    "print(2 + 3)"
   ]
  },
  {
   "cell_type": "markdown",
   "metadata": {
    "id": "Az2ZY1-hKpwN",
    "pycharm": {
     "name": "#%% md\n"
    }
   },
   "source": [
    "What happens here?"
   ]
  },
  {
   "cell_type": "code",
   "execution_count": 33,
   "metadata": {
    "colab": {
     "base_uri": "https://localhost:8080/"
    },
    "executionInfo": {
     "elapsed": 275,
     "status": "ok",
     "timestamp": 1651199632008,
     "user": {
      "displayName": "thiago alves",
      "userId": "09902161588712950424"
     },
     "user_tz": 180
    },
    "id": "Tqp23qIKKekr",
    "outputId": "241b458d-c317-4985-c225-b178da0fd98f",
    "pycharm": {
     "name": "#%%\n"
    }
   },
   "outputs": [
    {
     "name": "stdout",
     "output_type": "stream",
     "text": [
      "2 + 3\n"
     ]
    }
   ],
   "source": [
    "print('2 + 3') # python identifies everything inside the quotes (single or double), as an object of type String"
   ]
  },
  {
   "cell_type": "markdown",
   "metadata": {
    "id": "ybuSdvzTKyTW",
    "pycharm": {
     "name": "#%% md\n"
    }
   },
   "source": [
    "Is here? A concatenation occurs."
   ]
  },
  {
   "cell_type": "code",
   "execution_count": 34,
   "metadata": {
    "colab": {
     "base_uri": "https://localhost:8080/"
    },
    "executionInfo": {
     "elapsed": 277,
     "status": "ok",
     "timestamp": 1651199935023,
     "user": {
      "displayName": "thiago alves",
      "userId": "09902161588712950424"
     },
     "user_tz": 180
    },
    "id": "bHjI0fZdKt7K",
    "outputId": "f7f3d5ba-d62b-47ad-c7e0-0d16a5ffd096",
    "pycharm": {
     "name": "#%%\n"
    }
   },
   "outputs": [
    {
     "name": "stdout",
     "output_type": "stream",
     "text": [
      "23\n"
     ]
    }
   ],
   "source": [
    "print('2' + '3') # concatenation in programming, it means to join or join the Strings"
   ]
  },
  {
   "cell_type": "markdown",
   "metadata": {
    "id": "1_5yT5YIL6VB",
    "pycharm": {
     "name": "#%% md\n"
    }
   },
   "source": [
    "Concatenate messages:"
   ]
  },
  {
   "cell_type": "code",
   "execution_count": 35,
   "metadata": {
    "colab": {
     "base_uri": "https://localhost:8080/"
    },
    "executionInfo": {
     "elapsed": 310,
     "status": "ok",
     "timestamp": 1651201811864,
     "user": {
      "displayName": "thiago alves",
      "userId": "09902161588712950424"
     },
     "user_tz": 180
    },
    "id": "TosSyDwqLT3M",
    "outputId": "19d28eb4-b703-4e0a-f362-f2cc8cce4cd2",
    "pycharm": {
     "name": "#%%\n"
    }
   },
   "outputs": [
    {
     "name": "stdout",
     "output_type": "stream",
     "text": [
      "Hello,World!\n",
      "Hello, World!\n"
     ]
    }
   ],
   "source": [
    "print('Hello,' + 'World!')\n",
    "print('Hello,', 'World!')"
   ]
  },
  {
   "cell_type": "markdown",
   "metadata": {
    "id": "lGAtkC3rUx82",
    "pycharm": {
     "name": "#%% md\n"
    }
   },
   "source": [
    "Concatenate messages and numbers:"
   ]
  },
  {
   "cell_type": "code",
   "execution_count": 36,
   "metadata": {
    "colab": {
     "base_uri": "https://localhost:8080/"
    },
    "executionInfo": {
     "elapsed": 12,
     "status": "ok",
     "timestamp": 1651202326793,
     "user": {
      "displayName": "thiago alves",
      "userId": "09902161588712950424"
     },
     "user_tz": 180
    },
    "id": "VCPCbaHuTAxQ",
    "outputId": "f9768468-d42c-4a38-c7e3-e9b9c54eb2d8",
    "pycharm": {
     "name": "#%%\n"
    }
   },
   "outputs": [
    {
     "name": "stdout",
     "output_type": "stream",
     "text": [
      "The result of adding 2 + 3 is: 5\n"
     ]
    }
   ],
   "source": [
    "print('The result of adding 2 + 3 is:', 2 + 3)"
   ]
  },
  {
   "cell_type": "markdown",
   "metadata": {
    "id": "qtLsco50XQJn",
    "pycharm": {
     "name": "#%% md\n"
    }
   },
   "source": [
    "## Mathematical Operators and Operations"
   ]
  },
  {
   "cell_type": "code",
   "execution_count": 37,
   "metadata": {
    "colab": {
     "base_uri": "https://localhost:8080/"
    },
    "executionInfo": {
     "elapsed": 9,
     "status": "ok",
     "timestamp": 1651203023975,
     "user": {
      "displayName": "thiago alves",
      "userId": "09902161588712950424"
     },
     "user_tz": 180
    },
    "id": "icpQ_beRXVY0",
    "outputId": "d0564336-edc5-47c7-c404-aca48ac324dd",
    "pycharm": {
     "name": "#%%\n"
    }
   },
   "outputs": [
    {
     "name": "stdout",
     "output_type": "stream",
     "text": [
      "30.0\n"
     ]
    }
   ],
   "source": [
    "print(10*(5+7)/4)"
   ]
  },
  {
   "cell_type": "markdown",
   "metadata": {
    "id": "LXsbNdj2XrKF",
    "pycharm": {
     "name": "#%% md\n"
    }
   },
   "source": [
    "Caution!"
   ]
  },
  {
   "cell_type": "code",
   "execution_count": 38,
   "metadata": {
    "colab": {
     "base_uri": "https://localhost:8080/"
    },
    "executionInfo": {
     "elapsed": 9,
     "status": "ok",
     "timestamp": 1651203060003,
     "user": {
      "displayName": "thiago alves",
      "userId": "09902161588712950424"
     },
     "user_tz": 180
    },
    "id": "Qbgp_PY5XqDN",
    "outputId": "e1820974-f64f-406c-aa90-b9a66a16e0d8",
    "pycharm": {
     "name": "#%%\n"
    }
   },
   "outputs": [
    {
     "name": "stdout",
     "output_type": "stream",
     "text": [
      "67.5\n"
     ]
    }
   ],
   "source": [
    "print(10*(5+7/4))"
   ]
  },
  {
   "cell_type": "markdown",
   "metadata": {
    "id": "xzIbejFvYAvV",
    "pycharm": {
     "name": "#%% md\n"
    }
   },
   "source": [
    "# Variables, data and their types"
   ]
  },
  {
   "cell_type": "markdown",
   "metadata": {
    "id": "yDmmED-wYPpL",
    "pycharm": {
     "name": "#%% md\n"
    }
   },
   "source": [
    "### Data:\n",
    "\n",
    "- \"Sequence of quantified or quantifiable symbols\" (Puga, 2019, page 18)\n",
    "- Values provided via input and manipulated throughout the program."
   ]
  },
  {
   "cell_type": "markdown",
   "metadata": {
    "id": "619bQWckZnlb",
    "pycharm": {
     "name": "#%% md\n"
    }
   },
   "source": [
    "### Variable:\n",
    "\n",
    "- Name given to a region of program memory\n",
    "- Whenever you invoke the name of a variable in the program, its memory block will be automatically loaded from RAM"
   ]
  },
  {
   "cell_type": "markdown",
   "metadata": {
    "id": "GCzsYZxkaBJX",
    "pycharm": {
     "name": "#%% md\n"
    }
   },
   "source": [
    "##### Task:\n",
    "\n",
    "- **Reads**: the variable **_note_** receives the data **8.5**\n",
    "- **_grade_** = 8.5\n",
    "- \" **=** \" is the assignment symbol"
   ]
  },
  {
   "cell_type": "code",
   "execution_count": 39,
   "metadata": {
    "colab": {
     "base_uri": "https://localhost:8080/"
    },
    "executionInfo": {
     "elapsed": 290,
     "status": "ok",
     "timestamp": 1651204074237,
     "user": {
      "displayName": "thiago alves",
      "userId": "09902161588712950424"
     },
     "user_tz": 180
    },
    "id": "-LXRL6zAaA2-",
    "outputId": "30e3be30-6f03-49e9-9c78-e77b5939d292",
    "pycharm": {
     "name": "#%%\n"
    }
   },
   "outputs": [
    {
     "name": "stdout",
     "output_type": "stream",
     "text": [
      "8.5\n",
      "Programming Logic and Algorithms\n"
     ]
    }
   ],
   "source": [
    "score = 8.5\n",
    "matter = 'Programming Logic and Algorithms'\n",
    "\n",
    "print(score)\n",
    "print(matter)"
   ]
  },
  {
   "cell_type": "code",
   "execution_count": 40,
   "metadata": {
    "colab": {
     "base_uri": "https://localhost:8080/"
    },
    "executionInfo": {
     "elapsed": 276,
     "status": "ok",
     "timestamp": 1651204186338,
     "user": {
      "displayName": "thiago alves",
      "userId": "09902161588712950424"
     },
     "user_tz": 180
    },
    "id": "a1lvVeQSXy1_",
    "outputId": "5120f6be-20d9-427a-ed26-3e38fa199198",
    "pycharm": {
     "name": "#%%\n"
    }
   },
   "outputs": [
    {
     "name": "stdout",
     "output_type": "stream",
     "text": [
      "Matter: Programming Logic and Algorithms . Score: 8.5\n"
     ]
    }
   ],
   "source": [
    "print('Matter:', matter,'. Score:', score)"
   ]
  },
  {
   "cell_type": "markdown",
   "metadata": {
    "id": "8CruR2bncP9m",
    "pycharm": {
     "name": "#%% md\n"
    }
   },
   "source": [
    "### Rules for variable names:"
   ]
  },
  {
   "cell_type": "markdown",
   "metadata": {
    "id": "wgstTShdcVR3",
    "pycharm": {
     "name": "#%% md\n"
    }
   },
   "source": [
    "- never start a variable name with a number\n",
    "- start a variable name with letter or underscore = **grade** or **_grade**\n",
    "- numbers, letters and underscores can be used freely in the middle\n",
    "- Python allows the use of accented letters (not recommended)"
   ]
  },
  {
   "cell_type": "markdown",
   "metadata": {
    "id": "17nDL0DVdSIv",
    "pycharm": {
     "name": "#%% md\n"
    }
   },
   "source": [
    "### Primitive data types\n",
    "   - numeric (integer and floating point)\n",
    "   - character - literal / boolean"
   ]
  },
  {
   "cell_type": "markdown",
   "metadata": {
    "id": "lrs462ikduuC",
    "pycharm": {
     "name": "#%% md\n"
    }
   },
   "source": [
    "#### Numerical variables\n",
    "   - when you want to perform arithmetic operations:\n",
    "    - Integer (int): numbers without decimal places\n",
    "    - Floating Point (float): numbers with decimal places[link text](https://)"
   ]
  },
  {
   "cell_type": "markdown",
   "metadata": {
    "id": "GB-mvZZjeiG_",
    "pycharm": {
     "name": "#%% md\n"
    }
   },
   "source": [
    "#### Logical variables / booleans\n",
    "\n",
    "- Store 1 bit. Two states:\n",
    "- True or false\n",
    "- Logic level high or low\n",
    "- 1 or 0"
   ]
  },
  {
   "cell_type": "markdown",
   "metadata": {
    "id": "ECqnDC0WfNo2",
    "pycharm": {
     "name": "#%% md\n"
    }
   },
   "source": [
    "### List of Logical Operators in Python and Pseudocode\n",
    "\n",
    "- = Operation: Equality\n",
    "- Greater than >\n",
    "- Less than <\n",
    "- Greater than or equal to ...] >=\n",
    "- Less than or equal to ...] <=\n",
    "- <> Different"
   ]
  },
  {
   "cell_type": "markdown",
   "metadata": {
    "id": "EpEjdcN0iVGr",
    "pycharm": {
     "name": "#%% md\n"
    }
   },
   "source": [
    "### Logical variables"
   ]
  },
  {
   "cell_type": "code",
   "execution_count": 41,
   "metadata": {
    "id": "-8yqARXcfEGm",
    "pycharm": {
     "name": "#%%\n"
    }
   },
   "outputs": [],
   "source": [
    "a = 1 # a receives 1\n",
    "b = 5 # b gets 5"
   ]
  },
  {
   "cell_type": "code",
   "execution_count": 42,
   "metadata": {
    "colab": {
     "base_uri": "https://localhost:8080/"
    },
    "executionInfo": {
     "elapsed": 8,
     "status": "ok",
     "timestamp": 1651205973553,
     "user": {
      "displayName": "thiago alves",
      "userId": "09902161588712950424"
     },
     "user_tz": 180
    },
    "id": "utUZpwOMi1SY",
    "outputId": "3ed5d9fe-a55e-4ec7-89ca-f9d03235c08c",
    "pycharm": {
     "name": "#%%\n"
    }
   },
   "outputs": [
    {
     "name": "stdout",
     "output_type": "stream",
     "text": [
      "False\n"
     ]
    }
   ],
   "source": [
    "answer = a== b\n",
    "print(answer)"
   ]
  },
  {
   "cell_type": "code",
   "execution_count": 43,
   "metadata": {
    "colab": {
     "base_uri": "https://localhost:8080/"
    },
    "executionInfo": {
     "elapsed": 10,
     "status": "ok",
     "timestamp": 1651206005768,
     "user": {
      "displayName": "thiago alves",
      "userId": "09902161588712950424"
     },
     "user_tz": 180
    },
    "id": "tp_DeYkhi6Ns",
    "outputId": "43fb2bf9-5d9a-4f1f-9df8-246cc5293ff4",
    "pycharm": {
     "name": "#%%\n"
    }
   },
   "outputs": [
    {
     "name": "stdout",
     "output_type": "stream",
     "text": [
      "True\n"
     ]
    }
   ],
   "source": [
    "answer = a != b\n",
    "print(answer)"
   ]
  },
  {
   "cell_type": "markdown",
   "metadata": {
    "id": "_KqgILfRjQS4",
    "pycharm": {
     "name": "#%% md\n"
    }
   },
   "source": [
    "### String variables (String)"
   ]
  },
  {
   "cell_type": "markdown",
   "metadata": {
    "id": "JG2Kq0Jbjcnh",
    "pycharm": {
     "name": "#%% md\n"
    }
   },
   "source": [
    "- stores linked symbol sets, including accentuation, punctuation, etc."
   ]
  },
  {
   "cell_type": "markdown",
   "metadata": {
    "id": "05R7xsR4kY8e",
    "pycharm": {
     "name": "#%% md\n"
    }
   },
   "source": [
    "#### String variable"
   ]
  },
  {
   "cell_type": "code",
   "execution_count": 44,
   "metadata": {
    "colab": {
     "base_uri": "https://localhost:8080/"
    },
    "executionInfo": {
     "elapsed": 12,
     "status": "ok",
     "timestamp": 1651206396251,
     "user": {
      "displayName": "thiago alves",
      "userId": "09902161588712950424"
     },
     "user_tz": 180
    },
    "id": "V2PJ_67DjUOC",
    "outputId": "e47a421b-8d61-4a27-c484-4a5807521c75",
    "pycharm": {
     "name": "#%%\n"
    }
   },
   "outputs": [
    {
     "name": "stdout",
     "output_type": "stream",
     "text": [
      "Hello, world!\n"
     ]
    }
   ],
   "source": [
    "phrase = 'Hello, world!'\n",
    "print (phrase)"
   ]
  },
  {
   "cell_type": "markdown",
   "metadata": {
    "id": "QAu1UOKakjnC",
    "pycharm": {
     "name": "#%% md\n"
    }
   },
   "source": [
    "Accessing the **index:**"
   ]
  },
  {
   "cell_type": "code",
   "execution_count": 45,
   "metadata": {
    "colab": {
     "base_uri": "https://localhost:8080/"
    },
    "executionInfo": {
     "elapsed": 12,
     "status": "ok",
     "timestamp": 1651206552532,
     "user": {
      "displayName": "thiago alves",
      "userId": "09902161588712950424"
     },
     "user_tz": 180
    },
    "id": "ouZiVxNFkhUA",
    "outputId": "4af1eb61-867b-48bf-f305-8adbadd7636f",
    "pycharm": {
     "name": "#%%\n"
    }
   },
   "outputs": [
    {
     "name": "stdout",
     "output_type": "stream",
     "text": [
      "H\n",
      "l\n"
     ]
    }
   ],
   "source": [
    "print(phrase[0])\n",
    "print(phrase[2])"
   ]
  },
  {
   "cell_type": "markdown",
   "metadata": {
    "id": "t6taoTVvlIay",
    "pycharm": {
     "name": "#%% md\n"
    }
   },
   "source": [
    "### Advanced String Handling"
   ]
  },
  {
   "cell_type": "markdown",
   "metadata": {
    "id": "34t1DpiClbZi",
    "pycharm": {
     "name": "#%% md\n"
    }
   },
   "source": [
    "#### Concatenation:"
   ]
  },
  {
   "cell_type": "code",
   "execution_count": 46,
   "metadata": {
    "colab": {
     "base_uri": "https://localhost:8080/"
    },
    "executionInfo": {
     "elapsed": 9,
     "status": "ok",
     "timestamp": 1651206688771,
     "user": {
      "displayName": "thiago alves",
      "userId": "09902161588712950424"
     },
     "user_tz": 180
    },
    "id": "IB3m2_jelHQv",
    "outputId": "5d21db15-a85d-4285-a8d0-9093249e4b54",
    "pycharm": {
     "name": "#%%\n"
    }
   },
   "outputs": [
    {
     "name": "stdout",
     "output_type": "stream",
     "text": [
      "Programming logicand Algorithms\n"
     ]
    }
   ],
   "source": [
    "s1 = 'Programming logic'\n",
    "s1 = s1 + 'and Algorithms'\n",
    "print(s1)"
   ]
  },
  {
   "cell_type": "markdown",
   "metadata": {
    "id": "9aSODHywlr6_",
    "pycharm": {
     "name": "#%% md\n"
    }
   },
   "source": [
    "#### Repeating strings in concatenation"
   ]
  },
  {
   "cell_type": "code",
   "execution_count": 47,
   "metadata": {
    "colab": {
     "base_uri": "https://localhost:8080/"
    },
    "executionInfo": {
     "elapsed": 276,
     "status": "ok",
     "timestamp": 1651206800823,
     "user": {
      "displayName": "thiago alves",
      "userId": "09902161588712950424"
     },
     "user_tz": 180
    },
    "id": "1GwH2PNTloxB",
    "outputId": "0708841a-a061-477f-c9c3-9450e97a9acf",
    "pycharm": {
     "name": "#%%\n"
    }
   },
   "outputs": [
    {
     "name": "stdout",
     "output_type": "stream",
     "text": [
      "A----------B\n"
     ]
    }
   ],
   "source": [
    "s1 = 'A' + '-' * 10 + 'B'\n",
    "print(s1)"
   ]
  },
  {
   "cell_type": "markdown",
   "metadata": {
    "id": "409jxj9anOSs",
    "pycharm": {
     "name": "#%% md\n"
    }
   },
   "source": [
    "#### Composition"
   ]
  },
  {
   "cell_type": "code",
   "execution_count": 48,
   "metadata": {
    "colab": {
     "base_uri": "https://localhost:8080/"
    },
    "executionInfo": {
     "elapsed": 5,
     "status": "ok",
     "timestamp": 1651207164546,
     "user": {
      "displayName": "thiago alves",
      "userId": "09902161588712950424"
     },
     "user_tz": 180
    },
    "id": "wIvdsDDonPvZ",
    "outputId": "2c6cab29-a412-4653-b97e-b0eb411bbed6",
    "pycharm": {
     "name": "#%%\n"
    }
   },
   "outputs": [
    {
     "name": "stdout",
     "output_type": "stream",
     "text": [
      "You got 8.500000 in Algorithms \n"
     ]
    }
   ],
   "source": [
    "grade = 8.5\n",
    "s1 = 'You got %f in Algorithms ' % grade\n",
    "print(s1)"
   ]
  },
  {
   "cell_type": "markdown",
   "metadata": {
    "id": "uDxZU7p2nfn0",
    "pycharm": {
     "name": "#%% md\n"
    }
   },
   "source": [
    "Limiting decimal places:"
   ]
  },
  {
   "cell_type": "code",
   "execution_count": 49,
   "metadata": {
    "colab": {
     "base_uri": "https://localhost:8080/"
    },
    "executionInfo": {
     "elapsed": 9,
     "status": "ok",
     "timestamp": 1651207244781,
     "user": {
      "displayName": "thiago alves",
      "userId": "09902161588712950424"
     },
     "user_tz": 180
    },
    "id": "1hHQI59Rnc3G",
    "outputId": "58e2e32e-571d-412a-e412-a2397b98eff3",
    "pycharm": {
     "name": "#%%\n"
    }
   },
   "outputs": [
    {
     "name": "stdout",
     "output_type": "stream",
     "text": [
      "You got 8.50 in Algorithms\n"
     ]
    }
   ],
   "source": [
    "grade = 8.5\n",
    "s1 = 'You got %.2f in Algorithms' % grade\n",
    "print(s1)"
   ]
  },
  {
   "cell_type": "markdown",
   "metadata": {
    "id": "UfcFJxnJn4JR",
    "pycharm": {
     "name": "#%% md\n"
    }
   },
   "source": [
    "Several variables:"
   ]
  },
  {
   "cell_type": "code",
   "execution_count": 50,
   "metadata": {
    "colab": {
     "base_uri": "https://localhost:8080/"
    },
    "executionInfo": {
     "elapsed": 7,
     "status": "ok",
     "timestamp": 1651207392962,
     "user": {
      "displayName": "thiago alves",
      "userId": "09902161588712950424"
     },
     "user_tz": 180
    },
    "id": "IWZTPM2fnwi4",
    "outputId": "af5d439e-2d4e-4187-e4bd-675690c4b353",
    "pycharm": {
     "name": "#%%\n"
    }
   },
   "outputs": [
    {
     "name": "stdout",
     "output_type": "stream",
     "text": [
      "You got 8.50 in the course of Algorithms\n"
     ]
    }
   ],
   "source": [
    "grade = 8.5\n",
    "course = 'Algorithms'\n",
    "s1 = 'You got %.2f in the course of %s' % (grade, course)\n",
    "print(s1)"
   ]
  },
  {
   "cell_type": "markdown",
   "metadata": {
    "id": "nv86I6iJogDH",
    "pycharm": {
     "name": "#%% md\n"
    }
   },
   "source": [
    "More modern composition:"
   ]
  },
  {
   "cell_type": "code",
   "execution_count": 51,
   "metadata": {
    "colab": {
     "base_uri": "https://localhost:8080/"
    },
    "executionInfo": {
     "elapsed": 6,
     "status": "ok",
     "timestamp": 1651207519429,
     "user": {
      "displayName": "thiago alves",
      "userId": "09902161588712950424"
     },
     "user_tz": 180
    },
    "id": "lgJSDOpJoOXD",
    "outputId": "553fcead-55c7-4ca1-c500-e9002e8ab4f1",
    "pycharm": {
     "name": "#%%\n"
    }
   },
   "outputs": [
    {
     "name": "stdout",
     "output_type": "stream",
     "text": [
      "You took 8.5 in the course of Algorithms\n"
     ]
    }
   ],
   "source": [
    "grade = 8.5\n",
    "course = 'Algorithms'\n",
    "s1 = 'You took {} in the course of {}'.format(grade, course)\n",
    "print(s1)"
   ]
  },
  {
   "cell_type": "markdown",
   "metadata": {
    "id": "KEFUDifZpHbU",
    "pycharm": {
     "name": "#%% md\n"
    }
   },
   "source": [
    "#### Fatiamento"
   ]
  },
  {
   "cell_type": "code",
   "execution_count": 52,
   "metadata": {
    "colab": {
     "base_uri": "https://localhost:8080/"
    },
    "executionInfo": {
     "elapsed": 258,
     "status": "ok",
     "timestamp": 1651207677534,
     "user": {
      "displayName": "thiago alves",
      "userId": "09902161588712950424"
     },
     "user_tz": 180
    },
    "id": "IMJknD5Pozj1",
    "outputId": "d0346fdb-b22c-4ac2-a3e6-dc18f53d645a",
    "pycharm": {
     "name": "#%%\n"
    }
   },
   "outputs": [
    {
     "name": "stdout",
     "output_type": "stream",
     "text": [
      "Progra\n"
     ]
    }
   ],
   "source": [
    "s1 = 'Programming Logic and Algorithms'\n",
    "print(s1[0:6])"
   ]
  },
  {
   "cell_type": "code",
   "execution_count": 53,
   "metadata": {
    "colab": {
     "base_uri": "https://localhost:8080/"
    },
    "executionInfo": {
     "elapsed": 8,
     "status": "ok",
     "timestamp": 1651207716650,
     "user": {
      "displayName": "thiago alves",
      "userId": "09902161588712950424"
     },
     "user_tz": 180
    },
    "id": "EkN5NfVOpT_2",
    "outputId": "49c20a9b-a915-4377-920e-9327041cdc37",
    "pycharm": {
     "name": "#%%\n"
    }
   },
   "outputs": [
    {
     "name": "stdout",
     "output_type": "stream",
     "text": [
      "gorithms\n"
     ]
    }
   ],
   "source": [
    "s1 = 'Programming Logic and Algorithms'\n",
    "print(s1[24:34])"
   ]
  },
  {
   "cell_type": "code",
   "execution_count": 54,
   "metadata": {
    "colab": {
     "base_uri": "https://localhost:8080/"
    },
    "executionInfo": {
     "elapsed": 5,
     "status": "ok",
     "timestamp": 1651207744265,
     "user": {
      "displayName": "thiago alves",
      "userId": "09902161588712950424"
     },
     "user_tz": 180
    },
    "id": "1xeffPptpjt5",
    "outputId": "0847d4d4-cb7d-485a-b6b8-03728502b297",
    "pycharm": {
     "name": "#%%\n"
    }
   },
   "outputs": [
    {
     "name": "stdout",
     "output_type": "stream",
     "text": [
      "Progra\n"
     ]
    }
   ],
   "source": [
    "s1 = 'Programming Logic and Algorithms'\n",
    "print(s1[:6])"
   ]
  },
  {
   "cell_type": "markdown",
   "metadata": {
    "id": "w028DilUpyKk",
    "pycharm": {
     "name": "#%% md\n"
    }
   },
   "source": [
    "#### Size (length)"
   ]
  },
  {
   "cell_type": "code",
   "execution_count": 55,
   "metadata": {
    "colab": {
     "base_uri": "https://localhost:8080/"
    },
    "executionInfo": {
     "elapsed": 5,
     "status": "ok",
     "timestamp": 1651207828975,
     "user": {
      "displayName": "thiago alves",
      "userId": "09902161588712950424"
     },
     "user_tz": 180
    },
    "id": "Kp_xjts0pqdf",
    "outputId": "5ea8d30b-d6af-4412-dc4a-6dbd50286c0a",
    "pycharm": {
     "name": "#%%\n"
    }
   },
   "outputs": [
    {
     "name": "stdout",
     "output_type": "stream",
     "text": [
      "32\n"
     ]
    }
   ],
   "source": [
    "s1 = 'Programming Logic and Algorithms'\n",
    "size = len(s1)\n",
    "print(size)"
   ]
  },
  {
   "cell_type": "markdown",
   "metadata": {
    "id": "ock-sIx4qLRR",
    "pycharm": {
     "name": "#%% md\n"
    }
   },
   "source": [
    "# Input function and program execution flow"
   ]
  },
  {
   "cell_type": "markdown",
   "metadata": {
    "id": "EaPwib67qlMM",
    "pycharm": {
     "name": "#%% md\n"
    }
   },
   "source": [
    "### input function"
   ]
  },
  {
   "cell_type": "code",
   "execution_count": 56,
   "metadata": {
    "colab": {
     "base_uri": "https://localhost:8080/"
    },
    "executionInfo": {
     "elapsed": 2338,
     "status": "ok",
     "timestamp": 1651208243214,
     "user": {
      "displayName": "thiago alves",
      "userId": "09902161588712950424"
     },
     "user_tz": 180
    },
    "id": "LK_QAWt7p_Gd",
    "outputId": "8ad3c879-bc47-4f06-f1ef-0f7446cfd9de",
    "pycharm": {
     "name": "#%%\n"
    }
   },
   "outputs": [
    {
     "name": "stdout",
     "output_type": "stream",
     "text": [
      "30\n"
     ]
    }
   ],
   "source": [
    "age = input('How old are you? ')\n",
    "print (age)"
   ]
  },
  {
   "cell_type": "code",
   "execution_count": 57,
   "metadata": {
    "colab": {
     "base_uri": "https://localhost:8080/"
    },
    "executionInfo": {
     "elapsed": 2565,
     "status": "ok",
     "timestamp": 1651208236948,
     "user": {
      "displayName": "thiago alves",
      "userId": "09902161588712950424"
     },
     "user_tz": 180
    },
    "id": "GxEqZkN2qtmM",
    "outputId": "2697f984-d5e8-42db-dcdb-2cee629ce883",
    "pycharm": {
     "name": "#%%\n"
    }
   },
   "outputs": [
    {
     "name": "stdout",
     "output_type": "stream",
     "text": [
      "Hello, Thiago Alves. Welcome!\n"
     ]
    }
   ],
   "source": [
    "name = input('Whats your name? ')\n",
    "print('Hello, {}. Welcome!'.format(name))"
   ]
  },
  {
   "cell_type": "markdown",
   "metadata": {
    "id": "WdtUa_HNq3GI",
    "pycharm": {
     "name": "#%% md\n"
    }
   },
   "source": [
    "### Converting input data"
   ]
  },
  {
   "cell_type": "code",
   "execution_count": 58,
   "metadata": {
    "colab": {
     "base_uri": "https://localhost:8080/"
    },
    "executionInfo": {
     "elapsed": 2739,
     "status": "ok",
     "timestamp": 1651208133801,
     "user": {
      "displayName": "thiago alves",
      "userId": "09902161588712950424"
     },
     "user_tz": 180
    },
    "id": "LYuxtNT-q0CD",
    "outputId": "dd2d5867-5e7e-435f-b71f-611a7eebd9fb",
    "pycharm": {
     "name": "#%%\n"
    }
   },
   "outputs": [
    {
     "name": "stdout",
     "output_type": "stream",
     "text": [
      "You took the grade 9.8\n"
     ]
    }
   ],
   "source": [
    "grade = float(input('What grade did you get in the course? '))\n",
    "print('You took the grade {}'.format(grade))"
   ]
  },
  {
   "cell_type": "markdown",
   "metadata": {
    "id": "E-I4vOGJr9PU",
    "pycharm": {
     "name": "#%% md\n"
    }
   },
   "source": [
    "# Exercise\n"
   ]
  },
  {
   "cell_type": "markdown",
   "metadata": {
    "id": "uMUM6jHLsDeE",
    "pycharm": {
     "name": "#%% md\n"
    }
   },
   "source": [
    "Develop an algorithm that prompts the user for two integers. Print the sum of these two numbers on the screen."
   ]
  },
  {
   "cell_type": "code",
   "execution_count": 59,
   "metadata": {
    "colab": {
     "base_uri": "https://localhost:8080/"
    },
    "executionInfo": {
     "elapsed": 7043,
     "status": "ok",
     "timestamp": 1651209932981,
     "user": {
      "displayName": "thiago alves",
      "userId": "09902161588712950424"
     },
     "user_tz": 180
    },
    "id": "F7rCKLnRrI2T",
    "outputId": "11bab9ac-a971-4085-fb13-f1f5350833d0",
    "pycharm": {
     "name": "#%%\n"
    }
   },
   "outputs": [
    {
     "name": "stdout",
     "output_type": "stream",
     "text": [
      "Thiago Alves, the sum of the numbers 50 and 50 is = 100\n"
     ]
    }
   ],
   "source": [
    "# classic way\n",
    "name = input('To get started, enter your name: ')\n",
    "number1 = int(input('Please enter a whole number, no decimal places: '))\n",
    "number2 = int(input('Enter a second number: '))\n",
    "print('{}, the sum of the numbers {} and {} is ='.format(name, number1, number2), number1 + number2)"
   ]
  },
  {
   "cell_type": "code",
   "execution_count": 60,
   "metadata": {
    "colab": {
     "base_uri": "https://localhost:8080/"
    },
    "executionInfo": {
     "elapsed": 6096,
     "status": "ok",
     "timestamp": 1651209811998,
     "user": {
      "displayName": "thiago alves",
      "userId": "09902161588712950424"
     },
     "user_tz": 180
    },
    "id": "XN8Ykj8CuhKe",
    "outputId": "449038d3-8f73-403a-8897-fc5d6fdc8d5a",
    "pycharm": {
     "name": "#%%\n"
    }
   },
   "outputs": [
    {
     "name": "stdout",
     "output_type": "stream",
     "text": [
      "Thiago Alves, the sum of the numbers 80 and 70 is = 150\n"
     ]
    }
   ],
   "source": [
    "# modern way\n",
    "name = input('To get started, enter your name: ')\n",
    "number1 = int(input('Please enter a whole number, no decimal places: '))\n",
    "number2 = int(input('Please enter a second integer: '))\n",
    "result = (f'{name}, the sum of the numbers {number1} and {number2} is = {number1+number2}')\n",
    "print(result)"
   ]
  }
 ],
 "metadata": {
  "colab": {
   "authorship_tag": "ABX9TyPJGXwO3zgT63MOl+Chpuff",
   "collapsed_sections": [],
   "name": "programming_logic_I.ipynb",
   "provenance": []
  },
  "kernelspec": {
   "display_name": "Python 3",
   "name": "python3"
  },
  "language_info": {
   "name": "python"
  }
 },
 "nbformat": 4,
 "nbformat_minor": 0
}