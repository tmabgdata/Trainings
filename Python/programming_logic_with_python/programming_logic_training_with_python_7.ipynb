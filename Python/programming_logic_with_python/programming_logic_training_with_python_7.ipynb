{
 "nbformat": 4,
 "nbformat_minor": 0,
 "metadata": {
  "colab": {
   "name": "programmin_logic_VII.ipynb",
   "provenance": [],
   "collapsed_sections": [],
   "authorship_tag": "ABX9TyOwj4lbuC5tX3cPVKi5m/jr",
   "include_colab_link": true
  },
  "kernelspec": {
   "name": "python3",
   "display_name": "Python 3"
  },
  "language_info": {
   "name": "python"
  }
 },
 "cells": [
  {
   "cell_type": "markdown",
   "source": [
    "# Functions"
   ],
   "metadata": {
    "id": "XhnZfURFLtcf",
    "pycharm": {
     "name": "#%% md\n"
    }
   }
  },
  {
   "cell_type": "markdown",
   "source": [
    "- Functions are code routines that can be executed when their name is invoked within the program.\n",
    "- print, input, int, range, are examples of functions.\n",
    "- Functions make our programs easier to understand.\n",
    "- Functions confine bugs inside them.\n",
    "- Functions make programs more portable.\n",
    "- Functions help in collaborative work."
   ],
   "metadata": {
    "id": "8ME887SWL8Qk",
    "pycharm": {
     "name": "#%% md\n"
    }
   }
  },
  {
   "cell_type": "code",
   "execution_count": 2,
   "metadata": {
    "colab": {
     "base_uri": "https://localhost:8080/"
    },
    "id": "6wc3jh5GKzol",
    "outputId": "95134fba-25d9-4cf2-9dbc-20c9f938bef6",
    "pycharm": {
     "name": "#%%\n"
    }
   },
   "outputs": [
    {
     "name": "stdout",
     "output_type": "stream",
     "text": [
      "| __________ |\n",
      "| __________ |\n",
      "     MENU\n",
      "| __________ |\n",
      "| __________ |\n",
      "| __________ |\n",
      "| __________ |\n",
      "     MENU\n",
      "| __________ |\n",
      "| __________ |\n"
     ]
    }
   ],
   "source": [
    "print('|','_' * 10,'|')\n",
    "print('|','_' * 10,'|')\n",
    "print('     MENU')\n",
    "print('|','_' * 10,'|')\n",
    "print('|','_' * 10,'|')"
   ]
  },
  {
   "cell_type": "code",
   "source": [
    "def realce ():\n",
    "  # function body\n",
    "  print('|','_' * 10,'|')\n",
    "  print('|','_' * 10,'|')"
   ],
   "metadata": {
    "id": "XkTHhO30PLeD",
    "pycharm": {
     "name": "#%%\n"
    }
   },
   "execution_count": 3,
   "outputs": []
  },
  {
   "cell_type": "code",
   "source": [
    "# print function\n",
    "realce()\n",
    "print('     MENU')\n",
    "realce()"
   ],
   "metadata": {
    "colab": {
     "base_uri": "https://localhost:8080/"
    },
    "id": "fBZYN2o8P6eR",
    "outputId": "a1f08a3b-3d0b-453f-e8e8-763d79d80d74",
    "pycharm": {
     "name": "#%%\n"
    }
   },
   "execution_count": 4,
   "outputs": [
    {
     "name": "stdout",
     "output_type": "stream",
     "text": [
      "| __________ |\n",
      "| __________ |\n",
      "     MENU\n",
      "| __________ |\n",
      "| __________ |\n"
     ]
    }
   ]
  },
  {
   "cell_type": "markdown",
   "source": [
    "## Parameters in function"
   ],
   "metadata": {
    "id": "d8GEB_8fQiLH",
    "pycharm": {
     "name": "#%% md\n"
    }
   }
  },
  {
   "cell_type": "markdown",
   "source": [
    "- Parameters - Data transferred by functions\n",
    "- The act of sending data to a function is called **parameter passing.**"
   ],
   "metadata": {
    "id": "qPLLp8uAozNv",
    "pycharm": {
     "name": "#%% md\n"
    }
   }
  },
  {
   "cell_type": "code",
   "source": [
    "def realce(s1):\n",
    "  print('|','_' * 10,'|')\n",
    "  print('|','_' * 10,'|')\n",
    "  print(s1)\n",
    "  print('|','_' * 10,'|')\n",
    "  print('|','_' * 10,'|')"
   ],
   "metadata": {
    "id": "kgMGr9pTQnux",
    "pycharm": {
     "name": "#%%\n"
    }
   },
   "execution_count": 5,
   "outputs": []
  },
  {
   "cell_type": "code",
   "source": [
    "realce('    THIAGO') "
   ],
   "metadata": {
    "colab": {
     "base_uri": "https://localhost:8080/"
    },
    "id": "8QSkQOFEhUtU",
    "outputId": "6849e054-e5a2-4625-ea5d-60ecf5ada42d",
    "pycharm": {
     "name": "#%%\n"
    }
   },
   "execution_count": 6,
   "outputs": [
    {
     "name": "stdout",
     "output_type": "stream",
     "text": [
      "| __________ |\n",
      "| __________ |\n",
      "    THIAGO\n",
      "| __________ |\n",
      "| __________ |\n"
     ]
    }
   ]
  },
  {
   "cell_type": "code",
   "source": [
    "def sub2(x, y):\n",
    "  res = x - y\n",
    "  print(res)\n",
    "\n"
   ],
   "metadata": {
    "id": "qFi5YYGyhgcV",
    "pycharm": {
     "name": "#%%\n"
    }
   },
   "execution_count": 7,
   "outputs": []
  },
  {
   "cell_type": "code",
   "source": [
    "sub2(5,7)"
   ],
   "metadata": {
    "colab": {
     "base_uri": "https://localhost:8080/"
    },
    "id": "UuceJSBg_hOp",
    "outputId": "60dc06e6-57ff-49b5-879a-3a3fc5e7f882",
    "pycharm": {
     "name": "#%%\n"
    }
   },
   "execution_count": 8,
   "outputs": [
    {
     "name": "stdout",
     "output_type": "stream",
     "text": [
      "-2\n"
     ]
    }
   ]
  },
  {
   "cell_type": "code",
   "source": [
    "sub2(7,5)"
   ],
   "metadata": {
    "id": "bQB33IjNzcvl",
    "colab": {
     "base_uri": "https://localhost:8080/"
    },
    "outputId": "c499db85-dbbe-40a0-a0e0-ae8488dac3d5",
    "pycharm": {
     "name": "#%%\n"
    }
   },
   "execution_count": 9,
   "outputs": [
    {
     "name": "stdout",
     "output_type": "stream",
     "text": [
      "2\n"
     ]
    }
   ]
  },
  {
   "cell_type": "code",
   "source": [
    "sub2(y=7, x=5)"
   ],
   "metadata": {
    "colab": {
     "base_uri": "https://localhost:8080/"
    },
    "id": "vKwAs4aa_s_w",
    "outputId": "389f1be0-b770-448e-8853-3997322d9cb9",
    "pycharm": {
     "name": "#%%\n"
    }
   },
   "execution_count": 10,
   "outputs": [
    {
     "name": "stdout",
     "output_type": "stream",
     "text": [
      "-2\n"
     ]
    }
   ]
  },
  {
   "cell_type": "markdown",
   "source": [
    "## Optional parameters\n",
    "\n",
    "- We can give our functions greater flexibility by not always using all parameters in a function call."
   ],
   "metadata": {
    "id": "scf9yjRfAFEd",
    "pycharm": {
     "name": "#%% md\n"
    }
   }
  },
  {
   "cell_type": "code",
   "source": [
    "def sum3(x, y, z):\n",
    "  res = x + y + z\n",
    "  print(res)\n"
   ],
   "metadata": {
    "id": "KpQmdOptCMhr",
    "pycharm": {
     "name": "#%%\n"
    }
   },
   "execution_count": 13,
   "outputs": []
  },
  {
   "cell_type": "code",
   "source": [
    "def sum3 (x = 0, y = 0, z = 0):\n",
    "  res =  x + y + z\n",
    "  print(res)"
   ],
   "metadata": {
    "id": "E16Eu1fWFqEB",
    "pycharm": {
     "name": "#%%\n"
    }
   },
   "execution_count": 14,
   "outputs": []
  },
  {
   "cell_type": "code",
   "source": [
    "sum3(1, 2, 3)\n",
    "sum3(1, 2) # z has been omitted\n",
    "sum3(1) # y and z have been omitted\n",
    "sum3( ) # x, y, z have been omitted"
   ],
   "metadata": {
    "colab": {
     "base_uri": "https://localhost:8080/"
    },
    "id": "7OWbg0E5F7Ol",
    "outputId": "be89f0f8-8ae4-40a9-8e73-63d47ef2c622",
    "pycharm": {
     "name": "#%%\n"
    }
   },
   "execution_count": 15,
   "outputs": [
    {
     "name": "stdout",
     "output_type": "stream",
     "text": [
      "6\n",
      "3\n",
      "1\n",
      "0\n"
     ]
    }
   ]
  },
  {
   "cell_type": "markdown",
   "source": [
    "Write a routine that creates a border around a word to make it stand out as a headline. The routine must receive the word to be highlighted as a parameter. The size of the text box must be adaptable according to the size of the word."
   ],
   "metadata": {
    "id": "b8BmuhggL2hu",
    "pycharm": {
     "name": "#%% md\n"
    }
   }
  },
  {
   "cell_type": "code",
   "source": [
    "def edge(s1):\n",
    "  size = len(s1)\n",
    "  # only print if there is a character\n",
    "  if size:\n",
    "    print('+','-' *size,'+')\n",
    "    print('|',s1,'|')\n",
    "    print('+','-' *size,'+')\n",
    "\n",
    "# main program\n",
    "edge('Hello World!')\n",
    "edge('Programming Logic and Algorithms')"
   ],
   "metadata": {
    "colab": {
     "base_uri": "https://localhost:8080/"
    },
    "id": "vUUAk4PQMhFD",
    "outputId": "7c1c7407-cd03-4c73-c5ef-10fb85b140c2",
    "pycharm": {
     "name": "#%%\n"
    }
   },
   "execution_count": 17,
   "outputs": [
    {
     "name": "stdout",
     "output_type": "stream",
     "text": [
      "+ ------------ +\n",
      "| Hello World! |\n",
      "+ ------------ +\n",
      "+ -------------------------------- +\n",
      "| Programming Logic and Algorithms |\n",
      "+ -------------------------------- +\n"
     ]
    }
   ]
  },
  {
   "cell_type": "markdown",
   "source": [
    "# Scope of Variables"
   ],
   "metadata": {
    "id": "qPYwg7iF1UjS",
    "pycharm": {
     "name": "#%% md\n"
    }
   }
  },
  {
   "cell_type": "markdown",
   "source": [
    "A scope is the property that determines where a variable can be used within a program."
   ],
   "metadata": {
    "id": "sUy2Ydj51eCR",
    "pycharm": {
     "name": "#%% md\n"
    }
   }
  },
  {
   "cell_type": "markdown",
   "source": [
    "## Local Scope\n",
    "\n",
    "- Created whenever a function is called.\n",
    "- Variables created, either in the field of a parameter or inside the body of a function, are part of the local scope of that function and are called **local variables**. These variables only exist within that function itself."
   ],
   "metadata": {
    "id": "OhfMdz_-1tpD",
    "pycharm": {
     "name": "#%% md\n"
    }
   }
  },
  {
   "cell_type": "markdown",
   "source": [
    "## Global Scope\n",
    "\n",
    "- Created in the initial program.\n",
    "- Local variables belong to a global scope and are variables created within the main program. A **global variable** also exists in every function invoked throughout the program."
   ],
   "metadata": {
    "id": "NXFy8TKr2bsG",
    "pycharm": {
     "name": "#%% md\n"
    }
   }
  },
  {
   "cell_type": "markdown",
   "source": [
    "#### Scope of Variables"
   ],
   "metadata": {
    "id": "KOaFSyDR3Koc",
    "pycharm": {
     "name": "#%% md\n"
    }
   }
  },
  {
   "cell_type": "code",
   "source": [
    "def food():\n",
    "  print(eggs)\n",
    "\n",
    "# main program\n",
    "eggs = 12\n",
    "food()"
   ],
   "metadata": {
    "colab": {
     "base_uri": "https://localhost:8080/"
    },
    "id": "HhjyJ0an3JP2",
    "outputId": "9e53eccf-3611-46b9-ba7f-0d706d68dfe8",
    "pycharm": {
     "name": "#%%\n"
    }
   },
   "execution_count": 18,
   "outputs": [
    {
     "name": "stdout",
     "output_type": "stream",
     "text": [
      "12\n"
     ]
    }
   ]
  },
  {
   "cell_type": "code",
   "source": [
    "def food():\n",
    "  eggs = 12\n",
    "  bacon()\n",
    "  print(eggs)\n",
    "\n",
    "def bacon():\n",
    "  eggs = 6\n",
    "\n",
    "# main program\n",
    "food()"
   ],
   "metadata": {
    "colab": {
     "base_uri": "https://localhost:8080/"
    },
    "id": "kHXkkCkD79O4",
    "outputId": "ae879506-e63b-4666-c180-470bf3e8dc19",
    "pycharm": {
     "name": "#%%\n"
    }
   },
   "execution_count": 19,
   "outputs": [
    {
     "name": "stdout",
     "output_type": "stream",
     "text": [
      "12\n"
     ]
    }
   ]
  },
  {
   "cell_type": "code",
   "source": [
    "def food():\n",
    "  eggs = 'local food variable'\n",
    "  print(eggs)\n",
    "\n",
    "def bacon():\n",
    "  eggs = 'Bacon local variable'\n",
    "  print(eggs)\n",
    "  food()\n",
    "  print(eggs)\n",
    "\n",
    "# main program\n",
    "eggs = 'global variable'\n",
    "bacon()\n",
    "print(eggs)"
   ],
   "metadata": {
    "id": "f_64GWPa8UuX",
    "pycharm": {
     "name": "#%%\n"
    }
   },
   "execution_count": 20,
   "outputs": [
    {
     "name": "stdout",
     "output_type": "stream",
     "text": [
      "Bacon local variable\n",
      "local food variable\n",
      "Bacon local variable\n",
      "global variable\n"
     ]
    }
   ]
  },
  {
   "cell_type": "code",
   "source": [
    "## Global Assignment"
   ],
   "metadata": {
    "id": "QDWCIS00-D4H",
    "pycharm": {
     "name": "#%%\n"
    }
   },
   "execution_count": 21,
   "outputs": []
  },
  {
   "cell_type": "markdown",
   "source": [
    "## The Global statement"
   ],
   "metadata": {
    "id": "7MmuwTq9-TcI",
    "pycharm": {
     "name": "#%% md\n"
    }
   }
  },
  {
   "cell_type": "markdown",
   "source": [
    "- Forces our program not to create a local variable with the same name and to name only the global one within a function"
   ],
   "metadata": {
    "id": "lC-0VTAp-0kC",
    "pycharm": {
     "name": "#%% md\n"
    }
   }
  },
  {
   "cell_type": "markdown",
   "source": [
    "# Return values in functions"
   ],
   "metadata": {
    "id": "zCuVZjgs_b2s",
    "pycharm": {
     "name": "#%% md\n"
    }
   }
  },
  {
   "cell_type": "code",
   "source": [
    "def sum3(x = 0, y = 9, z = 0):\n",
    "  res = x + y + z\n",
    "  return res\n",
    "\n",
    "# main program\n",
    "returned = sum3(1,2,3)\n",
    "print(returned)\n",
    "\n",
    "# simplified alternative form\n",
    "print(sum3(2, 2))"
   ],
   "metadata": {
    "colab": {
     "base_uri": "https://localhost:8080/"
    },
    "id": "6WOpC6HR-xyW",
    "outputId": "0725600d-90fe-4918-c49e-70b230e42965",
    "pycharm": {
     "name": "#%%\n"
    }
   },
   "execution_count": 22,
   "outputs": [
    {
     "name": "stdout",
     "output_type": "stream",
     "text": [
      "6\n",
      "4\n"
     ]
    }
   ]
  },
  {
   "cell_type": "code",
   "source": [
    "# main program\n",
    "returned1 = sum3(1,2,3)\n",
    "returned2 = sum3(1,2)\n",
    "returned3 = sum3()\n",
    "print(f'Summs: {returned1}, {returned2} and {returned3}')"
   ],
   "metadata": {
    "colab": {
     "base_uri": "https://localhost:8080/"
    },
    "id": "hh9YH_8UBXFm",
    "outputId": "5f4e1202-bca2-4b20-960c-7d7fd2036578",
    "pycharm": {
     "name": "#%%\n"
    }
   },
   "execution_count": 23,
   "outputs": [
    {
     "name": "stdout",
     "output_type": "stream",
     "text": [
      "Summs: 6, 3 and 9\n"
     ]
    }
   ]
  },
  {
   "cell_type": "markdown",
   "source": [
    "#### Exercise:\n",
    "\n",
    "- Write a function to validate a string. This function receives as a parameter the string, the minimum and maximum number of characters, my minimum too. Return true if the string size is between the minimum and maximum values, and false otherwise (elaborated based on Menezes, s. d.)"
   ],
   "metadata": {
    "id": "_g53Y06bCE5E",
    "pycharm": {
     "name": "#%% md\n"
    }
   }
  },
  {
   "cell_type": "code",
   "source": [
    "def validate_string(question, min, max):\n",
    "  s1 = input(question)\n",
    "  size = len(s1)\n",
    "  while ((size < min ) or (size > max)):\n",
    "    s1 = input(question)\n",
    "    tam = len(s1)\n",
    "  return s1\n",
    "\n",
    "# Main advertisement\n",
    "x = validate_string('Enter a string: ', 10, 30)\n",
    "print(f'You entered the string: {x}. \\n Valid Data. Terminating the program...')"
   ],
   "metadata": {
    "colab": {
     "base_uri": "https://localhost:8080/"
    },
    "id": "9v8Twn8pEHN3",
    "outputId": "a5dd5294-1b9b-4352-c86e-2c7058594319",
    "pycharm": {
     "name": "#%%\n"
    }
   },
   "execution_count": 24,
   "outputs": [
    {
     "name": "stdout",
     "output_type": "stream",
     "text": [
      "You entered the string: This is a string. \n",
      " Valid Data. Terminating the program...\n"
     ]
    }
   ]
  },
  {
   "cell_type": "markdown",
   "source": [
    "# Advanced Features with Functions"
   ],
   "metadata": {
    "id": "CfcHZNMAHKtw",
    "pycharm": {
     "name": "#%% md\n"
    }
   }
  },
  {
   "cell_type": "markdown",
   "source": [
    "## Syntax Error\n",
    "\n",
    "- Occurs when the programmer makes a typing error, or forgets a keyword or character, or even makes a mistake in the code indentation."
   ],
   "metadata": {
    "id": "I-UuOWQdHkIb",
    "pycharm": {
     "name": "#%% md\n"
    }
   }
  },
  {
   "cell_type": "markdown",
   "source": [
    "## Exception\n",
    "\n",
    "- In this type of error, the syntax is correct, but an error occurs during the execution of the program, normally due to an invalid typed data and not treated during the program\n",
    "\n",
    "## Common Exceptions in Python\n",
    "\n",
    "- ZeroDivisionErroer - Division by 0 error\n",
    "- ValueError - Unexpected data error\n",
    "- IndexError - Index error being accessed."
   ],
   "metadata": {
    "id": "3sNvGmQdIOHC",
    "pycharm": {
     "name": "#%% md\n"
    }
   }
  },
  {
   "cell_type": "markdown",
   "source": [
    "## Exceptions and errors"
   ],
   "metadata": {
    "id": "PIUJgcf1573r",
    "pycharm": {
     "name": "#%% md\n"
    }
   }
  },
  {
   "cell_type": "code",
   "source": [
    "# System error"
   ],
   "metadata": {
    "id": "1gU2tMsWH3uM",
    "pycharm": {
     "name": "#%%\n"
    }
   },
   "execution_count": 25,
   "outputs": []
  },
  {
   "cell_type": "code",
   "source": [
    "while True #syntax error (missing 2 dot sign).\n",
    "  print('Hello World!')"
   ],
   "metadata": {
    "colab": {
     "base_uri": "https://localhost:8080/",
     "height": 130
    },
    "id": "1Trp6q596XCL",
    "outputId": "595ca98a-729b-44e0-fbf4-34b678570b7b",
    "pycharm": {
     "name": "#%%\n"
    }
   },
   "execution_count": 26,
   "outputs": [
    {
     "ename": "SyntaxError",
     "evalue": "invalid syntax (Temp/ipykernel_10444/2728246707.py, line 1)",
     "output_type": "error",
     "traceback": [
      "\u001B[1;36m  File \u001B[1;32m\"C:\\Users\\thiag\\AppData\\Local\\Temp/ipykernel_10444/2728246707.py\"\u001B[1;36m, line \u001B[1;32m1\u001B[0m\n\u001B[1;33m    while True #syntax error (missing 2 dot sign).\u001B[0m\n\u001B[1;37m               ^\u001B[0m\n\u001B[1;31mSyntaxError\u001B[0m\u001B[1;31m:\u001B[0m invalid syntax\n"
     ]
    }
   ]
  },
  {
   "cell_type": "code",
   "source": [
    "100 * (2 / 0) # not divisible by zero"
   ],
   "metadata": {
    "colab": {
     "base_uri": "https://localhost:8080/",
     "height": 165
    },
    "id": "NReNlAnja5nR",
    "outputId": "0bdc1f2b-7c70-40fe-c581-12ced433b55d",
    "pycharm": {
     "name": "#%%\n"
    }
   },
   "execution_count": 27,
   "outputs": [
    {
     "ename": "ZeroDivisionError",
     "evalue": "division by zero",
     "output_type": "error",
     "traceback": [
      "\u001B[1;31m---------------------------------------------------------------------------\u001B[0m",
      "\u001B[1;31mZeroDivisionError\u001B[0m                         Traceback (most recent call last)",
      "\u001B[1;32m~\\AppData\\Local\\Temp/ipykernel_10444/1004829185.py\u001B[0m in \u001B[0;36m<module>\u001B[1;34m\u001B[0m\n\u001B[1;32m----> 1\u001B[1;33m \u001B[1;36m100\u001B[0m \u001B[1;33m*\u001B[0m \u001B[1;33m(\u001B[0m\u001B[1;36m2\u001B[0m \u001B[1;33m/\u001B[0m \u001B[1;36m0\u001B[0m\u001B[1;33m)\u001B[0m \u001B[1;31m# not divisible by zero\u001B[0m\u001B[1;33m\u001B[0m\u001B[1;33m\u001B[0m\u001B[0m\n\u001B[0m",
      "\u001B[1;31mZeroDivisionError\u001B[0m: division by zero"
     ]
    }
   ]
  },
  {
   "cell_type": "code",
   "source": [
    "x = int(input('Please enter a number: ')) # Unexpected value"
   ],
   "metadata": {
    "colab": {
     "base_uri": "https://localhost:8080/",
     "height": 183
    },
    "id": "tAh7A-WCfbB-",
    "outputId": "1c621e76-0bfd-4c97-c6c3-b39da6b8d600",
    "pycharm": {
     "name": "#%%\n"
    }
   },
   "execution_count": 28,
   "outputs": [
    {
     "ename": "ValueError",
     "evalue": "invalid literal for int() with base 10: 'T'",
     "output_type": "error",
     "traceback": [
      "\u001B[1;31m---------------------------------------------------------------------------\u001B[0m",
      "\u001B[1;31mValueError\u001B[0m                                Traceback (most recent call last)",
      "\u001B[1;32m~\\AppData\\Local\\Temp/ipykernel_10444/2468563165.py\u001B[0m in \u001B[0;36m<module>\u001B[1;34m\u001B[0m\n\u001B[1;32m----> 1\u001B[1;33m \u001B[0mx\u001B[0m \u001B[1;33m=\u001B[0m \u001B[0mint\u001B[0m\u001B[1;33m(\u001B[0m\u001B[0minput\u001B[0m\u001B[1;33m(\u001B[0m\u001B[1;34m'Please enter a number: '\u001B[0m\u001B[1;33m)\u001B[0m\u001B[1;33m)\u001B[0m \u001B[1;31m# Unexpected value\u001B[0m\u001B[1;33m\u001B[0m\u001B[1;33m\u001B[0m\u001B[0m\n\u001B[0m",
      "\u001B[1;31mValueError\u001B[0m: invalid literal for int() with base 10: 'T'"
     ]
    }
   ]
  },
  {
   "cell_type": "code",
   "source": [
    "while True:\n",
    "  try:\n",
    "    x = int(input('Please enter a number: '))\n",
    "    break\n",
    "  except ValueError:\n",
    "    print('Oops! Invalid number. Try again...')"
   ],
   "metadata": {
    "colab": {
     "base_uri": "https://localhost:8080/"
    },
    "id": "9oo5QEGLf0EC",
    "outputId": "18de6dc9-8418-4ca4-f1d7-76ac44435636",
    "pycharm": {
     "name": "#%%\n"
    }
   },
   "execution_count": 29,
   "outputs": [
    {
     "name": "stdout",
     "output_type": "stream",
     "text": [
      "Oops! Invalid number. Try again...\n",
      "Oops! Invalid number. Try again...\n"
     ]
    }
   ]
  },
  {
   "cell_type": "code",
   "source": [
    "def div():\n",
    "  try:\n",
    "    num1 = int(input('Enter a number: '))\n",
    "    num2 = int(input('Enter a number: '))\n",
    "    res = num1 / num2\n",
    "  except ZeroDivisionError:\n",
    "    print('Oops! Division by zero error...')\n",
    "  except:\n",
    "    print('Something went wrong...')\n",
    "  else:\n",
    "    return res\n",
    "  finally:\n",
    "    print('It will always run!')\n",
    "\n",
    "# main program\n",
    "print(div())"
   ],
   "metadata": {
    "colab": {
     "base_uri": "https://localhost:8080/"
    },
    "id": "Y5l2oorOiDZJ",
    "outputId": "e5c79454-77c6-4914-ec70-6424c38c7ca8",
    "pycharm": {
     "name": "#%%\n"
    }
   },
   "execution_count": 30,
   "outputs": [
    {
     "name": "stdout",
     "output_type": "stream",
     "text": [
      "It will always run!\n",
      "2.5\n"
     ]
    }
   ]
  },
  {
   "cell_type": "markdown",
   "source": [
    "## Function as a function parameter\n",
    "\n",
    "- Allows the creation of very generic routines\n",
    "- Let's see in Python"
   ],
   "metadata": {
    "id": "hGZrvcShlGvh",
    "pycharm": {
     "name": "#%% md\n"
    }
   }
  },
  {
   "cell_type": "code",
   "source": [
    "def print_with_condition(num, fcond):\n",
    "  if fcond(num):\n",
    "    print(num)\n",
    "\n",
    "def pair(x):\n",
    "  return x % 2 == 0\n",
    "def odd(x):\n",
    "  return not pair(x)\n",
    "\n",
    "# main program\n",
    "print_with_condition(4, pair)"
   ],
   "metadata": {
    "colab": {
     "base_uri": "https://localhost:8080/"
    },
    "id": "s7X20umrl4ZF",
    "outputId": "dfc62300-0150-4f71-fca7-0d14905285d8",
    "pycharm": {
     "name": "#%%\n"
    }
   },
   "execution_count": 32,
   "outputs": [
    {
     "name": "stdout",
     "output_type": "stream",
     "text": [
      "4\n"
     ]
    }
   ]
  },
  {
   "cell_type": "markdown",
   "source": [
    "## Lambda Function\n",
    "\n",
    "- Simpler, unnamed functions called **Lambda** functions\n",
    "- They can be written in a single line of code and inside the main program"
   ],
   "metadata": {
    "id": "nlgYbOoDnZaK",
    "pycharm": {
     "name": "#%% md\n"
    }
   }
  },
  {
   "cell_type": "code",
   "source": [
    "res = lambda x: x * x\n",
    "print(res(3))"
   ],
   "metadata": {
    "colab": {
     "base_uri": "https://localhost:8080/"
    },
    "id": "w5EDOKnxn08q",
    "outputId": "234110e4-276d-4c71-cac7-2bfa5ea0b95b",
    "pycharm": {
     "name": "#%%\n"
    }
   },
   "execution_count": 33,
   "outputs": [
    {
     "name": "stdout",
     "output_type": "stream",
     "text": [
      "9\n"
     ]
    }
   ]
  },
  {
   "cell_type": "code",
   "source": [
    "soma = lambda x,  y:  x + y\n",
    "print(soma (3 , 5))"
   ],
   "metadata": {
    "colab": {
     "base_uri": "https://localhost:8080/"
    },
    "id": "yMv_yewcojoI",
    "outputId": "66df0679-a7a2-4982-d6d9-9b1c576dbb66",
    "pycharm": {
     "name": "#%%\n"
    }
   },
   "execution_count": 34,
   "outputs": [
    {
     "name": "stdout",
     "output_type": "stream",
     "text": [
      "8\n"
     ]
    }
   ]
  },
  {
   "cell_type": "markdown",
   "source": [
    "# EXERCISES"
   ],
   "metadata": {
    "id": "8xjgOTQSSfhW",
    "pycharm": {
     "name": "#%% md\n"
    }
   }
  },
  {
   "cell_type": "markdown",
   "source": [
    "### Exercise 1\n",
    "\n",
    "- Write a function that calculates the factorial of a number received as a parameter and returns its result;\n",
    "\n",
    "- Validate the data through another function, allowing only positive values to be accepted.\n",
    "\n",
    "- I created a dataphrase here."
   ],
   "metadata": {
    "id": "wNuRtMo8TwUX",
    "pycharm": {
     "name": "#%% md\n"
    }
   }
  },
  {
   "cell_type": "code",
   "source": [
    "# Validation function\n",
    "def validate_int(question, min, max):\n",
    "  x = int(input(question))\n",
    "  while((x < min) or (x > max)):\n",
    "    x = int(input(question))\n",
    "  return x\n",
    "\n",
    "# Calculating the Factorial\n",
    "def factorial(num):\n",
    "  fat = 1\n",
    "  if num == 0:\n",
    "    return fat\n",
    "  for i in range(1, num + 1, 1):\n",
    "    fat *= i\n",
    "  return fat\n",
    "\n",
    "# main program\n",
    "\n",
    "x = validate_int('Enter a value to calculate the factorial: ', 0, 99999)\n",
    "print(f'{x}! = {factorial(x)}')"
   ],
   "metadata": {
    "colab": {
     "base_uri": "https://localhost:8080/"
    },
    "id": "Z5eMwNEeZQ_f",
    "outputId": "8cb10237-cdbb-4bc3-f997-df067b16a786",
    "pycharm": {
     "name": "#%%\n"
    }
   },
   "execution_count": 35,
   "outputs": [
    {
     "name": "stdout",
     "output_type": "stream",
     "text": [
      "5! = 120\n"
     ]
    }
   ]
  },
  {
   "cell_type": "markdown",
   "source": [
    "### Exercise 2\n",
    "\n",
    "- Suppose you are a video game collector. Write an algorithm that allows you to register these games by informing the name and which video game it belongs to\n",
    "\n",
    "- For this, create an options menu containing: register new item, list everything that was registered and exit"
   ],
   "metadata": {
    "id": "qMsegv2DexBG",
    "pycharm": {
     "name": "#%% md\n"
    }
   }
  },
  {
   "cell_type": "code",
   "execution_count": 37,
   "outputs": [
    {
     "ename": "NameError",
     "evalue": "name 'file_exists' is not defined",
     "output_type": "error",
     "traceback": [
      "\u001B[1;31m---------------------------------------------------------------------------\u001B[0m",
      "\u001B[1;31mNameError\u001B[0m                                 Traceback (most recent call last)",
      "\u001B[1;32m~\\AppData\\Local\\Temp/ipykernel_10444/2067929758.py\u001B[0m in \u001B[0;36m<module>\u001B[1;34m\u001B[0m\n\u001B[0;32m     47\u001B[0m \u001B[1;31m# Main Program\u001B[0m\u001B[1;33m\u001B[0m\u001B[1;33m\u001B[0m\u001B[0m\n\u001B[0;32m     48\u001B[0m \u001B[0mfile\u001B[0m \u001B[1;33m=\u001B[0m \u001B[1;34m'games.txt'\u001B[0m\u001B[1;33m\u001B[0m\u001B[1;33m\u001B[0m\u001B[0m\n\u001B[1;32m---> 49\u001B[1;33m \u001B[1;32mif\u001B[0m \u001B[0mfile_exists\u001B[0m\u001B[1;33m(\u001B[0m\u001B[0mfile\u001B[0m\u001B[1;33m)\u001B[0m\u001B[1;33m:\u001B[0m\u001B[1;33m\u001B[0m\u001B[1;33m\u001B[0m\u001B[0m\n\u001B[0m\u001B[0;32m     50\u001B[0m   \u001B[0mprint\u001B[0m\u001B[1;33m(\u001B[0m\u001B[1;34m'File located on computer'\u001B[0m\u001B[1;33m)\u001B[0m\u001B[1;33m\u001B[0m\u001B[1;33m\u001B[0m\u001B[0m\n\u001B[0;32m     51\u001B[0m \u001B[1;32melse\u001B[0m\u001B[1;33m:\u001B[0m\u001B[1;33m\u001B[0m\u001B[1;33m\u001B[0m\u001B[0m\n",
      "\u001B[1;31mNameError\u001B[0m: name 'file_exists' is not defined"
     ]
    }
   ],
   "source": [
    "# Validation function\n",
    "def validate_int(question, min, max):\n",
    "  x = int(input(question))\n",
    "  while((x < min) or (x > max)):\n",
    "    x = int(input(question))\n",
    "  return x\n",
    "\n",
    "def create_file(file_name):\n",
    "  try:\n",
    "    a = open(file_name, 'wt+')\n",
    "    a.close()\n",
    "  except:\n",
    "    print('Error creating file.')\n",
    "  else:\n",
    "    print(f'File {file_name} was created successfully.\\n')\n",
    "\n",
    "\n",
    "def file_exist(file_name):\n",
    "  try:\n",
    "    a = open(file_name, 'rt')\n",
    "    a.close()\n",
    "  except FileNotFoundError:\n",
    "    return False\n",
    "  else:\n",
    "    return True\n",
    "\n",
    "def list_file(file_name):\n",
    "  try:\n",
    "    a = open(file_name, 'r')\n",
    "  except:\n",
    "    print('Error reading file')\n",
    "  else:\n",
    "    print(a.read())\n",
    "  finally:\n",
    "    a.close()\n",
    "\n",
    "def register_game(file_name, game_name, console_name):\n",
    "  try:\n",
    "    a = open(file_name, 'at')\n",
    "  except:\n",
    "    print('Error opening file.')\n",
    "  else:\n",
    "    a.write(f'{game_name};{console_name}\\n')\n",
    "  finally:\n",
    "    a.close()\n",
    "\n",
    "# Main Program\n",
    "file = 'games.txt'\n",
    "if file_exists(file):\n",
    "  print('File located on computer')\n",
    "else:\n",
    "  print('File does not exist')\n",
    "  create_file(file)\n",
    "\n",
    "while True:\n",
    "  print('MENU')\n",
    "  print('1 - Add new item')\n",
    "  print('2 - List entries')\n",
    "  print('3 - Exit')\n",
    "\n",
    "  op = validate_int('Choose the desired option: ', 1, 3)\n",
    "  if op == 1:\n",
    "    print('Option to register in selected item...\\n')\n",
    "    game_name = input('Game Name')\n",
    "    console_name = input('Console name')\n",
    "    register_game(file, game_name, console_name)\n",
    "  elif op == 2:\n",
    "    print('List option selected...\\n')\n",
    "    list_file(file)\n",
    "  elif op == 3:\n",
    "    print('Closing the program...')\n",
    "    break"
   ],
   "metadata": {
    "collapsed": false,
    "pycharm": {
     "name": "#%%\n"
    }
   }
  }
 ]
}