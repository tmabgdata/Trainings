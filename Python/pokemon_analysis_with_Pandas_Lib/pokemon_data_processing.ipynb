{
 "nbformat": 4,
 "nbformat_minor": 0,
 "metadata": {
  "colab": {
   "name": "pandas_introduction.ipynb",
   "provenance": [],
   "collapsed_sections": [],
   "authorship_tag": "ABX9TyMWSpSdU1Yst9sOS3SDqbZg",
   "include_colab_link": true
  },
  "kernelspec": {
   "name": "python3",
   "display_name": "Python 3"
  },
  "language_info": {
   "name": "python"
  }
 },
 "cells": [
  {
   "cell_type": "markdown",
   "metadata": {
    "id": "view-in-github",
    "colab_type": "text",
    "pycharm": {
     "name": "#%% md\n"
    }
   },
   "source": [
    "<a href=\"https://colab.research.google.com/github/tmabgdata/data_analysis/blob/master/pandas_introduction.ipynb\" target=\"_parent\"><img src=\"https://colab.research.google.com/assets/colab-badge.svg\" alt=\"Open In Colab\"/></a>"
   ]
  },
  {
   "cell_type": "markdown",
   "source": [
    "# Pandas\n",
    "\n",
    "Pandas is a Python library used for working with data sets.\n",
    "\n",
    "It has functions for analyzing, cleaning, exploring, and manipulating data.\n",
    "\n",
    "The name \"Pandas\" has a reference to both \"Panel Data\", and \"Python Data Analysis\" and was created by Wes McKinney in 2008. \n",
    "\n",
    "By [W3Schools](https://www.w3schools.com/python/pandas/pandas_intro.asp#:~:text=Pandas%20is%20a%20Python%20library,by%20Wes%20McKinney%20in%202008.).\n"
   ],
   "metadata": {
    "id": "3GcWIL4bjq7W",
    "pycharm": {
     "name": "#%% md\n"
    }
   }
  },
  {
   "cell_type": "markdown",
   "source": [
    "# Pokémon Dataset Analysis"
   ],
   "metadata": {
    "id": "PpydVaxrsVqe",
    "pycharm": {
     "name": "#%% md\n"
    }
   }
  },
  {
   "cell_type": "markdown",
   "source": [
    "## Access Data"
   ],
   "metadata": {
    "id": "qPQgtgYItWC0",
    "pycharm": {
     "name": "#%% md\n"
    }
   }
  },
  {
   "cell_type": "code",
   "execution_count": 1,
   "metadata": {
    "id": "JBPP0fb_UV3G",
    "pycharm": {
     "name": "#%%\n"
    }
   },
   "outputs": [],
   "source": [
    "import pandas as pd"
   ]
  },
  {
   "cell_type": "code",
   "source": [
    "# Using csv file translated by the professor of the Uninter University, Leony Gomes\n",
    "df = pd.read_csv('https://raw.githubusercontent.com/leonhgomes/Pandas/main/pokemon_data.csv')"
   ],
   "metadata": {
    "id": "4JVWIpkbsl-P",
    "pycharm": {
     "name": "#%%\n"
    }
   },
   "execution_count": 2,
   "outputs": []
  },
  {
   "cell_type": "code",
   "source": [
    "# checking column name\n",
    "df.columns.values.tolist()"
   ],
   "metadata": {
    "colab": {
     "base_uri": "https://localhost:8080/"
    },
    "id": "s09ZwOYIt_6b",
    "outputId": "a6ce624c-e09a-44ca-dca1-da50d6626459",
    "pycharm": {
     "name": "#%%\n"
    }
   },
   "execution_count": 3,
   "outputs": [
    {
     "data": {
      "text/plain": "['#',\n 'Nome',\n 'Tipo 1',\n 'Tipo 2',\n 'Vida',\n 'Ataque',\n 'Defensa',\n 'Atq Esp',\n 'Def Esp',\n 'Velocidade',\n 'Geracao',\n 'Lendario']"
     },
     "execution_count": 3,
     "metadata": {},
     "output_type": "execute_result"
    }
   ]
  },
  {
   "cell_type": "code",
   "source": [
    "# checking data types\n",
    "df.dtypes"
   ],
   "metadata": {
    "colab": {
     "base_uri": "https://localhost:8080/"
    },
    "id": "zyCzvfVTuL3Z",
    "outputId": "8c9fd024-1b25-47a1-cac1-c8046c2f68e8",
    "pycharm": {
     "name": "#%%\n"
    }
   },
   "execution_count": 4,
   "outputs": [
    {
     "data": {
      "text/plain": "#              int64\nNome          object\nTipo 1        object\nTipo 2        object\nVida           int64\nAtaque         int64\nDefensa        int64\nAtq Esp        int64\nDef Esp        int64\nVelocidade     int64\nGeracao        int64\nLendario        bool\ndtype: object"
     },
     "execution_count": 4,
     "metadata": {},
     "output_type": "execute_result"
    }
   ]
  },
  {
   "cell_type": "code",
   "source": [
    "# replace column names\n",
    "df.rename(columns={'#':'id_pokédex', 'Nome':'Name', 'Tipo 1':'Type 1', 'Tipo 2':'Type 2',\n",
    "                   'Vida':'Life', 'Ataque':'Attack', 'Defesa':'Defense', 'Atq Esp':'Spec Att',\n",
    "                   'Def Esp':'Spec Def', 'Velocidade':'Speed', 'Geracao':'Generation', 'Lendario':'Legend'}, inplace=True)\n",
    "df.columns.values.tolist()"
   ],
   "metadata": {
    "colab": {
     "base_uri": "https://localhost:8080/"
    },
    "id": "302Et3nyuvZ2",
    "outputId": "105bc54c-0263-4aba-aff4-3a10f036b9b6",
    "pycharm": {
     "name": "#%%\n"
    }
   },
   "execution_count": 5,
   "outputs": [
    {
     "data": {
      "text/plain": "['id_pokédex',\n 'Name',\n 'Type 1',\n 'Type 2',\n 'Life',\n 'Attack',\n 'Defensa',\n 'Spec Att',\n 'Spec Def',\n 'Speed',\n 'Generation',\n 'Legend']"
     },
     "execution_count": 5,
     "metadata": {},
     "output_type": "execute_result"
    }
   ]
  },
  {
   "cell_type": "code",
   "source": [
    "# showing the top 3\n",
    "df.head(3)"
   ],
   "metadata": {
    "colab": {
     "base_uri": "https://localhost:8080/",
     "height": 143
    },
    "id": "t-ScUo4N1d-M",
    "outputId": "c7abf05e-64b7-458e-cb99-7adfad8968cc",
    "pycharm": {
     "name": "#%%\n"
    }
   },
   "execution_count": 6,
   "outputs": [
    {
     "data": {
      "text/plain": "   id_pokédex       Name  Type 1    Type 2  Life  Attack  Defensa  Spec Att  \\\n0           1  Bulbasaur  Planta  Venenoso    45      49       49        65   \n1           2    Ivysaur  Planta  Venenoso    60      62       63        80   \n2           3   Venusaur  Planta  Venenoso    80      82       83       100   \n\n   Spec Def  Speed  Generation  Legend  \n0        65     45           1   False  \n1        80     60           1   False  \n2       100     80           1   False  ",
      "text/html": "<div>\n<style scoped>\n    .dataframe tbody tr th:only-of-type {\n        vertical-align: middle;\n    }\n\n    .dataframe tbody tr th {\n        vertical-align: top;\n    }\n\n    .dataframe thead th {\n        text-align: right;\n    }\n</style>\n<table border=\"1\" class=\"dataframe\">\n  <thead>\n    <tr style=\"text-align: right;\">\n      <th></th>\n      <th>id_pokédex</th>\n      <th>Name</th>\n      <th>Type 1</th>\n      <th>Type 2</th>\n      <th>Life</th>\n      <th>Attack</th>\n      <th>Defensa</th>\n      <th>Spec Att</th>\n      <th>Spec Def</th>\n      <th>Speed</th>\n      <th>Generation</th>\n      <th>Legend</th>\n    </tr>\n  </thead>\n  <tbody>\n    <tr>\n      <th>0</th>\n      <td>1</td>\n      <td>Bulbasaur</td>\n      <td>Planta</td>\n      <td>Venenoso</td>\n      <td>45</td>\n      <td>49</td>\n      <td>49</td>\n      <td>65</td>\n      <td>65</td>\n      <td>45</td>\n      <td>1</td>\n      <td>False</td>\n    </tr>\n    <tr>\n      <th>1</th>\n      <td>2</td>\n      <td>Ivysaur</td>\n      <td>Planta</td>\n      <td>Venenoso</td>\n      <td>60</td>\n      <td>62</td>\n      <td>63</td>\n      <td>80</td>\n      <td>80</td>\n      <td>60</td>\n      <td>1</td>\n      <td>False</td>\n    </tr>\n    <tr>\n      <th>2</th>\n      <td>3</td>\n      <td>Venusaur</td>\n      <td>Planta</td>\n      <td>Venenoso</td>\n      <td>80</td>\n      <td>82</td>\n      <td>83</td>\n      <td>100</td>\n      <td>100</td>\n      <td>80</td>\n      <td>1</td>\n      <td>False</td>\n    </tr>\n  </tbody>\n</table>\n</div>"
     },
     "execution_count": 6,
     "metadata": {},
     "output_type": "execute_result"
    }
   ]
  },
  {
   "cell_type": "code",
   "source": [
    "# showing the last 3\n",
    "df.tail(3)"
   ],
   "metadata": {
    "colab": {
     "base_uri": "https://localhost:8080/",
     "height": 143
    },
    "id": "deaLhWmG1fYN",
    "outputId": "d6814006-79d8-4ec5-c402-a6e26ed3452f",
    "pycharm": {
     "name": "#%%\n"
    }
   },
   "execution_count": 7,
   "outputs": [
    {
     "data": {
      "text/plain": "     id_pokédex                 Name    Type 1    Type 2  Life  Attack  \\\n797         720  HoopaHoopa Confined  Psiquico  Fantasma    80     110   \n798         720   HoopaHoopa Unbound  Psiquico   Noturno    80     160   \n799         721            Volcanion      Fogo      Agua    80     110   \n\n     Defensa  Spec Att  Spec Def  Speed  Generation  Legend  \n797       60       150       130     70           6    True  \n798       60       170       130     80           6    True  \n799      120       130        90     70           6    True  ",
      "text/html": "<div>\n<style scoped>\n    .dataframe tbody tr th:only-of-type {\n        vertical-align: middle;\n    }\n\n    .dataframe tbody tr th {\n        vertical-align: top;\n    }\n\n    .dataframe thead th {\n        text-align: right;\n    }\n</style>\n<table border=\"1\" class=\"dataframe\">\n  <thead>\n    <tr style=\"text-align: right;\">\n      <th></th>\n      <th>id_pokédex</th>\n      <th>Name</th>\n      <th>Type 1</th>\n      <th>Type 2</th>\n      <th>Life</th>\n      <th>Attack</th>\n      <th>Defensa</th>\n      <th>Spec Att</th>\n      <th>Spec Def</th>\n      <th>Speed</th>\n      <th>Generation</th>\n      <th>Legend</th>\n    </tr>\n  </thead>\n  <tbody>\n    <tr>\n      <th>797</th>\n      <td>720</td>\n      <td>HoopaHoopa Confined</td>\n      <td>Psiquico</td>\n      <td>Fantasma</td>\n      <td>80</td>\n      <td>110</td>\n      <td>60</td>\n      <td>150</td>\n      <td>130</td>\n      <td>70</td>\n      <td>6</td>\n      <td>True</td>\n    </tr>\n    <tr>\n      <th>798</th>\n      <td>720</td>\n      <td>HoopaHoopa Unbound</td>\n      <td>Psiquico</td>\n      <td>Noturno</td>\n      <td>80</td>\n      <td>160</td>\n      <td>60</td>\n      <td>170</td>\n      <td>130</td>\n      <td>80</td>\n      <td>6</td>\n      <td>True</td>\n    </tr>\n    <tr>\n      <th>799</th>\n      <td>721</td>\n      <td>Volcanion</td>\n      <td>Fogo</td>\n      <td>Agua</td>\n      <td>80</td>\n      <td>110</td>\n      <td>120</td>\n      <td>130</td>\n      <td>90</td>\n      <td>70</td>\n      <td>6</td>\n      <td>True</td>\n    </tr>\n  </tbody>\n</table>\n</div>"
     },
     "execution_count": 7,
     "metadata": {},
     "output_type": "execute_result"
    }
   ]
  },
  {
   "cell_type": "code",
   "source": [
    "# checking data\n",
    "df['Type 1'].unique()"
   ],
   "metadata": {
    "colab": {
     "base_uri": "https://localhost:8080/"
    },
    "id": "B02emwKj-GbS",
    "outputId": "347dab5c-92f6-46c3-fb35-fb0c9e35b788",
    "pycharm": {
     "name": "#%%\n"
    }
   },
   "execution_count": 8,
   "outputs": [
    {
     "data": {
      "text/plain": "array(['Planta', 'Fogo', 'Agua', 'Inseto', 'Normal', 'Venenoso',\n       'Electric', 'Terra', 'Fada', 'Lutador', 'Psiquico', 'Pedra',\n       'Fantasma', 'Gelo', 'Dragao', 'Noturno', 'Metalico', 'Voador'],\n      dtype=object)"
     },
     "execution_count": 8,
     "metadata": {},
     "output_type": "execute_result"
    }
   ]
  },
  {
   "cell_type": "code",
   "source": [
    "# translating to english\n",
    "df['Type 1'] = df['Type 1'].replace(['Planta','Fogo','Agua','Inseto','Normal','Venenoso',\n",
    "                      'Eletric','Terra','Fada','Lutador','Psiquico','Pedra',\n",
    "                      'Fantasma','Gelo','Dragao','Noturno','Metalico','Voador'],\n",
    "                     ['Grass','Fire','Water','Bug','Normal','Poison',\n",
    "                      'Eletric','Ground','Fairy','Fighting','Psychic','Rock',\n",
    "                      'Ghost','Ice','Dragon','Dark','Steel','Flying'])"
   ],
   "metadata": {
    "id": "Fe9N3aQKTuM6",
    "pycharm": {
     "name": "#%%\n"
    }
   },
   "execution_count": 9,
   "outputs": []
  },
  {
   "cell_type": "code",
   "source": [
    "# checking\n",
    "df['Type 1'].unique()"
   ],
   "metadata": {
    "colab": {
     "base_uri": "https://localhost:8080/"
    },
    "id": "tOfQsd-pWG-z",
    "outputId": "84ca8d17-467e-48fe-e41e-ed39fe0ff777",
    "pycharm": {
     "name": "#%%\n"
    }
   },
   "execution_count": 10,
   "outputs": [
    {
     "data": {
      "text/plain": "array(['Grass', 'Fire', 'Water', 'Bug', 'Normal', 'Poison', 'Electric',\n       'Ground', 'Fairy', 'Fighting', 'Psychic', 'Rock', 'Ghost', 'Ice',\n       'Dragon', 'Dark', 'Steel', 'Flying'], dtype=object)"
     },
     "execution_count": 10,
     "metadata": {},
     "output_type": "execute_result"
    }
   ]
  },
  {
   "cell_type": "code",
   "source": [
    "# translating to english\n",
    "df['Type 2'] = df['Type 2'].replace(['Planta','Fogo','Agua','Inseto','Normal','Venenoso',\n",
    "                      'Eletric','Terra','Fada','Lutador','Psiquico','Pedra',\n",
    "                      'Fantasma','Gelo','Dragao','Noturno','Metalico','Voador'],\n",
    "                     ['Grass','Fire','Water','Bug','Normal','Poison',\n",
    "                      'Eletric','Ground','Fairy','Fighting','Psychic','Rock',\n",
    "                      'Ghost','Ice','Dragon','Dark','Steel','Flying'])"
   ],
   "metadata": {
    "id": "w9PwHl3sAJnV",
    "pycharm": {
     "name": "#%%\n"
    }
   },
   "execution_count": 11,
   "outputs": []
  },
  {
   "cell_type": "code",
   "source": [
    "# checking\n",
    "df['Type 2'].unique()"
   ],
   "metadata": {
    "colab": {
     "base_uri": "https://localhost:8080/"
    },
    "id": "F-Ti4_LfWkqi",
    "outputId": "6f48657c-15f7-4838-9dab-946bda6ae306",
    "pycharm": {
     "name": "#%%\n"
    }
   },
   "execution_count": 12,
   "outputs": [
    {
     "data": {
      "text/plain": "array(['Poison', nan, 'Flying', 'Dragon', 'Ground', 'Fairy', 'Grass',\n       'Fighting', 'Psychic', 'Steel', 'Ice', 'Rock', 'Dark', 'Water',\n       'Electric', 'Fire', 'Ghost', 'Bug', 'Normal'], dtype=object)"
     },
     "execution_count": 12,
     "metadata": {},
     "output_type": "execute_result"
    }
   ]
  },
  {
   "cell_type": "code",
   "source": [
    "# replacing null values to 'Normal' value\n",
    "df['Type 2'].fillna('Normal', inplace = True)"
   ],
   "metadata": {
    "id": "OOQIrrcuaK4U",
    "pycharm": {
     "name": "#%%\n"
    }
   },
   "execution_count": 13,
   "outputs": []
  },
  {
   "cell_type": "code",
   "source": [
    "# Select by attribute \n",
    "df.loc[df['Type 1'] == 'Psychic']"
   ],
   "metadata": {
    "colab": {
     "base_uri": "https://localhost:8080/",
     "height": 1000
    },
    "id": "B3PUldMjFark",
    "outputId": "9e0de477-22f8-4185-e05f-02d612652faa",
    "pycharm": {
     "name": "#%%\n"
    }
   },
   "execution_count": 14,
   "outputs": [
    {
     "data": {
      "text/plain": "     id_pokédex                     Name   Type 1    Type 2  Life  Attack  \\\n68           63                     Abra  Psychic    Normal    25      20   \n69           64                  Kadabra  Psychic    Normal    40      35   \n70           65                 Alakazam  Psychic    Normal    55      50   \n71           65    AlakazamMega Alakazam  Psychic    Normal    55      50   \n104          96                  Drowzee  Psychic    Normal    60      48   \n105          97                    Hypno  Psychic    Normal    85      73   \n131         122                 Mr. Mime  Psychic     Fairy    40      45   \n162         150                   Mewtwo  Psychic    Normal   106     110   \n163         150      MewtwoMega Mewtwo X  Psychic  Fighting   106     190   \n164         150      MewtwoMega Mewtwo Y  Psychic    Normal   106     150   \n165         151                      Mew  Psychic    Normal   100     100   \n191         177                     Natu  Psychic    Flying    40      50   \n192         178                     Xatu  Psychic    Flying    65      75   \n211         196                   Espeon  Psychic    Normal    65      65   \n216         201                    Unown  Psychic    Normal    48      72   \n217         202                Wobbuffet  Psychic    Normal   190      33   \n269         249                    Lugia  Psychic    Flying   106      90   \n271         251                   Celebi  Psychic     Grass   100     100   \n303         280                    Ralts  Psychic     Fairy    28      25   \n304         281                   Kirlia  Psychic     Fairy    38      35   \n305         282                Gardevoir  Psychic     Fairy    68      65   \n306         282  GardevoirMega Gardevoir  Psychic     Fairy    68      85   \n356         325                   Spoink  Psychic    Normal    60      25   \n357         326                  Grumpig  Psychic    Normal    80      45   \n391         358                 Chimecho  Psychic    Normal    65      50   \n394         360                   Wynaut  Psychic    Normal    95      23   \n428         386       DeoxysNormal Forme  Psychic    Normal    50     150   \n429         386       DeoxysAttack Forme  Psychic    Normal    50     180   \n430         386      DeoxysDefense Forme  Psychic    Normal    50      70   \n431         386        DeoxysSpeed Forme  Psychic    Normal    50      95   \n481         433                Chingling  Psychic    Normal    45      30   \n487         439                 Mime Jr.  Psychic     Fairy    20      25   \n526         475                  Gallade  Psychic  Fighting    68     125   \n527         475      GalladeMega Gallade  Psychic  Fighting    68     165   \n537         480                     Uxie  Psychic    Normal    75      75   \n538         481                  Mesprit  Psychic    Normal    80     105   \n539         482                    Azelf  Psychic    Normal    75     125   \n546         488                Cresselia  Psychic    Normal   120      70   \n553         494                  Victini  Psychic      Fire   100     100   \n576         517                    Munna  Psychic    Normal    76      25   \n577         518                 Musharna  Psychic    Normal   116      55   \n586         527                   Woobat  Psychic    Flying    55      45   \n587         528                  Swoobat  Psychic    Flying    67      57   \n622         561                 Sigilyph  Psychic    Flying    72      58   \n635         574                  Gothita  Psychic    Normal    45      30   \n636         575                Gothorita  Psychic    Normal    60      45   \n637         576               Gothitelle  Psychic    Normal    70      55   \n638         577                  Solosis  Psychic    Normal    45      30   \n639         578                  Duosion  Psychic    Normal    65      40   \n640         579                Reuniclus  Psychic    Normal   110      65   \n666         605                   Elgyem  Psychic    Normal    55      55   \n667         606                 Beheeyem  Psychic    Normal    75      75   \n745         677                   Espurr  Psychic    Normal    62      48   \n746         678             MeowsticMale  Psychic    Normal    74      48   \n747         678           MeowsticFemale  Psychic    Normal    74      48   \n797         720      HoopaHoopa Confined  Psychic     Ghost    80     110   \n798         720       HoopaHoopa Unbound  Psychic      Dark    80     160   \n\n     Defensa  Spec Att  Spec Def  Speed  Generation  Legend  \n68        15       105        55     90           1   False  \n69        30       120        70    105           1   False  \n70        45       135        95    120           1   False  \n71        65       175        95    150           1   False  \n104       45        43        90     42           1   False  \n105       70        73       115     67           1   False  \n131       65       100       120     90           1   False  \n162       90       154        90    130           1    True  \n163      100       154       100    130           1    True  \n164       70       194       120    140           1    True  \n165      100       100       100    100           1   False  \n191       45        70        45     70           2   False  \n192       70        95        70     95           2   False  \n211       60       130        95    110           2   False  \n216       48        72        48     48           2   False  \n217       58        33        58     33           2   False  \n269      130        90       154    110           2    True  \n271      100       100       100    100           2   False  \n303       25        45        35     40           3   False  \n304       35        65        55     50           3   False  \n305       65       125       115     80           3   False  \n306       65       165       135    100           3   False  \n356       35        70        80     60           3   False  \n357       65        90       110     80           3   False  \n391       70        95        80     65           3   False  \n394       48        23        48     23           3   False  \n428       50       150        50    150           3    True  \n429       20       180        20    150           3    True  \n430      160        70       160     90           3    True  \n431       90        95        90    180           3    True  \n481       50        65        50     45           4   False  \n487       45        70        90     60           4   False  \n526       65        65       115     80           4   False  \n527       95        65       115    110           4   False  \n537      130        75       130     95           4    True  \n538      105       105       105     80           4    True  \n539       70       125        70    115           4    True  \n546      120        75       130     85           4   False  \n553      100       100       100    100           5    True  \n576       45        67        55     24           5   False  \n577       85       107        95     29           5   False  \n586       43        55        43     72           5   False  \n587       55        77        55    114           5   False  \n622       80       103        80     97           5   False  \n635       50        55        65     45           5   False  \n636       70        75        85     55           5   False  \n637       95        95       110     65           5   False  \n638       40       105        50     20           5   False  \n639       50       125        60     30           5   False  \n640       75       125        85     30           5   False  \n666       55        85        55     30           5   False  \n667       75       125        95     40           5   False  \n745       54        63        60     68           6   False  \n746       76        83        81    104           6   False  \n747       76        83        81    104           6   False  \n797       60       150       130     70           6    True  \n798       60       170       130     80           6    True  ",
      "text/html": "<div>\n<style scoped>\n    .dataframe tbody tr th:only-of-type {\n        vertical-align: middle;\n    }\n\n    .dataframe tbody tr th {\n        vertical-align: top;\n    }\n\n    .dataframe thead th {\n        text-align: right;\n    }\n</style>\n<table border=\"1\" class=\"dataframe\">\n  <thead>\n    <tr style=\"text-align: right;\">\n      <th></th>\n      <th>id_pokédex</th>\n      <th>Name</th>\n      <th>Type 1</th>\n      <th>Type 2</th>\n      <th>Life</th>\n      <th>Attack</th>\n      <th>Defensa</th>\n      <th>Spec Att</th>\n      <th>Spec Def</th>\n      <th>Speed</th>\n      <th>Generation</th>\n      <th>Legend</th>\n    </tr>\n  </thead>\n  <tbody>\n    <tr>\n      <th>68</th>\n      <td>63</td>\n      <td>Abra</td>\n      <td>Psychic</td>\n      <td>Normal</td>\n      <td>25</td>\n      <td>20</td>\n      <td>15</td>\n      <td>105</td>\n      <td>55</td>\n      <td>90</td>\n      <td>1</td>\n      <td>False</td>\n    </tr>\n    <tr>\n      <th>69</th>\n      <td>64</td>\n      <td>Kadabra</td>\n      <td>Psychic</td>\n      <td>Normal</td>\n      <td>40</td>\n      <td>35</td>\n      <td>30</td>\n      <td>120</td>\n      <td>70</td>\n      <td>105</td>\n      <td>1</td>\n      <td>False</td>\n    </tr>\n    <tr>\n      <th>70</th>\n      <td>65</td>\n      <td>Alakazam</td>\n      <td>Psychic</td>\n      <td>Normal</td>\n      <td>55</td>\n      <td>50</td>\n      <td>45</td>\n      <td>135</td>\n      <td>95</td>\n      <td>120</td>\n      <td>1</td>\n      <td>False</td>\n    </tr>\n    <tr>\n      <th>71</th>\n      <td>65</td>\n      <td>AlakazamMega Alakazam</td>\n      <td>Psychic</td>\n      <td>Normal</td>\n      <td>55</td>\n      <td>50</td>\n      <td>65</td>\n      <td>175</td>\n      <td>95</td>\n      <td>150</td>\n      <td>1</td>\n      <td>False</td>\n    </tr>\n    <tr>\n      <th>104</th>\n      <td>96</td>\n      <td>Drowzee</td>\n      <td>Psychic</td>\n      <td>Normal</td>\n      <td>60</td>\n      <td>48</td>\n      <td>45</td>\n      <td>43</td>\n      <td>90</td>\n      <td>42</td>\n      <td>1</td>\n      <td>False</td>\n    </tr>\n    <tr>\n      <th>105</th>\n      <td>97</td>\n      <td>Hypno</td>\n      <td>Psychic</td>\n      <td>Normal</td>\n      <td>85</td>\n      <td>73</td>\n      <td>70</td>\n      <td>73</td>\n      <td>115</td>\n      <td>67</td>\n      <td>1</td>\n      <td>False</td>\n    </tr>\n    <tr>\n      <th>131</th>\n      <td>122</td>\n      <td>Mr. Mime</td>\n      <td>Psychic</td>\n      <td>Fairy</td>\n      <td>40</td>\n      <td>45</td>\n      <td>65</td>\n      <td>100</td>\n      <td>120</td>\n      <td>90</td>\n      <td>1</td>\n      <td>False</td>\n    </tr>\n    <tr>\n      <th>162</th>\n      <td>150</td>\n      <td>Mewtwo</td>\n      <td>Psychic</td>\n      <td>Normal</td>\n      <td>106</td>\n      <td>110</td>\n      <td>90</td>\n      <td>154</td>\n      <td>90</td>\n      <td>130</td>\n      <td>1</td>\n      <td>True</td>\n    </tr>\n    <tr>\n      <th>163</th>\n      <td>150</td>\n      <td>MewtwoMega Mewtwo X</td>\n      <td>Psychic</td>\n      <td>Fighting</td>\n      <td>106</td>\n      <td>190</td>\n      <td>100</td>\n      <td>154</td>\n      <td>100</td>\n      <td>130</td>\n      <td>1</td>\n      <td>True</td>\n    </tr>\n    <tr>\n      <th>164</th>\n      <td>150</td>\n      <td>MewtwoMega Mewtwo Y</td>\n      <td>Psychic</td>\n      <td>Normal</td>\n      <td>106</td>\n      <td>150</td>\n      <td>70</td>\n      <td>194</td>\n      <td>120</td>\n      <td>140</td>\n      <td>1</td>\n      <td>True</td>\n    </tr>\n    <tr>\n      <th>165</th>\n      <td>151</td>\n      <td>Mew</td>\n      <td>Psychic</td>\n      <td>Normal</td>\n      <td>100</td>\n      <td>100</td>\n      <td>100</td>\n      <td>100</td>\n      <td>100</td>\n      <td>100</td>\n      <td>1</td>\n      <td>False</td>\n    </tr>\n    <tr>\n      <th>191</th>\n      <td>177</td>\n      <td>Natu</td>\n      <td>Psychic</td>\n      <td>Flying</td>\n      <td>40</td>\n      <td>50</td>\n      <td>45</td>\n      <td>70</td>\n      <td>45</td>\n      <td>70</td>\n      <td>2</td>\n      <td>False</td>\n    </tr>\n    <tr>\n      <th>192</th>\n      <td>178</td>\n      <td>Xatu</td>\n      <td>Psychic</td>\n      <td>Flying</td>\n      <td>65</td>\n      <td>75</td>\n      <td>70</td>\n      <td>95</td>\n      <td>70</td>\n      <td>95</td>\n      <td>2</td>\n      <td>False</td>\n    </tr>\n    <tr>\n      <th>211</th>\n      <td>196</td>\n      <td>Espeon</td>\n      <td>Psychic</td>\n      <td>Normal</td>\n      <td>65</td>\n      <td>65</td>\n      <td>60</td>\n      <td>130</td>\n      <td>95</td>\n      <td>110</td>\n      <td>2</td>\n      <td>False</td>\n    </tr>\n    <tr>\n      <th>216</th>\n      <td>201</td>\n      <td>Unown</td>\n      <td>Psychic</td>\n      <td>Normal</td>\n      <td>48</td>\n      <td>72</td>\n      <td>48</td>\n      <td>72</td>\n      <td>48</td>\n      <td>48</td>\n      <td>2</td>\n      <td>False</td>\n    </tr>\n    <tr>\n      <th>217</th>\n      <td>202</td>\n      <td>Wobbuffet</td>\n      <td>Psychic</td>\n      <td>Normal</td>\n      <td>190</td>\n      <td>33</td>\n      <td>58</td>\n      <td>33</td>\n      <td>58</td>\n      <td>33</td>\n      <td>2</td>\n      <td>False</td>\n    </tr>\n    <tr>\n      <th>269</th>\n      <td>249</td>\n      <td>Lugia</td>\n      <td>Psychic</td>\n      <td>Flying</td>\n      <td>106</td>\n      <td>90</td>\n      <td>130</td>\n      <td>90</td>\n      <td>154</td>\n      <td>110</td>\n      <td>2</td>\n      <td>True</td>\n    </tr>\n    <tr>\n      <th>271</th>\n      <td>251</td>\n      <td>Celebi</td>\n      <td>Psychic</td>\n      <td>Grass</td>\n      <td>100</td>\n      <td>100</td>\n      <td>100</td>\n      <td>100</td>\n      <td>100</td>\n      <td>100</td>\n      <td>2</td>\n      <td>False</td>\n    </tr>\n    <tr>\n      <th>303</th>\n      <td>280</td>\n      <td>Ralts</td>\n      <td>Psychic</td>\n      <td>Fairy</td>\n      <td>28</td>\n      <td>25</td>\n      <td>25</td>\n      <td>45</td>\n      <td>35</td>\n      <td>40</td>\n      <td>3</td>\n      <td>False</td>\n    </tr>\n    <tr>\n      <th>304</th>\n      <td>281</td>\n      <td>Kirlia</td>\n      <td>Psychic</td>\n      <td>Fairy</td>\n      <td>38</td>\n      <td>35</td>\n      <td>35</td>\n      <td>65</td>\n      <td>55</td>\n      <td>50</td>\n      <td>3</td>\n      <td>False</td>\n    </tr>\n    <tr>\n      <th>305</th>\n      <td>282</td>\n      <td>Gardevoir</td>\n      <td>Psychic</td>\n      <td>Fairy</td>\n      <td>68</td>\n      <td>65</td>\n      <td>65</td>\n      <td>125</td>\n      <td>115</td>\n      <td>80</td>\n      <td>3</td>\n      <td>False</td>\n    </tr>\n    <tr>\n      <th>306</th>\n      <td>282</td>\n      <td>GardevoirMega Gardevoir</td>\n      <td>Psychic</td>\n      <td>Fairy</td>\n      <td>68</td>\n      <td>85</td>\n      <td>65</td>\n      <td>165</td>\n      <td>135</td>\n      <td>100</td>\n      <td>3</td>\n      <td>False</td>\n    </tr>\n    <tr>\n      <th>356</th>\n      <td>325</td>\n      <td>Spoink</td>\n      <td>Psychic</td>\n      <td>Normal</td>\n      <td>60</td>\n      <td>25</td>\n      <td>35</td>\n      <td>70</td>\n      <td>80</td>\n      <td>60</td>\n      <td>3</td>\n      <td>False</td>\n    </tr>\n    <tr>\n      <th>357</th>\n      <td>326</td>\n      <td>Grumpig</td>\n      <td>Psychic</td>\n      <td>Normal</td>\n      <td>80</td>\n      <td>45</td>\n      <td>65</td>\n      <td>90</td>\n      <td>110</td>\n      <td>80</td>\n      <td>3</td>\n      <td>False</td>\n    </tr>\n    <tr>\n      <th>391</th>\n      <td>358</td>\n      <td>Chimecho</td>\n      <td>Psychic</td>\n      <td>Normal</td>\n      <td>65</td>\n      <td>50</td>\n      <td>70</td>\n      <td>95</td>\n      <td>80</td>\n      <td>65</td>\n      <td>3</td>\n      <td>False</td>\n    </tr>\n    <tr>\n      <th>394</th>\n      <td>360</td>\n      <td>Wynaut</td>\n      <td>Psychic</td>\n      <td>Normal</td>\n      <td>95</td>\n      <td>23</td>\n      <td>48</td>\n      <td>23</td>\n      <td>48</td>\n      <td>23</td>\n      <td>3</td>\n      <td>False</td>\n    </tr>\n    <tr>\n      <th>428</th>\n      <td>386</td>\n      <td>DeoxysNormal Forme</td>\n      <td>Psychic</td>\n      <td>Normal</td>\n      <td>50</td>\n      <td>150</td>\n      <td>50</td>\n      <td>150</td>\n      <td>50</td>\n      <td>150</td>\n      <td>3</td>\n      <td>True</td>\n    </tr>\n    <tr>\n      <th>429</th>\n      <td>386</td>\n      <td>DeoxysAttack Forme</td>\n      <td>Psychic</td>\n      <td>Normal</td>\n      <td>50</td>\n      <td>180</td>\n      <td>20</td>\n      <td>180</td>\n      <td>20</td>\n      <td>150</td>\n      <td>3</td>\n      <td>True</td>\n    </tr>\n    <tr>\n      <th>430</th>\n      <td>386</td>\n      <td>DeoxysDefense Forme</td>\n      <td>Psychic</td>\n      <td>Normal</td>\n      <td>50</td>\n      <td>70</td>\n      <td>160</td>\n      <td>70</td>\n      <td>160</td>\n      <td>90</td>\n      <td>3</td>\n      <td>True</td>\n    </tr>\n    <tr>\n      <th>431</th>\n      <td>386</td>\n      <td>DeoxysSpeed Forme</td>\n      <td>Psychic</td>\n      <td>Normal</td>\n      <td>50</td>\n      <td>95</td>\n      <td>90</td>\n      <td>95</td>\n      <td>90</td>\n      <td>180</td>\n      <td>3</td>\n      <td>True</td>\n    </tr>\n    <tr>\n      <th>481</th>\n      <td>433</td>\n      <td>Chingling</td>\n      <td>Psychic</td>\n      <td>Normal</td>\n      <td>45</td>\n      <td>30</td>\n      <td>50</td>\n      <td>65</td>\n      <td>50</td>\n      <td>45</td>\n      <td>4</td>\n      <td>False</td>\n    </tr>\n    <tr>\n      <th>487</th>\n      <td>439</td>\n      <td>Mime Jr.</td>\n      <td>Psychic</td>\n      <td>Fairy</td>\n      <td>20</td>\n      <td>25</td>\n      <td>45</td>\n      <td>70</td>\n      <td>90</td>\n      <td>60</td>\n      <td>4</td>\n      <td>False</td>\n    </tr>\n    <tr>\n      <th>526</th>\n      <td>475</td>\n      <td>Gallade</td>\n      <td>Psychic</td>\n      <td>Fighting</td>\n      <td>68</td>\n      <td>125</td>\n      <td>65</td>\n      <td>65</td>\n      <td>115</td>\n      <td>80</td>\n      <td>4</td>\n      <td>False</td>\n    </tr>\n    <tr>\n      <th>527</th>\n      <td>475</td>\n      <td>GalladeMega Gallade</td>\n      <td>Psychic</td>\n      <td>Fighting</td>\n      <td>68</td>\n      <td>165</td>\n      <td>95</td>\n      <td>65</td>\n      <td>115</td>\n      <td>110</td>\n      <td>4</td>\n      <td>False</td>\n    </tr>\n    <tr>\n      <th>537</th>\n      <td>480</td>\n      <td>Uxie</td>\n      <td>Psychic</td>\n      <td>Normal</td>\n      <td>75</td>\n      <td>75</td>\n      <td>130</td>\n      <td>75</td>\n      <td>130</td>\n      <td>95</td>\n      <td>4</td>\n      <td>True</td>\n    </tr>\n    <tr>\n      <th>538</th>\n      <td>481</td>\n      <td>Mesprit</td>\n      <td>Psychic</td>\n      <td>Normal</td>\n      <td>80</td>\n      <td>105</td>\n      <td>105</td>\n      <td>105</td>\n      <td>105</td>\n      <td>80</td>\n      <td>4</td>\n      <td>True</td>\n    </tr>\n    <tr>\n      <th>539</th>\n      <td>482</td>\n      <td>Azelf</td>\n      <td>Psychic</td>\n      <td>Normal</td>\n      <td>75</td>\n      <td>125</td>\n      <td>70</td>\n      <td>125</td>\n      <td>70</td>\n      <td>115</td>\n      <td>4</td>\n      <td>True</td>\n    </tr>\n    <tr>\n      <th>546</th>\n      <td>488</td>\n      <td>Cresselia</td>\n      <td>Psychic</td>\n      <td>Normal</td>\n      <td>120</td>\n      <td>70</td>\n      <td>120</td>\n      <td>75</td>\n      <td>130</td>\n      <td>85</td>\n      <td>4</td>\n      <td>False</td>\n    </tr>\n    <tr>\n      <th>553</th>\n      <td>494</td>\n      <td>Victini</td>\n      <td>Psychic</td>\n      <td>Fire</td>\n      <td>100</td>\n      <td>100</td>\n      <td>100</td>\n      <td>100</td>\n      <td>100</td>\n      <td>100</td>\n      <td>5</td>\n      <td>True</td>\n    </tr>\n    <tr>\n      <th>576</th>\n      <td>517</td>\n      <td>Munna</td>\n      <td>Psychic</td>\n      <td>Normal</td>\n      <td>76</td>\n      <td>25</td>\n      <td>45</td>\n      <td>67</td>\n      <td>55</td>\n      <td>24</td>\n      <td>5</td>\n      <td>False</td>\n    </tr>\n    <tr>\n      <th>577</th>\n      <td>518</td>\n      <td>Musharna</td>\n      <td>Psychic</td>\n      <td>Normal</td>\n      <td>116</td>\n      <td>55</td>\n      <td>85</td>\n      <td>107</td>\n      <td>95</td>\n      <td>29</td>\n      <td>5</td>\n      <td>False</td>\n    </tr>\n    <tr>\n      <th>586</th>\n      <td>527</td>\n      <td>Woobat</td>\n      <td>Psychic</td>\n      <td>Flying</td>\n      <td>55</td>\n      <td>45</td>\n      <td>43</td>\n      <td>55</td>\n      <td>43</td>\n      <td>72</td>\n      <td>5</td>\n      <td>False</td>\n    </tr>\n    <tr>\n      <th>587</th>\n      <td>528</td>\n      <td>Swoobat</td>\n      <td>Psychic</td>\n      <td>Flying</td>\n      <td>67</td>\n      <td>57</td>\n      <td>55</td>\n      <td>77</td>\n      <td>55</td>\n      <td>114</td>\n      <td>5</td>\n      <td>False</td>\n    </tr>\n    <tr>\n      <th>622</th>\n      <td>561</td>\n      <td>Sigilyph</td>\n      <td>Psychic</td>\n      <td>Flying</td>\n      <td>72</td>\n      <td>58</td>\n      <td>80</td>\n      <td>103</td>\n      <td>80</td>\n      <td>97</td>\n      <td>5</td>\n      <td>False</td>\n    </tr>\n    <tr>\n      <th>635</th>\n      <td>574</td>\n      <td>Gothita</td>\n      <td>Psychic</td>\n      <td>Normal</td>\n      <td>45</td>\n      <td>30</td>\n      <td>50</td>\n      <td>55</td>\n      <td>65</td>\n      <td>45</td>\n      <td>5</td>\n      <td>False</td>\n    </tr>\n    <tr>\n      <th>636</th>\n      <td>575</td>\n      <td>Gothorita</td>\n      <td>Psychic</td>\n      <td>Normal</td>\n      <td>60</td>\n      <td>45</td>\n      <td>70</td>\n      <td>75</td>\n      <td>85</td>\n      <td>55</td>\n      <td>5</td>\n      <td>False</td>\n    </tr>\n    <tr>\n      <th>637</th>\n      <td>576</td>\n      <td>Gothitelle</td>\n      <td>Psychic</td>\n      <td>Normal</td>\n      <td>70</td>\n      <td>55</td>\n      <td>95</td>\n      <td>95</td>\n      <td>110</td>\n      <td>65</td>\n      <td>5</td>\n      <td>False</td>\n    </tr>\n    <tr>\n      <th>638</th>\n      <td>577</td>\n      <td>Solosis</td>\n      <td>Psychic</td>\n      <td>Normal</td>\n      <td>45</td>\n      <td>30</td>\n      <td>40</td>\n      <td>105</td>\n      <td>50</td>\n      <td>20</td>\n      <td>5</td>\n      <td>False</td>\n    </tr>\n    <tr>\n      <th>639</th>\n      <td>578</td>\n      <td>Duosion</td>\n      <td>Psychic</td>\n      <td>Normal</td>\n      <td>65</td>\n      <td>40</td>\n      <td>50</td>\n      <td>125</td>\n      <td>60</td>\n      <td>30</td>\n      <td>5</td>\n      <td>False</td>\n    </tr>\n    <tr>\n      <th>640</th>\n      <td>579</td>\n      <td>Reuniclus</td>\n      <td>Psychic</td>\n      <td>Normal</td>\n      <td>110</td>\n      <td>65</td>\n      <td>75</td>\n      <td>125</td>\n      <td>85</td>\n      <td>30</td>\n      <td>5</td>\n      <td>False</td>\n    </tr>\n    <tr>\n      <th>666</th>\n      <td>605</td>\n      <td>Elgyem</td>\n      <td>Psychic</td>\n      <td>Normal</td>\n      <td>55</td>\n      <td>55</td>\n      <td>55</td>\n      <td>85</td>\n      <td>55</td>\n      <td>30</td>\n      <td>5</td>\n      <td>False</td>\n    </tr>\n    <tr>\n      <th>667</th>\n      <td>606</td>\n      <td>Beheeyem</td>\n      <td>Psychic</td>\n      <td>Normal</td>\n      <td>75</td>\n      <td>75</td>\n      <td>75</td>\n      <td>125</td>\n      <td>95</td>\n      <td>40</td>\n      <td>5</td>\n      <td>False</td>\n    </tr>\n    <tr>\n      <th>745</th>\n      <td>677</td>\n      <td>Espurr</td>\n      <td>Psychic</td>\n      <td>Normal</td>\n      <td>62</td>\n      <td>48</td>\n      <td>54</td>\n      <td>63</td>\n      <td>60</td>\n      <td>68</td>\n      <td>6</td>\n      <td>False</td>\n    </tr>\n    <tr>\n      <th>746</th>\n      <td>678</td>\n      <td>MeowsticMale</td>\n      <td>Psychic</td>\n      <td>Normal</td>\n      <td>74</td>\n      <td>48</td>\n      <td>76</td>\n      <td>83</td>\n      <td>81</td>\n      <td>104</td>\n      <td>6</td>\n      <td>False</td>\n    </tr>\n    <tr>\n      <th>747</th>\n      <td>678</td>\n      <td>MeowsticFemale</td>\n      <td>Psychic</td>\n      <td>Normal</td>\n      <td>74</td>\n      <td>48</td>\n      <td>76</td>\n      <td>83</td>\n      <td>81</td>\n      <td>104</td>\n      <td>6</td>\n      <td>False</td>\n    </tr>\n    <tr>\n      <th>797</th>\n      <td>720</td>\n      <td>HoopaHoopa Confined</td>\n      <td>Psychic</td>\n      <td>Ghost</td>\n      <td>80</td>\n      <td>110</td>\n      <td>60</td>\n      <td>150</td>\n      <td>130</td>\n      <td>70</td>\n      <td>6</td>\n      <td>True</td>\n    </tr>\n    <tr>\n      <th>798</th>\n      <td>720</td>\n      <td>HoopaHoopa Unbound</td>\n      <td>Psychic</td>\n      <td>Dark</td>\n      <td>80</td>\n      <td>160</td>\n      <td>60</td>\n      <td>170</td>\n      <td>130</td>\n      <td>80</td>\n      <td>6</td>\n      <td>True</td>\n    </tr>\n  </tbody>\n</table>\n</div>"
     },
     "execution_count": 14,
     "metadata": {},
     "output_type": "execute_result"
    }
   ]
  },
  {
   "cell_type": "code",
   "source": [
    "# some statistics\n",
    "df.describe()"
   ],
   "metadata": {
    "colab": {
     "base_uri": "https://localhost:8080/",
     "height": 300
    },
    "id": "xqyfGq6AIGFc",
    "outputId": "1355c275-c7eb-46d2-caf1-8e34bb2b80dd",
    "pycharm": {
     "name": "#%%\n"
    }
   },
   "execution_count": 15,
   "outputs": [
    {
     "data": {
      "text/plain": "       id_pokédex        Life      Attack     Defensa    Spec Att    Spec Def  \\\ncount  800.000000  800.000000  800.000000  800.000000  800.000000  800.000000   \nmean   362.813750   69.258750   79.001250   73.842500   72.820000   71.902500   \nstd    208.343798   25.534669   32.457366   31.183501   32.722294   27.828916   \nmin      1.000000    1.000000    5.000000    5.000000   10.000000   20.000000   \n25%    184.750000   50.000000   55.000000   50.000000   49.750000   50.000000   \n50%    364.500000   65.000000   75.000000   70.000000   65.000000   70.000000   \n75%    539.250000   80.000000  100.000000   90.000000   95.000000   90.000000   \nmax    721.000000  255.000000  190.000000  230.000000  194.000000  230.000000   \n\n            Speed  Generation  \ncount  800.000000   800.00000  \nmean    68.277500     3.32375  \nstd     29.060474     1.66129  \nmin      5.000000     1.00000  \n25%     45.000000     2.00000  \n50%     65.000000     3.00000  \n75%     90.000000     5.00000  \nmax    180.000000     6.00000  ",
      "text/html": "<div>\n<style scoped>\n    .dataframe tbody tr th:only-of-type {\n        vertical-align: middle;\n    }\n\n    .dataframe tbody tr th {\n        vertical-align: top;\n    }\n\n    .dataframe thead th {\n        text-align: right;\n    }\n</style>\n<table border=\"1\" class=\"dataframe\">\n  <thead>\n    <tr style=\"text-align: right;\">\n      <th></th>\n      <th>id_pokédex</th>\n      <th>Life</th>\n      <th>Attack</th>\n      <th>Defensa</th>\n      <th>Spec Att</th>\n      <th>Spec Def</th>\n      <th>Speed</th>\n      <th>Generation</th>\n    </tr>\n  </thead>\n  <tbody>\n    <tr>\n      <th>count</th>\n      <td>800.000000</td>\n      <td>800.000000</td>\n      <td>800.000000</td>\n      <td>800.000000</td>\n      <td>800.000000</td>\n      <td>800.000000</td>\n      <td>800.000000</td>\n      <td>800.00000</td>\n    </tr>\n    <tr>\n      <th>mean</th>\n      <td>362.813750</td>\n      <td>69.258750</td>\n      <td>79.001250</td>\n      <td>73.842500</td>\n      <td>72.820000</td>\n      <td>71.902500</td>\n      <td>68.277500</td>\n      <td>3.32375</td>\n    </tr>\n    <tr>\n      <th>std</th>\n      <td>208.343798</td>\n      <td>25.534669</td>\n      <td>32.457366</td>\n      <td>31.183501</td>\n      <td>32.722294</td>\n      <td>27.828916</td>\n      <td>29.060474</td>\n      <td>1.66129</td>\n    </tr>\n    <tr>\n      <th>min</th>\n      <td>1.000000</td>\n      <td>1.000000</td>\n      <td>5.000000</td>\n      <td>5.000000</td>\n      <td>10.000000</td>\n      <td>20.000000</td>\n      <td>5.000000</td>\n      <td>1.00000</td>\n    </tr>\n    <tr>\n      <th>25%</th>\n      <td>184.750000</td>\n      <td>50.000000</td>\n      <td>55.000000</td>\n      <td>50.000000</td>\n      <td>49.750000</td>\n      <td>50.000000</td>\n      <td>45.000000</td>\n      <td>2.00000</td>\n    </tr>\n    <tr>\n      <th>50%</th>\n      <td>364.500000</td>\n      <td>65.000000</td>\n      <td>75.000000</td>\n      <td>70.000000</td>\n      <td>65.000000</td>\n      <td>70.000000</td>\n      <td>65.000000</td>\n      <td>3.00000</td>\n    </tr>\n    <tr>\n      <th>75%</th>\n      <td>539.250000</td>\n      <td>80.000000</td>\n      <td>100.000000</td>\n      <td>90.000000</td>\n      <td>95.000000</td>\n      <td>90.000000</td>\n      <td>90.000000</td>\n      <td>5.00000</td>\n    </tr>\n    <tr>\n      <th>max</th>\n      <td>721.000000</td>\n      <td>255.000000</td>\n      <td>190.000000</td>\n      <td>230.000000</td>\n      <td>194.000000</td>\n      <td>230.000000</td>\n      <td>180.000000</td>\n      <td>6.00000</td>\n    </tr>\n  </tbody>\n</table>\n</div>"
     },
     "execution_count": 15,
     "metadata": {},
     "output_type": "execute_result"
    }
   ]
  },
  {
   "cell_type": "markdown",
   "source": [
    "## Ordination"
   ],
   "metadata": {
    "id": "v1dCvunIKijL",
    "pycharm": {
     "name": "#%% md\n"
    }
   }
  },
  {
   "cell_type": "code",
   "source": [
    "# sort alphabetically | to invert, use the 'ascending' parameter = False\n",
    "df.sort_values(by=['Name'], ascending = True, ignore_index = True)\n",
    "df.head(10)"
   ],
   "metadata": {
    "colab": {
     "base_uri": "https://localhost:8080/",
     "height": 206
    },
    "id": "45avP1R8JrmH",
    "outputId": "b1883786-f730-45f7-91e3-b3f02c56d4ea",
    "pycharm": {
     "name": "#%%\n"
    }
   },
   "execution_count": 16,
   "outputs": [
    {
     "data": {
      "text/plain": "   id_pokédex                       Name Type 1  Type 2  Life  Attack  \\\n0           1                  Bulbasaur  Grass  Poison    45      49   \n1           2                    Ivysaur  Grass  Poison    60      62   \n2           3                   Venusaur  Grass  Poison    80      82   \n3           3      VenusaurMega Venusaur  Grass  Poison    80     100   \n4           4                 Charmander   Fire  Normal    39      52   \n5           5                 Charmeleon   Fire  Normal    58      64   \n6           6                  Charizard   Fire  Flying    78      84   \n7           6  CharizardMega Charizard X   Fire  Dragon    78     130   \n8           6  CharizardMega Charizard Y   Fire  Flying    78     104   \n9           7                   Squirtle  Water  Normal    44      48   \n\n   Defensa  Spec Att  Spec Def  Speed  Generation  Legend  \n0       49        65        65     45           1   False  \n1       63        80        80     60           1   False  \n2       83       100       100     80           1   False  \n3      123       122       120     80           1   False  \n4       43        60        50     65           1   False  \n5       58        80        65     80           1   False  \n6       78       109        85    100           1   False  \n7      111       130        85    100           1   False  \n8       78       159       115    100           1   False  \n9       65        50        64     43           1   False  ",
      "text/html": "<div>\n<style scoped>\n    .dataframe tbody tr th:only-of-type {\n        vertical-align: middle;\n    }\n\n    .dataframe tbody tr th {\n        vertical-align: top;\n    }\n\n    .dataframe thead th {\n        text-align: right;\n    }\n</style>\n<table border=\"1\" class=\"dataframe\">\n  <thead>\n    <tr style=\"text-align: right;\">\n      <th></th>\n      <th>id_pokédex</th>\n      <th>Name</th>\n      <th>Type 1</th>\n      <th>Type 2</th>\n      <th>Life</th>\n      <th>Attack</th>\n      <th>Defensa</th>\n      <th>Spec Att</th>\n      <th>Spec Def</th>\n      <th>Speed</th>\n      <th>Generation</th>\n      <th>Legend</th>\n    </tr>\n  </thead>\n  <tbody>\n    <tr>\n      <th>0</th>\n      <td>1</td>\n      <td>Bulbasaur</td>\n      <td>Grass</td>\n      <td>Poison</td>\n      <td>45</td>\n      <td>49</td>\n      <td>49</td>\n      <td>65</td>\n      <td>65</td>\n      <td>45</td>\n      <td>1</td>\n      <td>False</td>\n    </tr>\n    <tr>\n      <th>1</th>\n      <td>2</td>\n      <td>Ivysaur</td>\n      <td>Grass</td>\n      <td>Poison</td>\n      <td>60</td>\n      <td>62</td>\n      <td>63</td>\n      <td>80</td>\n      <td>80</td>\n      <td>60</td>\n      <td>1</td>\n      <td>False</td>\n    </tr>\n    <tr>\n      <th>2</th>\n      <td>3</td>\n      <td>Venusaur</td>\n      <td>Grass</td>\n      <td>Poison</td>\n      <td>80</td>\n      <td>82</td>\n      <td>83</td>\n      <td>100</td>\n      <td>100</td>\n      <td>80</td>\n      <td>1</td>\n      <td>False</td>\n    </tr>\n    <tr>\n      <th>3</th>\n      <td>3</td>\n      <td>VenusaurMega Venusaur</td>\n      <td>Grass</td>\n      <td>Poison</td>\n      <td>80</td>\n      <td>100</td>\n      <td>123</td>\n      <td>122</td>\n      <td>120</td>\n      <td>80</td>\n      <td>1</td>\n      <td>False</td>\n    </tr>\n    <tr>\n      <th>4</th>\n      <td>4</td>\n      <td>Charmander</td>\n      <td>Fire</td>\n      <td>Normal</td>\n      <td>39</td>\n      <td>52</td>\n      <td>43</td>\n      <td>60</td>\n      <td>50</td>\n      <td>65</td>\n      <td>1</td>\n      <td>False</td>\n    </tr>\n    <tr>\n      <th>5</th>\n      <td>5</td>\n      <td>Charmeleon</td>\n      <td>Fire</td>\n      <td>Normal</td>\n      <td>58</td>\n      <td>64</td>\n      <td>58</td>\n      <td>80</td>\n      <td>65</td>\n      <td>80</td>\n      <td>1</td>\n      <td>False</td>\n    </tr>\n    <tr>\n      <th>6</th>\n      <td>6</td>\n      <td>Charizard</td>\n      <td>Fire</td>\n      <td>Flying</td>\n      <td>78</td>\n      <td>84</td>\n      <td>78</td>\n      <td>109</td>\n      <td>85</td>\n      <td>100</td>\n      <td>1</td>\n      <td>False</td>\n    </tr>\n    <tr>\n      <th>7</th>\n      <td>6</td>\n      <td>CharizardMega Charizard X</td>\n      <td>Fire</td>\n      <td>Dragon</td>\n      <td>78</td>\n      <td>130</td>\n      <td>111</td>\n      <td>130</td>\n      <td>85</td>\n      <td>100</td>\n      <td>1</td>\n      <td>False</td>\n    </tr>\n    <tr>\n      <th>8</th>\n      <td>6</td>\n      <td>CharizardMega Charizard Y</td>\n      <td>Fire</td>\n      <td>Flying</td>\n      <td>78</td>\n      <td>104</td>\n      <td>78</td>\n      <td>159</td>\n      <td>115</td>\n      <td>100</td>\n      <td>1</td>\n      <td>False</td>\n    </tr>\n    <tr>\n      <th>9</th>\n      <td>7</td>\n      <td>Squirtle</td>\n      <td>Water</td>\n      <td>Normal</td>\n      <td>44</td>\n      <td>48</td>\n      <td>65</td>\n      <td>50</td>\n      <td>64</td>\n      <td>43</td>\n      <td>1</td>\n      <td>False</td>\n    </tr>\n  </tbody>\n</table>\n</div>"
     },
     "execution_count": 16,
     "metadata": {},
     "output_type": "execute_result"
    }
   ]
  },
  {
   "cell_type": "code",
   "source": [
    "# creating 'Total Power' column, with the sum of all the data:\n",
    "df['Total Pw'] = df.iloc[:,4:10].sum(axis = 1)\n",
    "df.head(5)"
   ],
   "metadata": {
    "colab": {
     "base_uri": "https://localhost:8080/",
     "height": 206
    },
    "id": "1CQMNCfILWui",
    "outputId": "04cd747e-843d-4a19-a4b0-72e771706d5a",
    "pycharm": {
     "name": "#%%\n"
    }
   },
   "execution_count": 17,
   "outputs": [
    {
     "data": {
      "text/plain": "   id_pokédex                   Name Type 1  Type 2  Life  Attack  Defensa  \\\n0           1              Bulbasaur  Grass  Poison    45      49       49   \n1           2                Ivysaur  Grass  Poison    60      62       63   \n2           3               Venusaur  Grass  Poison    80      82       83   \n3           3  VenusaurMega Venusaur  Grass  Poison    80     100      123   \n4           4             Charmander   Fire  Normal    39      52       43   \n\n   Spec Att  Spec Def  Speed  Generation  Legend  Total Pw  \n0        65        65     45           1   False       318  \n1        80        80     60           1   False       405  \n2       100       100     80           1   False       525  \n3       122       120     80           1   False       625  \n4        60        50     65           1   False       309  ",
      "text/html": "<div>\n<style scoped>\n    .dataframe tbody tr th:only-of-type {\n        vertical-align: middle;\n    }\n\n    .dataframe tbody tr th {\n        vertical-align: top;\n    }\n\n    .dataframe thead th {\n        text-align: right;\n    }\n</style>\n<table border=\"1\" class=\"dataframe\">\n  <thead>\n    <tr style=\"text-align: right;\">\n      <th></th>\n      <th>id_pokédex</th>\n      <th>Name</th>\n      <th>Type 1</th>\n      <th>Type 2</th>\n      <th>Life</th>\n      <th>Attack</th>\n      <th>Defensa</th>\n      <th>Spec Att</th>\n      <th>Spec Def</th>\n      <th>Speed</th>\n      <th>Generation</th>\n      <th>Legend</th>\n      <th>Total Pw</th>\n    </tr>\n  </thead>\n  <tbody>\n    <tr>\n      <th>0</th>\n      <td>1</td>\n      <td>Bulbasaur</td>\n      <td>Grass</td>\n      <td>Poison</td>\n      <td>45</td>\n      <td>49</td>\n      <td>49</td>\n      <td>65</td>\n      <td>65</td>\n      <td>45</td>\n      <td>1</td>\n      <td>False</td>\n      <td>318</td>\n    </tr>\n    <tr>\n      <th>1</th>\n      <td>2</td>\n      <td>Ivysaur</td>\n      <td>Grass</td>\n      <td>Poison</td>\n      <td>60</td>\n      <td>62</td>\n      <td>63</td>\n      <td>80</td>\n      <td>80</td>\n      <td>60</td>\n      <td>1</td>\n      <td>False</td>\n      <td>405</td>\n    </tr>\n    <tr>\n      <th>2</th>\n      <td>3</td>\n      <td>Venusaur</td>\n      <td>Grass</td>\n      <td>Poison</td>\n      <td>80</td>\n      <td>82</td>\n      <td>83</td>\n      <td>100</td>\n      <td>100</td>\n      <td>80</td>\n      <td>1</td>\n      <td>False</td>\n      <td>525</td>\n    </tr>\n    <tr>\n      <th>3</th>\n      <td>3</td>\n      <td>VenusaurMega Venusaur</td>\n      <td>Grass</td>\n      <td>Poison</td>\n      <td>80</td>\n      <td>100</td>\n      <td>123</td>\n      <td>122</td>\n      <td>120</td>\n      <td>80</td>\n      <td>1</td>\n      <td>False</td>\n      <td>625</td>\n    </tr>\n    <tr>\n      <th>4</th>\n      <td>4</td>\n      <td>Charmander</td>\n      <td>Fire</td>\n      <td>Normal</td>\n      <td>39</td>\n      <td>52</td>\n      <td>43</td>\n      <td>60</td>\n      <td>50</td>\n      <td>65</td>\n      <td>1</td>\n      <td>False</td>\n      <td>309</td>\n    </tr>\n  </tbody>\n</table>\n</div>"
     },
     "execution_count": 17,
     "metadata": {},
     "output_type": "execute_result"
    }
   ]
  },
  {
   "cell_type": "code",
   "source": [
    "# reorder columns\n",
    "cols = list(df.columns.values)\n",
    "df = df [cols[0:4] + [cols[-1]] + cols[4:12]]\n",
    "df.head(5)"
   ],
   "metadata": {
    "colab": {
     "base_uri": "https://localhost:8080/",
     "height": 206
    },
    "id": "OaLkRJschNQo",
    "outputId": "2e7be395-2f1b-401f-8f15-0cda4f6f7265",
    "pycharm": {
     "name": "#%%\n"
    }
   },
   "execution_count": 18,
   "outputs": [
    {
     "data": {
      "text/plain": "   id_pokédex                   Name Type 1  Type 2  Total Pw  Life  Attack  \\\n0           1              Bulbasaur  Grass  Poison       318    45      49   \n1           2                Ivysaur  Grass  Poison       405    60      62   \n2           3               Venusaur  Grass  Poison       525    80      82   \n3           3  VenusaurMega Venusaur  Grass  Poison       625    80     100   \n4           4             Charmander   Fire  Normal       309    39      52   \n\n   Defensa  Spec Att  Spec Def  Speed  Generation  Legend  \n0       49        65        65     45           1   False  \n1       63        80        80     60           1   False  \n2       83       100       100     80           1   False  \n3      123       122       120     80           1   False  \n4       43        60        50     65           1   False  ",
      "text/html": "<div>\n<style scoped>\n    .dataframe tbody tr th:only-of-type {\n        vertical-align: middle;\n    }\n\n    .dataframe tbody tr th {\n        vertical-align: top;\n    }\n\n    .dataframe thead th {\n        text-align: right;\n    }\n</style>\n<table border=\"1\" class=\"dataframe\">\n  <thead>\n    <tr style=\"text-align: right;\">\n      <th></th>\n      <th>id_pokédex</th>\n      <th>Name</th>\n      <th>Type 1</th>\n      <th>Type 2</th>\n      <th>Total Pw</th>\n      <th>Life</th>\n      <th>Attack</th>\n      <th>Defensa</th>\n      <th>Spec Att</th>\n      <th>Spec Def</th>\n      <th>Speed</th>\n      <th>Generation</th>\n      <th>Legend</th>\n    </tr>\n  </thead>\n  <tbody>\n    <tr>\n      <th>0</th>\n      <td>1</td>\n      <td>Bulbasaur</td>\n      <td>Grass</td>\n      <td>Poison</td>\n      <td>318</td>\n      <td>45</td>\n      <td>49</td>\n      <td>49</td>\n      <td>65</td>\n      <td>65</td>\n      <td>45</td>\n      <td>1</td>\n      <td>False</td>\n    </tr>\n    <tr>\n      <th>1</th>\n      <td>2</td>\n      <td>Ivysaur</td>\n      <td>Grass</td>\n      <td>Poison</td>\n      <td>405</td>\n      <td>60</td>\n      <td>62</td>\n      <td>63</td>\n      <td>80</td>\n      <td>80</td>\n      <td>60</td>\n      <td>1</td>\n      <td>False</td>\n    </tr>\n    <tr>\n      <th>2</th>\n      <td>3</td>\n      <td>Venusaur</td>\n      <td>Grass</td>\n      <td>Poison</td>\n      <td>525</td>\n      <td>80</td>\n      <td>82</td>\n      <td>83</td>\n      <td>100</td>\n      <td>100</td>\n      <td>80</td>\n      <td>1</td>\n      <td>False</td>\n    </tr>\n    <tr>\n      <th>3</th>\n      <td>3</td>\n      <td>VenusaurMega Venusaur</td>\n      <td>Grass</td>\n      <td>Poison</td>\n      <td>625</td>\n      <td>80</td>\n      <td>100</td>\n      <td>123</td>\n      <td>122</td>\n      <td>120</td>\n      <td>80</td>\n      <td>1</td>\n      <td>False</td>\n    </tr>\n    <tr>\n      <th>4</th>\n      <td>4</td>\n      <td>Charmander</td>\n      <td>Fire</td>\n      <td>Normal</td>\n      <td>309</td>\n      <td>39</td>\n      <td>52</td>\n      <td>43</td>\n      <td>60</td>\n      <td>50</td>\n      <td>65</td>\n      <td>1</td>\n      <td>False</td>\n    </tr>\n  </tbody>\n</table>\n</div>"
     },
     "execution_count": 18,
     "metadata": {},
     "output_type": "execute_result"
    }
   ]
  },
  {
   "cell_type": "markdown",
   "source": [
    "# Save File\n",
    "\n",
    "## Complete Data processing\n"
   ],
   "metadata": {
    "id": "JNZpX9cvhsbZ",
    "pycharm": {
     "name": "#%% md\n"
    }
   }
  },
  {
   "cell_type": "code",
   "execution_count": 19,
   "outputs": [],
   "source": [
    "df.to_csv('pokemon_complete_data_processing.csv')"
   ],
   "metadata": {
    "collapsed": false,
    "pycharm": {
     "name": "#%%\n"
    }
   }
  }
 ]
}